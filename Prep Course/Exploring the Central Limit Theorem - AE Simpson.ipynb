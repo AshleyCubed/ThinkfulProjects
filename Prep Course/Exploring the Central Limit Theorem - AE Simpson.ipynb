{
 "cells": [
  {
   "cell_type": "markdown",
   "metadata": {},
   "source": [
    "<b>Reproduce the pop1 and pop2 populations and samples, using numpy's binomial function. <br/>\n",
    "Specifically, create two binomially distributed populations with n equal to 10 and size equal to 10000. <br/>\n",
    "The p-value of pop1 should be 0.2 and the p-value of pop2 should be 0.5. <br/>\n",
    "Using a sample size of 100, calculate the means and standard deviations of your samples.</b>"
   ]
  },
  {
   "cell_type": "code",
   "execution_count": 1,
   "metadata": {
    "collapsed": true
   },
   "outputs": [],
   "source": [
    "import numpy as np\n",
    "import pandas as pd\n",
    "import scipy\n",
    "import matplotlib.pyplot as plt\n",
    "%matplotlib inline"
   ]
  },
  {
   "cell_type": "code",
   "execution_count": 5,
   "metadata": {},
   "outputs": [
    {
     "name": "stdout",
     "output_type": "stream",
     "text": [
      "2.21\n",
      "4.89\n",
      "1.16871724553\n",
      "1.57413468293\n",
      "2.68\n"
     ]
    },
    {
     "data": {
      "image/png": "[encoded data removed]",
      "text/plain": [
       "<matplotlib.figure.Figure at 0x1b7fb03bc18>"
      ]
     },
     "metadata": {},
     "output_type": "display_data"
    }
   ],
   "source": [
    "#create two binomially distributed populations\n",
    "pop1 = np.random.binomial(10, 0.2, 10000)\n",
    "pop2 = np.random.binomial(10,0.5, 10000) \n",
    "\n",
    "#sample size of 100\n",
    "sample1 = np.random.choice(pop1, 100, replace=True)\n",
    "sample2 = np.random.choice(pop2, 100, replace=True)\n",
    "\n",
    "#calculate the means and standard deviations\n",
    "print(sample1.mean())\n",
    "print(sample2.mean())\n",
    "print(sample1.std())\n",
    "print(sample2.std())\n",
    "\n",
    "# Compute the difference between the two sample means.\n",
    "diff=sample2.mean( ) -sample1.mean()\n",
    "print(diff)\n",
    "\n",
    "#showing the plots in histograms\n",
    "plt.hist(sample1, alpha=0.5, label='sample 1') \n",
    "plt.hist(sample2, alpha=0.5, label='sample 2') \n",
    "plt.legend(loc='upper right') \n",
    "plt.show()"
   ]
  },
  {
   "cell_type": "markdown",
   "metadata": {},
   "source": [
    "<b>Increase the size of your samples from 100 to 1000, then calculate the means and standard deviations for your new samples and create histograms for each. Repeat this again, decreasing the size of your samples to 20. What values change, and what remain the same?</b>"
   ]
  },
  {
   "cell_type": "code",
   "execution_count": 9,
   "metadata": {},
   "outputs": [
    {
     "name": "stdout",
     "output_type": "stream",
     "text": [
      "Mean1 is:  2.008\n",
      "Mean2 is:  4.966\n",
      "Standard deviation of 1 is:  1.2953516897\n",
      "Standard deviation of 2 is:  1.55783311045\n",
      "Differenes between sample means:  2.958\n"
     ]
    },
    {
     "data": {
      "image/png": "[encoded data removed]",
      "text/plain": [
       "<matplotlib.figure.Figure at 0x1b7fae9f4e0>"
      ]
     },
     "metadata": {},
     "output_type": "display_data"
    }
   ],
   "source": [
    "# before computing, I believe the means and standard \n",
    "# deviations will increase slightly\n",
    "#######\n",
    "\n",
    "#sample size increased to 1000\n",
    "sample1 = np.random.choice(pop1, 1000, replace=True)\n",
    "sample2 = np.random.choice(pop2, 1000, replace=True)\n",
    "\n",
    "#calculate the means and standard deviations at sample = 1000\n",
    "print('Mean1 is: ', sample1.mean())\n",
    "print('Mean2 is: ', sample2.mean())\n",
    "print('Standard deviation of 1 is: ', sample1.std())\n",
    "print('Standard deviation of 2 is: ', sample2.std())\n",
    "\n",
    "# Compute the difference between the two sample means.\n",
    "diff=sample2.mean( ) -sample1.mean()\n",
    "print('Differenes between sample means: ', diff)\n",
    "\n",
    "#showing the plots in histograms\n",
    "plt.hist(sample1, alpha=0.5, label='sample 1') \n",
    "plt.hist(sample2, alpha=0.5, label='sample 2') \n",
    "plt.legend(loc='upper right') \n",
    "plt.show()"
   ]
  },
  {
   "cell_type": "code",
   "execution_count": 10,
   "metadata": {},
   "outputs": [
    {
     "name": "stdout",
     "output_type": "stream",
     "text": [
      "Mean1 is:  1.9\n",
      "Mean2 is:  5.5\n",
      "Standard deviation of 1 is:  1.33790881603\n",
      "Standard deviation of 2 is:  1.46628782986\n",
      "Differenes between sample means:  3.6\n"
     ]
    },
    {
     "data": {
      "image/png": "[encoded data removed]",
      "text/plain": [
       "<matplotlib.figure.Figure at 0x1b7fc4b87b8>"
      ]
     },
     "metadata": {},
     "output_type": "display_data"
    }
   ],
   "source": [
    "#sample size decreased to 20\n",
    "sample1 = np.random.choice(pop1, 20, replace=True)\n",
    "sample2 = np.random.choice(pop2, 20, replace=True)\n",
    "\n",
    "#calculate the means and standard deviations at sample = 1000\n",
    "print('Mean1 is: ', sample1.mean())\n",
    "print('Mean2 is: ', sample2.mean())\n",
    "print('Standard deviation of 1 is: ', sample1.std())\n",
    "print('Standard deviation of 2 is: ', sample2.std())\n",
    "\n",
    "# Compute the difference between the two sample means.\n",
    "diff=sample2.mean( ) -sample1.mean()\n",
    "print('Differenes between sample means: ', diff)\n",
    "\n",
    "#showing the plots in histograms\n",
    "plt.hist(sample1, alpha=0.5, label='sample 1') \n",
    "plt.hist(sample2, alpha=0.5, label='sample 2') \n",
    "plt.legend(loc='upper right') \n",
    "plt.show()"
   ]
  },
  {
   "attachments": {},
   "cell_type": "markdown",
   "metadata": {},
   "source": [
    "Both increasing the sample size (to 1000) and decreasing the sample size (to 20) caused the first mean to decrease and the second mean to increase. So the standard deviation of sample 1 increased with both changes, and the standard deviation of sample 2 decreased slightly with each change. The differences between the sample sizes increased with each change."
   ]
  },
  {
   "cell_type": "markdown",
   "metadata": {},
   "source": [
    "<b>Change the probability value (p in the NumPy documentation) for pop1 to 0.3, then take new samples and compute the t-statistic and p-value. Then change the probability value p for group 1 to 0.4, and do it again. What changes, and why?</b>"
   ]
  },
  {
   "cell_type": "code",
   "execution_count": 12,
   "metadata": {},
   "outputs": [
    {
     "name": "stdout",
     "output_type": "stream",
     "text": [
      "mean1 2.81\n",
      "mean2 4.92\n",
      "sd1 1.56649289816\n",
      "sd2 1.56639713994\n",
      "difference between means  2.11\n",
      "Ttest_indResult(statistic=9.4769785676273663, pvalue=8.3020723615057154e-18)\n"
     ]
    }
   ],
   "source": [
    "#create two binomially distributed populations\n",
    "pop1 = np.random.binomial(10, 0.3, 10000)\n",
    "pop2 = np.random.binomial(10,0.5, 10000) \n",
    "\n",
    "#sample size of 100\n",
    "sample1 = np.random.choice(pop1, 100, replace=True)\n",
    "sample2 = np.random.choice(pop2, 100, replace=True)\n",
    "\n",
    "#compute the means and standard deviations\n",
    "print('mean1', sample1.mean())\n",
    "print('mean2', sample2.mean())\n",
    "print('sd1', sample1.std())\n",
    "print('sd2', sample2.std())\n",
    "\n",
    "# Compute the difference between the two sample means.\n",
    "diff=sample2.mean( ) -sample1.mean()\n",
    "print('difference between means ', diff)\n",
    "\n",
    "#compute the t-statistic and p-value\n",
    "from scipy.stats import ttest_ind\n",
    "print(ttest_ind(sample2, sample1, equal_var=False))"
   ]
  },
  {
   "cell_type": "code",
   "execution_count": 13,
   "metadata": {},
   "outputs": [
    {
     "name": "stdout",
     "output_type": "stream",
     "text": [
      "mean1 4.25\n",
      "mean2 4.94\n",
      "sd1 1.41686273153\n",
      "sd2 1.66024094637\n",
      "difference between means  0.69\n",
      "Ttest_indResult(statistic=3.1454687131069798, pvalue=0.0019203409025984567)\n"
     ]
    }
   ],
   "source": [
    "#create two binomially distributed populations\n",
    "#pop1 p=0.4\n",
    "pop1 = np.random.binomial(10, 0.4, 10000)\n",
    "pop2 = np.random.binomial(10,0.5, 10000) \n",
    "\n",
    "#sample size of 100\n",
    "sample1 = np.random.choice(pop1, 100, replace=True)\n",
    "sample2 = np.random.choice(pop2, 100, replace=True)\n",
    "\n",
    "#compute the means and standard deviations\n",
    "print('mean1', sample1.mean())\n",
    "print('mean2', sample2.mean())\n",
    "print('sd1', sample1.std())\n",
    "print('sd2', sample2.std())\n",
    "\n",
    "# Compute the difference between the two sample means.\n",
    "diff=sample2.mean( ) -sample1.mean()\n",
    "print('difference between means ', diff)\n",
    "\n",
    "#compute the t-statistic and p-value\n",
    "from scipy.stats import ttest_ind\n",
    "print(ttest_ind(sample2, sample1, equal_var=False))"
   ]
  },
  {
   "attachments": {},
   "cell_type": "markdown",
   "metadata": {},
   "source": [
    "Changing the p-value of pop1 to 0.4 caused mean1 to increase about 1.5 times. This caused only a slight change in standard deviations, but a huge change in the difference between means, t-statistic, and p-values."
   ]
  },
  {
   "cell_type": "markdown",
   "metadata": {},
   "source": [
    "<b>Change the distribution of your populations from binomial to a distribution of your choice. Do the sample mean values still accurately represent the population values?</b>"
   ]
  },
  {
   "cell_type": "code",
   "execution_count": 14,
   "metadata": {},
   "outputs": [
    {
     "name": "stdout",
     "output_type": "stream",
     "text": [
      "2.00191452233\n",
      "5.06744681414\n",
      "0.563161848141\n",
      "1.4794233105\n",
      "3.06553229182\n"
     ]
    },
    {
     "data": {
      "image/png": "[encoded data removed]",
      "text/plain": [
       "<matplotlib.figure.Figure at 0x1b7fb3d3630>"
      ]
     },
     "metadata": {},
     "output_type": "display_data"
    }
   ],
   "source": [
    "#change distribution of populations to a gamma distribution\n",
    "pop1 = np.random.gamma(10, 0.2, 10000)\n",
    "pop2 = np.random.gamma(10,0.5, 10000) \n",
    "\n",
    "#sample size of 100\n",
    "sample1 = np.random.choice(pop1, 100, replace=True)\n",
    "sample2 = np.random.choice(pop2, 100, replace=True)\n",
    "\n",
    "#calculate the means and standard deviations\n",
    "print(sample1.mean())\n",
    "print(sample2.mean())\n",
    "print(sample1.std())\n",
    "print(sample2.std())\n",
    "\n",
    "# Compute the difference between the two sample means.\n",
    "diff=sample2.mean( ) -sample1.mean()\n",
    "print(diff)\n",
    "\n",
    "#showing the plots in histograms\n",
    "plt.hist(sample1, alpha=0.5, label='sample 1') \n",
    "plt.hist(sample2, alpha=0.5, label='sample 2') \n",
    "plt.legend(loc='upper right') \n",
    "plt.show()"
   ]
  },
  {
   "cell_type": "markdown",
   "metadata": {},
   "source": [
    "The sample mean values do indeed still represent the population values because, according to the central limit theorem, as long as the sample sizes are large enough the statistics should work, regardless of the type of distribution."
   ]
  }
 ],
 "metadata": {
  "kernelspec": {
   "display_name": "Python 3",
   "language": "python",
   "name": "python3"
  },
  "language_info": {
   "codemirror_mode": {
    "name": "ipython",
    "version": 3
   },
   "file_extension": ".py",
   "mimetype": "text/x-python",
   "name": "python",
   "nbconvert_exporter": "python",
   "pygments_lexer": "ipython3",
   "version": "3.6.3"
  }
 },
 "nbformat": 4,
 "nbformat_minor": 2
}
