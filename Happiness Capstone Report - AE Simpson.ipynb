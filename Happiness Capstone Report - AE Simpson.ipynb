{
 "cells": [
  {
   "cell_type": "markdown",
   "metadata": {},
   "source": [
    "<h1>World Happiness</h1>\n",
    "<p>The dataset in this report is courtesy of Kaggle.com, but the actual data has been collected by the Gallup World Poll and published to http://worldhappiness.report/ by independent experts. My analysis is focusing on what factors create the happiest places in the world. </p>\n",
    "\n",
    "<h3>Questions to ask</h3>\n",
    "1.\tThere are 7 factors that lead to each country’s happiness score. Does a high score in happiness correlate to high score across the board, or are there any correlations among the 7 factors?\n",
    "    a.\tDo the richest (respectively) countries correlate to being the happiest, or are there other factors that rank highly among the ‘happiest’ countries?\n",
    "2. Are there similarities, like geographic location, for the top 25 countries?\n",
    "\ta. How do the top 25 countries compare to the middle and lowest ranked countries?\n",
    "3. There are 10 different geographical regions that the counties have been grouped in. Are there similarities between the regions (regardless of happiness score)?"
   ]
  }
 ],
 "metadata": {
  "kernelspec": {
   "display_name": "Python 3",
   "language": "python",
   "name": "python3"
  },
  "language_info": {
   "codemirror_mode": {
    "name": "ipython",
    "version": 3
   },
   "file_extension": ".py",
   "mimetype": "text/x-python",
   "name": "python",
   "nbconvert_exporter": "python",
   "pygments_lexer": "ipython3",
   "version": "3.6.3"
  }
 },
 "nbformat": 4,
 "nbformat_minor": 2
}
