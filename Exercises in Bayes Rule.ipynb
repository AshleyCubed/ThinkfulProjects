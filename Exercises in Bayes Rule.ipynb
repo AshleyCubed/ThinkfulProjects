{
 "cells": [
  {
   "cell_type": "markdown",
   "metadata": {},
   "source": [
    "A diagnostic test has a 98% probability of giving a positive result when applied to a person suffering from Thripshaw's Disease, and 10% probability of giving a (false) positive when applied to a non-sufferer. It is estimated that 0.5 % of the population are sufferers. Suppose that the test is now administered to a person whose disease status is unknown. <br/>Calculate the probability that the test will: <br/>\n",
    "\n",
    "Be positive <br/>\n",
    "Correctly diagnose a sufferer of Thripshaw's <br/>\n",
    "Correctly identify a non-sufferer of Thripshaw's <br/>\n",
    "Misclassify the person <br/>"
   ]
  },
  {
   "cell_type": "code",
   "execution_count": 3,
   "metadata": {},
   "outputs": [
    {
     "name": "stdout",
     "output_type": "stream",
     "text": [
      "0.1044\n"
     ]
    }
   ],
   "source": [
    "#Probability of being positive\n",
    "p = (.98*.005)+(.1*(1-.005)) #98% of the known population of sufferers and 10% of the rest of the population\n",
    "print(p)"
   ]
  },
  {
   "attachments": {},
   "cell_type": "markdown",
   "metadata": {},
   "source": [
    "<i></u>Correctly diagnose a sufferer of Thripshaw's </u></i><br/>\n",
    "98% <br/><br/>\n",
    "That answer was given in the problem description"
   ]
  },
  {
   "cell_type": "markdown",
   "metadata": {},
   "source": [
    "<i></u>Correctly identify a non-sufferer of Thripshaw's </u></i><br/>\n",
    "90% <br/><br/>\n",
    "Only ten percent of non-sufferer's receive a false-positve. The remaining receive the correct result."
   ]
  },
  {
   "cell_type": "code",
   "execution_count": 10,
   "metadata": {},
   "outputs": [
    {
     "name": "stdout",
     "output_type": "stream",
     "text": [
      "0.0996\n"
     ]
    }
   ],
   "source": [
    "#Misclassify a person\n",
    "pm = 1 -((.98*.005) + (.9*(1-.005))) #98% known population and 90% of the non-sufferers who are correctly tested\n",
    "print(round(pm, 4))"
   ]
  },
  {
   "cell_type": "markdown",
   "metadata": {},
   "source": [
    "<u>Answers:</u> <br/>\n",
    "Be positive <b>10.44%</b><br/>\n",
    "Correctly diagnose a sufferer of Thripshaw's <b>98%</b><br/>\n",
    "Correctly identify a non-sufferer of Thripshaw's <b>90%</b><br/>\n",
    "Misclassify the person <b>9.96%<b/>"
   ]
  },
  {
   "cell_type": "code",
   "execution_count": null,
   "metadata": {
    "collapsed": true
   },
   "outputs": [],
   "source": []
  }
 ],
 "metadata": {
  "kernelspec": {
   "display_name": "Python 3",
   "language": "python",
   "name": "python3"
  },
  "language_info": {
   "codemirror_mode": {
    "name": "ipython",
    "version": 3
   },
   "file_extension": ".py",
   "mimetype": "text/x-python",
   "name": "python",
   "nbconvert_exporter": "python",
   "pygments_lexer": "ipython3",
   "version": "3.6.3"
  }
 },
 "nbformat": 4,
 "nbformat_minor": 2
}
