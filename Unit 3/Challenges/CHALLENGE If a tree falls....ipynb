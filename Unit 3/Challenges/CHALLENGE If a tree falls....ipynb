{
 "cells": [
  {
   "cell_type": "markdown",
   "metadata": {},
   "source": [
    "# Challenge: If a tree falls in the forest...\n",
    "Pick a dataset. It could be old or new. Then build the best decision tree you can. Now try to match that with the simplest random forest you can. For our purposes measure simplicity with runtime.\n",
    "\n",
    "> Initially I was working with the auto-mpg data found on the UCI dataset websit, but there are many issues with nonlinearity and it produced very poor scores no matter what feature engineering was applied to it. So instead I'm working with EPA fuel efficiency data from 2016 found here https://www.epa.gov/compliance-and-fuel-economy-data/data-cars-used-testing-fuel-economy"
   ]
  },
  {
   "cell_type": "code",
   "execution_count": 1,
   "metadata": {},
   "outputs": [
    {
     "name": "stderr",
     "output_type": "stream",
     "text": [
      "/Users/research/anaconda3/lib/python3.6/site-packages/sklearn/ensemble/weight_boosting.py:29: DeprecationWarning: numpy.core.umath_tests is an internal NumPy module and should not be imported. It will be removed in a future NumPy release.\n",
      "  from numpy.core.umath_tests import inner1d\n"
     ]
    }
   ],
   "source": [
    "%matplotlib inline\n",
    "\n",
    "import pandas  as pd \n",
    "import numpy  as np\n",
    "import scipy\n",
    "from sklearn import tree\n",
    "from sklearn import ensemble\n",
    "from sklearn.ensemble import RandomForestRegressor, RandomForestClassifier\n",
    "from sklearn.model_selection import cross_val_score\n",
    "\n",
    "from sklearn.model_selection import train_test_split\n",
    "import time"
   ]
  },
  {
   "cell_type": "code",
   "execution_count": 2,
   "metadata": {},
   "outputs": [
    {
     "data": {
      "text/html": [
       "<div>\n",
       "<style scoped>\n",
       "    .dataframe tbody tr th:only-of-type {\n",
       "        vertical-align: middle;\n",
       "    }\n",
       "\n",
       "    .dataframe tbody tr th {\n",
       "        vertical-align: top;\n",
       "    }\n",
       "\n",
       "    .dataframe thead th {\n",
       "        text-align: right;\n",
       "    }\n",
       "</style>\n",
       "<table border=\"1\" class=\"dataframe\">\n",
       "  <thead>\n",
       "    <tr style=\"text-align: right;\">\n",
       "      <th></th>\n",
       "      <th>Model Year</th>\n",
       "      <th>Vehicle Manufacturer Name</th>\n",
       "      <th>Veh Mfr Code</th>\n",
       "      <th>Represented Test Veh Make</th>\n",
       "      <th>Represented Test Veh Model</th>\n",
       "      <th>Test Vehicle ID</th>\n",
       "      <th>Test Veh Configuration #</th>\n",
       "      <th>Test Veh Displacement (L)</th>\n",
       "      <th>Actual Tested Testgroup</th>\n",
       "      <th>Vehicle Type</th>\n",
       "      <th>...</th>\n",
       "      <th>Set Coef A (lbf)</th>\n",
       "      <th>Set Coef B (lbf/mph)</th>\n",
       "      <th>Set Coef C (lbf/mph**2)</th>\n",
       "      <th>Aftertreatment Device Cd</th>\n",
       "      <th>Aftertreatment Device Desc</th>\n",
       "      <th>Police - Emergency Vehicle?</th>\n",
       "      <th>Averaging Group ID</th>\n",
       "      <th>Averaging Weighting Factor</th>\n",
       "      <th>Averaging Method Cd</th>\n",
       "      <th>Averging Method Desc</th>\n",
       "    </tr>\n",
       "  </thead>\n",
       "  <tbody>\n",
       "    <tr>\n",
       "      <th>0</th>\n",
       "      <td>2016</td>\n",
       "      <td>aston martin</td>\n",
       "      <td>ASX</td>\n",
       "      <td>Aston Martin</td>\n",
       "      <td>DB9</td>\n",
       "      <td>143TT1042</td>\n",
       "      <td>0</td>\n",
       "      <td>5.9</td>\n",
       "      <td>DASXV05.9VH1</td>\n",
       "      <td>Car</td>\n",
       "      <td>...</td>\n",
       "      <td>8.35</td>\n",
       "      <td>0.299</td>\n",
       "      <td>0.0192</td>\n",
       "      <td>TWC</td>\n",
       "      <td>Three-way catalyst</td>\n",
       "      <td>N</td>\n",
       "      <td>NaN</td>\n",
       "      <td>NaN</td>\n",
       "      <td>N</td>\n",
       "      <td>No averaging</td>\n",
       "    </tr>\n",
       "    <tr>\n",
       "      <th>1</th>\n",
       "      <td>2016</td>\n",
       "      <td>aston martin</td>\n",
       "      <td>ASX</td>\n",
       "      <td>Aston Martin</td>\n",
       "      <td>DB9</td>\n",
       "      <td>143TT1042</td>\n",
       "      <td>0</td>\n",
       "      <td>5.9</td>\n",
       "      <td>DASXV05.9VH1</td>\n",
       "      <td>Car</td>\n",
       "      <td>...</td>\n",
       "      <td>8.35</td>\n",
       "      <td>0.299</td>\n",
       "      <td>0.0192</td>\n",
       "      <td>TWC</td>\n",
       "      <td>Three-way catalyst</td>\n",
       "      <td>N</td>\n",
       "      <td>NaN</td>\n",
       "      <td>NaN</td>\n",
       "      <td>N</td>\n",
       "      <td>No averaging</td>\n",
       "    </tr>\n",
       "  </tbody>\n",
       "</table>\n",
       "<p>2 rows × 67 columns</p>\n",
       "</div>"
      ],
      "text/plain": [
       "   Model Year Vehicle Manufacturer Name Veh Mfr Code  \\\n",
       "0        2016              aston martin          ASX   \n",
       "1        2016              aston martin          ASX   \n",
       "\n",
       "  Represented Test Veh Make Represented Test Veh Model Test Vehicle ID  \\\n",
       "0              Aston Martin                        DB9       143TT1042   \n",
       "1              Aston Martin                        DB9       143TT1042   \n",
       "\n",
       "   Test Veh Configuration #  Test Veh Displacement (L)  \\\n",
       "0                         0                        5.9   \n",
       "1                         0                        5.9   \n",
       "\n",
       "  Actual Tested Testgroup Vehicle Type          ...           \\\n",
       "0            DASXV05.9VH1          Car          ...            \n",
       "1            DASXV05.9VH1          Car          ...            \n",
       "\n",
       "   Set Coef A (lbf)  Set Coef B (lbf/mph) Set Coef C (lbf/mph**2)  \\\n",
       "0              8.35                 0.299                  0.0192   \n",
       "1              8.35                 0.299                  0.0192   \n",
       "\n",
       "  Aftertreatment Device Cd Aftertreatment Device Desc  \\\n",
       "0                      TWC         Three-way catalyst   \n",
       "1                      TWC         Three-way catalyst   \n",
       "\n",
       "   Police - Emergency Vehicle? Averaging Group ID Averaging Weighting Factor  \\\n",
       "0                            N                NaN                        NaN   \n",
       "1                            N                NaN                        NaN   \n",
       "\n",
       "  Averaging Method Cd  Averging Method Desc  \n",
       "0                   N          No averaging  \n",
       "1                   N          No averaging  \n",
       "\n",
       "[2 rows x 67 columns]"
      ]
     },
     "execution_count": 2,
     "metadata": {},
     "output_type": "execute_result"
    }
   ],
   "source": [
    "data = pd.read_csv(\"16tstcar.csv\") \n",
    "data.head(2)"
   ]
  },
  {
   "cell_type": "code",
   "execution_count": 3,
   "metadata": {},
   "outputs": [],
   "source": [
    "# Create a new dataframe and take only numerical values\n",
    "epa = pd.DataFrame()\n",
    "epa = data.select_dtypes([np.number])"
   ]
  },
  {
   "cell_type": "code",
   "execution_count": 4,
   "metadata": {},
   "outputs": [
    {
     "name": "stderr",
     "output_type": "stream",
     "text": [
      "/Users/research/anaconda3/lib/python3.6/site-packages/ipykernel_launcher.py:2: SettingWithCopyWarning: \n",
      "A value is trying to be set on a copy of a slice from a DataFrame.\n",
      "Try using .loc[row_indexer,col_indexer] = value instead\n",
      "\n",
      "See the caveats in the documentation: http://pandas.pydata.org/pandas-docs/stable/indexing.html#indexing-view-versus-copy\n",
      "  \n",
      "/Users/research/anaconda3/lib/python3.6/site-packages/ipykernel_launcher.py:3: SettingWithCopyWarning: \n",
      "A value is trying to be set on a copy of a slice from a DataFrame.\n",
      "Try using .loc[row_indexer,col_indexer] = value instead\n",
      "\n",
      "See the caveats in the documentation: http://pandas.pydata.org/pandas-docs/stable/indexing.html#indexing-view-versus-copy\n",
      "  This is separate from the ipykernel package so we can avoid doing imports until\n"
     ]
    },
    {
     "data": {
      "text/plain": [
       "Index(['Model Year', 'Test Veh Configuration #', 'Test Veh Displacement (L)',\n",
       "       'Rated Horsepower', '# of Cylinders and Rotors', '# of Gears',\n",
       "       'Transmission Overdrive Code', 'Equivalent Test Weight (lbs.)',\n",
       "       'Axle Ratio', 'N/V Ratio', 'Shift Indicator Light Use Cd',\n",
       "       'ADFE Total Road Load HP', 'ADFE Equiv. Test Weight (lbs.)',\n",
       "       'ADFE N/V Ratio', 'Test Procedure Cd', 'Test Fuel Type Cd',\n",
       "       'THC (g/mi)', 'CO (g/mi)', 'CO2 (g/mi)', 'NOx (g/mi)', 'PM (g/mi)',\n",
       "       'CH4 (g/mi)', 'N2O (g/mi)', 'RND_ADJ_FE', 'FE Bag 1', 'FE Bag 2',\n",
       "       'FE Bag 3', 'FE Bag 4', 'DT-Inertia Work Ratio Rating',\n",
       "       'DT-Absolute Speed Change Ratg', 'DT-Energy Economy Rating',\n",
       "       'Target Coef A (lbf)', 'Target Coef B (lbf/mph)',\n",
       "       'Target Coef C (lbf/mph**2)', 'Set Coef A (lbf)',\n",
       "       'Set Coef B (lbf/mph)', 'Set Coef C (lbf/mph**2)',\n",
       "       'Averaging Weighting Factor', 'Brand', 'Vehicle Type'],\n",
       "      dtype='object')"
      ]
     },
     "execution_count": 4,
     "metadata": {},
     "output_type": "execute_result"
    }
   ],
   "source": [
    "# Add a couple categorical values for reference\n",
    "epa['Brand'] = data['Vehicle Manufacturer Name']\n",
    "epa['Vehicle Type'] = data['Vehicle Type']\n",
    "\n",
    "epa.columns"
   ]
  },
  {
   "cell_type": "code",
   "execution_count": 5,
   "metadata": {},
   "outputs": [
    {
     "data": {
      "text/plain": [
       "Model Year                           0\n",
       "Test Veh Configuration #             0\n",
       "Test Veh Displacement (L)            0\n",
       "Rated Horsepower                     0\n",
       "# of Cylinders and Rotors          140\n",
       "# of Gears                           0\n",
       "Transmission Overdrive Code          0\n",
       "Equivalent Test Weight (lbs.)        0\n",
       "Axle Ratio                           0\n",
       "N/V Ratio                            0\n",
       "Shift Indicator Light Use Cd         0\n",
       "ADFE Total Road Load HP           4184\n",
       "ADFE Equiv. Test Weight (lbs.)    4182\n",
       "ADFE N/V Ratio                    4184\n",
       "Test Procedure Cd                    0\n",
       "Test Fuel Type Cd                    0\n",
       "THC (g/mi)                         437\n",
       "CO (g/mi)                          436\n",
       "CO2 (g/mi)                         142\n",
       "NOx (g/mi)                         475\n",
       "PM (g/mi)                         3997\n",
       "CH4 (g/mi)                         794\n",
       "N2O (g/mi)                        2923\n",
       "RND_ADJ_FE                           4\n",
       "FE Bag 1                          2538\n",
       "FE Bag 2                          2538\n",
       "FE Bag 3                          2787\n",
       "FE Bag 4                          4533\n",
       "DT-Inertia Work Ratio Rating      2131\n",
       "DT-Absolute Speed Change Ratg     2131\n",
       "DT-Energy Economy Rating          2131\n",
       "Target Coef A (lbf)                  0\n",
       "Target Coef B (lbf/mph)              0\n",
       "Target Coef C (lbf/mph**2)           0\n",
       "Set Coef A (lbf)                     0\n",
       "Set Coef B (lbf/mph)                 0\n",
       "Set Coef C (lbf/mph**2)              0\n",
       "Averaging Weighting Factor        4293\n",
       "Brand                                0\n",
       "Vehicle Type                         0\n",
       "dtype: int64"
      ]
     },
     "execution_count": 5,
     "metadata": {},
     "output_type": "execute_result"
    }
   ],
   "source": [
    "epa.isnull().sum()"
   ]
  },
  {
   "cell_type": "code",
   "execution_count": 6,
   "metadata": {},
   "outputs": [
    {
     "name": "stderr",
     "output_type": "stream",
     "text": [
      "/Users/research/anaconda3/lib/python3.6/site-packages/pandas/core/generic.py:5434: SettingWithCopyWarning: \n",
      "A value is trying to be set on a copy of a slice from a DataFrame\n",
      "\n",
      "See the caveats in the documentation: http://pandas.pydata.org/pandas-docs/stable/indexing.html#indexing-view-versus-copy\n",
      "  self._update_inplace(new_data)\n",
      "/Users/research/anaconda3/lib/python3.6/site-packages/ipykernel_launcher.py:12: SettingWithCopyWarning: \n",
      "A value is trying to be set on a copy of a slice from a DataFrame\n",
      "\n",
      "See the caveats in the documentation: http://pandas.pydata.org/pandas-docs/stable/indexing.html#indexing-view-versus-copy\n",
      "  if sys.path[0] == '':\n"
     ]
    }
   ],
   "source": [
    "# Some columns only have a small amount of missing values. \n",
    "# Replace them with the average for that column\n",
    "epa['# of Cylinders and Rotors'].fillna(epa['# of Cylinders and Rotors'].mean(), inplace=True)\n",
    "epa['THC (g/mi)'].fillna(epa['THC (g/mi)'].mean(), inplace=True)\n",
    "epa['CO (g/mi)'].fillna(epa['CO (g/mi)'].mean(), inplace=True)\n",
    "epa['CO2 (g/mi)'].fillna(epa['CO2 (g/mi)'].mean(), inplace=True)\n",
    "epa['NOx (g/mi)'].fillna(epa['NOx (g/mi)'].mean(), inplace=True)\n",
    "epa['CH4 (g/mi)'].fillna(epa['CH4 (g/mi)'].mean(), inplace=True)\n",
    "epa['RND_ADJ_FE'].fillna(epa['RND_ADJ_FE'].mean(), inplace=True)\n",
    "\n",
    "# drop columns with majority null values\n",
    "epa.dropna(axis=1, inplace=True)"
   ]
  },
  {
   "cell_type": "code",
   "execution_count": 7,
   "metadata": {},
   "outputs": [
    {
     "name": "stderr",
     "output_type": "stream",
     "text": [
      "/Users/research/anaconda3/lib/python3.6/site-packages/pandas/core/frame.py:3781: SettingWithCopyWarning: \n",
      "A value is trying to be set on a copy of a slice from a DataFrame\n",
      "\n",
      "See the caveats in the documentation: http://pandas.pydata.org/pandas-docs/stable/indexing.html#indexing-view-versus-copy\n",
      "  return super(DataFrame, self).rename(**kwargs)\n"
     ]
    }
   ],
   "source": [
    "# Rename column for easier reference\n",
    "epa.rename(columns={'RND_ADJ_FE':'MPG'}, \n",
    "          inplace=True)\n",
    "\n",
    "# Separate features from the target\n",
    "X = epa.drop('MPG', 1)\n",
    "Y = epa['MPG']\n",
    "X = pd.get_dummies(X)\n",
    "X = X.dropna(axis=1) "
   ]
  },
  {
   "cell_type": "markdown",
   "metadata": {},
   "source": [
    "## Initial run"
   ]
  },
  {
   "cell_type": "code",
   "execution_count": 8,
   "metadata": {},
   "outputs": [
    {
     "name": "stdout",
     "output_type": "stream",
     "text": [
      "Runtime --- 6.008148193359375e-05 seconds ---\n",
      "0.005354146823850935\n"
     ]
    }
   ],
   "source": [
    "# Initialize our tree.\n",
    "dtc = tree.DecisionTreeRegressor(\n",
    "    max_features=1,\n",
    "    max_depth=4\n",
    ")\n",
    "dtc.fit(X, Y)\n",
    "\n",
    "# Time to render and Cross Validation scores\n",
    "start_time = time.time()\n",
    "print(\"Runtime --- %s seconds ---\" % (time.time() - start_time))\n",
    "print(dtc.score(X,Y))"
   ]
  },
  {
   "cell_type": "code",
   "execution_count": 9,
   "metadata": {},
   "outputs": [
    {
     "name": "stdout",
     "output_type": "stream",
     "text": [
      "Runtime --- 4.8160552978515625e-05 seconds ---\n",
      "0.9071518555000663\n"
     ]
    }
   ],
   "source": [
    "# Initialize our forest\n",
    "rfc = ensemble.RandomForestRegressor()\n",
    "rfc.fit(X,Y)\n",
    "\n",
    "start_time = time.time()\n",
    "print(\"Runtime --- %s seconds ---\" % (time.time() - start_time))\n",
    "print(rfc.score(X, Y))"
   ]
  },
  {
   "cell_type": "markdown",
   "metadata": {},
   "source": [
    "***The random forest ran in about half the time of the decision tree, and scored 170x's better. I'm going to do some feature reduction to try and get the decision tree to run better then test and train the data.***\n",
    "\n",
    "## Second attempt"
   ]
  },
  {
   "cell_type": "code",
   "execution_count": 10,
   "metadata": {},
   "outputs": [
    {
     "data": {
      "text/plain": [
       "Test Fuel Type Cd                0.556167\n",
       "N/V Ratio                        0.085058\n",
       "Equivalent Test Weight (lbs.)    0.075012\n",
       "# of Gears                       0.057145\n",
       "THC (g/mi)                       0.034072\n",
       "Test Procedure Cd                0.031264\n",
       "Target Coef B (lbf/mph)          0.026167\n",
       "Set Coef C (lbf/mph**2)          0.024983\n",
       "CO2 (g/mi)                       0.017695\n",
       "Shift Indicator Light Use Cd     0.015261\n",
       "dtype: float64"
      ]
     },
     "execution_count": 10,
     "metadata": {},
     "output_type": "execute_result"
    }
   ],
   "source": [
    "# Get the most important features\n",
    "features_imp = pd.Series(rfc.feature_importances_,index=X.columns).sort_values(ascending=False)[:10]\n",
    "features_imp"
   ]
  },
  {
   "cell_type": "code",
   "execution_count": 11,
   "metadata": {},
   "outputs": [
    {
     "name": "stderr",
     "output_type": "stream",
     "text": [
      "/Users/research/anaconda3/lib/python3.6/site-packages/sklearn/cross_validation.py:41: DeprecationWarning: This module was deprecated in version 0.18 in favor of the model_selection module into which all the refactored classes and functions are moved. Also note that the interface of the new CV iterators are different from that of this module. This module will be removed in 0.20.\n",
      "  \"This module will be removed in 0.20.\", DeprecationWarning)\n",
      "/Users/research/anaconda3/lib/python3.6/site-packages/sklearn/grid_search.py:42: DeprecationWarning: This module was deprecated in version 0.18 in favor of the model_selection module into which all the refactored classes and functions are moved. This module will be removed in 0.20.\n",
      "  DeprecationWarning)\n"
     ]
    },
    {
     "data": {
      "text/plain": [
       "GridSearchCV(cv=10, error_score='raise',\n",
       "       estimator=DecisionTreeRegressor(criterion='mse', max_depth=4, max_features=1,\n",
       "           max_leaf_nodes=None, min_impurity_decrease=0.0,\n",
       "           min_impurity_split=None, min_samples_leaf=1,\n",
       "           min_samples_split=2, min_weight_fraction_leaf=0.0,\n",
       "           presort=False, random_state=None, splitter='best'),\n",
       "       fit_params={}, iid=True, n_jobs=1,\n",
       "       param_grid={'max_features': [1, 3, 5], 'max_depth': [1, 2, 3, 4, 5, 6]},\n",
       "       pre_dispatch='2*n_jobs', refit=True, scoring=None, verbose=0)"
      ]
     },
     "execution_count": 11,
     "metadata": {},
     "output_type": "execute_result"
    }
   ],
   "source": [
    "from sklearn.grid_search import GridSearchCV\n",
    "\n",
    "features = X[['Test Fuel Type Cd', 'THC (g/mi)', 'NOx (g/mi)', 'CO2 (g/mi)', 'Test Veh Configuration #', \n",
    "             'N/V Ratio', 'Test Procedure Cd', 'Set Coef A (lbf)', 'Rated Horsepower']]\n",
    "\n",
    "parameters = {\n",
    "    'max_features':[1,3,5],\n",
    "    'max_depth':[1,2,3,4,5,6]    \n",
    "}\n",
    "\n",
    "grid = GridSearchCV(dtc, parameters, cv=10, verbose=0)\n",
    "#Fit the Data\n",
    "grid.fit(features, Y)"
   ]
  },
  {
   "cell_type": "code",
   "execution_count": 12,
   "metadata": {},
   "outputs": [
    {
     "name": "stdout",
     "output_type": "stream",
     "text": [
      "-2.8158302216222353\n",
      "{'max_depth': 4, 'max_features': 5}\n"
     ]
    }
   ],
   "source": [
    "print(grid.best_score_)\n",
    "print(grid.best_params_)"
   ]
  },
  {
   "cell_type": "code",
   "execution_count": 18,
   "metadata": {},
   "outputs": [
    {
     "name": "stdout",
     "output_type": "stream",
     "text": [
      "Runtime --- 5.1021575927734375e-05 seconds ---\n",
      "0.5188605060046264\n"
     ]
    }
   ],
   "source": [
    "# Initialize our tree.\n",
    "dtc = tree.DecisionTreeRegressor(\n",
    "    max_features=5,\n",
    "    max_depth=4\n",
    ")\n",
    "dtc.fit(features, Y)\n",
    "# Time to render and Cross Validation scores\n",
    "start_time = time.time()\n",
    "print(\"Runtime --- %s seconds ---\" % (time.time() - start_time))\n",
    "print(dtc.score(features,Y))"
   ]
  },
  {
   "cell_type": "markdown",
   "metadata": {},
   "source": [
    "***The runtime barely improved, but the score improved greatly***"
   ]
  },
  {
   "cell_type": "code",
   "execution_count": 14,
   "metadata": {},
   "outputs": [
    {
     "name": "stdout",
     "output_type": "stream",
     "text": [
      "Runtime --- 4.982948303222656e-05 seconds ---\n",
      "0.9724274247283814\n"
     ]
    }
   ],
   "source": [
    "# Initialize our forest\n",
    "rfc = ensemble.RandomForestRegressor()\n",
    "rfc.fit(features,Y)\n",
    "\n",
    "start_time = time.time()\n",
    "print(\"Runtime --- %s seconds ---\" % (time.time() - start_time))\n",
    "print(rfc.score(features, Y))"
   ]
  },
  {
   "cell_type": "markdown",
   "metadata": {},
   "source": [
    "***Runtime is about the same, but the score improved to the point it may be overfitting.***"
   ]
  },
  {
   "cell_type": "markdown",
   "metadata": {},
   "source": [
    "## Third attempt\n",
    "\n",
    "### Train Test Split"
   ]
  },
  {
   "cell_type": "code",
   "execution_count": 15,
   "metadata": {},
   "outputs": [],
   "source": [
    "#Split the data into training and validation\n",
    "X_train, X_test, y_train, y_test = train_test_split(features,Y)"
   ]
  },
  {
   "cell_type": "code",
   "execution_count": 24,
   "metadata": {},
   "outputs": [
    {
     "name": "stdout",
     "output_type": "stream",
     "text": [
      "Runtime --- 0.006599903106689453 seconds ---\n",
      "0.9992712049437592\n"
     ]
    }
   ],
   "source": [
    "#Create single Tree\n",
    "start_time = time.time()\n",
    "dtc = tree.DecisionTreeRegressor(\n",
    "    max_features=5,\n",
    "    max_depth=4\n",
    ")\n",
    "model = dtc.fit(X_train, y_train)\n",
    "print(\"Runtime --- %s seconds ---\" % (time.time() - start_time))\n",
    "print(dtc.score(features, Y))"
   ]
  },
  {
   "cell_type": "markdown",
   "metadata": {},
   "source": [
    "***This is by par the best run decision tree***"
   ]
  },
  {
   "cell_type": "code",
   "execution_count": 25,
   "metadata": {},
   "outputs": [
    {
     "name": "stdout",
     "output_type": "stream",
     "text": [
      "Runtime --- 0.16591191291809082 seconds ---\n",
      "0.9487161558970815\n"
     ]
    }
   ],
   "source": [
    "#Create Forest\n",
    "start_time = time.time()\n",
    "rfc = RandomForestRegressor()\n",
    "model = rfc.fit(X_train, y_train)\n",
    "print(\"Runtime --- %s seconds ---\" % (time.time() - start_time))\n",
    "print(rfc.score(features, Y))"
   ]
  },
  {
   "cell_type": "markdown",
   "metadata": {},
   "source": [
    "## Summary\n",
    "Using a decision tree and training the data actually performed better than using a random forrest, but it may actually be overfitting"
   ]
  },
  {
   "cell_type": "code",
   "execution_count": null,
   "metadata": {},
   "outputs": [],
   "source": []
  }
 ],
 "metadata": {
  "kernelspec": {
   "display_name": "Python 3",
   "language": "python",
   "name": "python3"
  },
  "language_info": {
   "codemirror_mode": {
    "name": "ipython",
    "version": 3
   },
   "file_extension": ".py",
   "mimetype": "text/x-python",
   "name": "python",
   "nbconvert_exporter": "python",
   "pygments_lexer": "ipython3",
   "version": "3.6.7"
  }
 },
 "nbformat": 4,
 "nbformat_minor": 2
}
