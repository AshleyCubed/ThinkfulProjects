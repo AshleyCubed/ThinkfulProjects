{
 "cells": [
  {
   "cell_type": "markdown",
   "metadata": {},
   "source": [
    "# Challenge: If a tree falls in the forest...\n",
    "Pick a dataset. It could be old or new. Then build the best decision tree you can.\n",
    "Now try to match that with the simplest random forest you can. For our purposes measure simplicity with runtime."
   ]
  },
  {
   "cell_type": "code",
   "execution_count": 18,
   "metadata": {},
   "outputs": [],
   "source": [
    "import pandas as pd\n",
    "import numpy as np\n",
    "import scipy\n",
    "import matplotlib.pyplot as plt\n",
    "%matplotlib inline\n",
    "\n",
    "# The models be used\n",
    "from sklearn import ensemble\n",
    "from sklearn import tree\n",
    "from sklearn.ensemble import RandomForestClassifier\n",
    "from sklearn.model_selection import cross_val_score\n",
    "\n",
    "import time"
   ]
  },
  {
   "cell_type": "code",
   "execution_count": 2,
   "metadata": {},
   "outputs": [
    {
     "data": {
      "text/html": [
       "<div>\n",
       "<style scoped>\n",
       "    .dataframe tbody tr th:only-of-type {\n",
       "        vertical-align: middle;\n",
       "    }\n",
       "\n",
       "    .dataframe tbody tr th {\n",
       "        vertical-align: top;\n",
       "    }\n",
       "\n",
       "    .dataframe thead th {\n",
       "        text-align: right;\n",
       "    }\n",
       "</style>\n",
       "<table border=\"1\" class=\"dataframe\">\n",
       "  <thead>\n",
       "    <tr style=\"text-align: right;\">\n",
       "      <th></th>\n",
       "      <th>mpg</th>\n",
       "      <th>cylinders</th>\n",
       "      <th>displacement</th>\n",
       "      <th>horsepower</th>\n",
       "      <th>weight</th>\n",
       "      <th>acceleration</th>\n",
       "      <th>model year</th>\n",
       "      <th>origin</th>\n",
       "      <th>car name</th>\n",
       "    </tr>\n",
       "  </thead>\n",
       "  <tbody>\n",
       "    <tr>\n",
       "      <th>0</th>\n",
       "      <td>18.0</td>\n",
       "      <td>8</td>\n",
       "      <td>307.0</td>\n",
       "      <td>130</td>\n",
       "      <td>3504</td>\n",
       "      <td>12.0</td>\n",
       "      <td>70</td>\n",
       "      <td>1</td>\n",
       "      <td>chevrolet chevelle malibu</td>\n",
       "    </tr>\n",
       "  </tbody>\n",
       "</table>\n",
       "</div>"
      ],
      "text/plain": [
       "    mpg  cylinders  displacement horsepower  weight  acceleration  model year  \\\n",
       "0  18.0          8         307.0        130    3504          12.0          70   \n",
       "\n",
       "   origin                   car name  \n",
       "0       1  chevrolet chevelle malibu  "
      ]
     },
     "execution_count": 2,
     "metadata": {},
     "output_type": "execute_result"
    }
   ],
   "source": [
    "# Import and Read Data\n",
    "data = pd.read_csv('auto-mpg.csv')\n",
    "data.head(1)"
   ]
  },
  {
   "cell_type": "code",
   "execution_count": 3,
   "metadata": {},
   "outputs": [],
   "source": [
    "data['horsepower'] = pd.to_numeric(data['horsepower'], errors='coerce')"
   ]
  },
  {
   "cell_type": "code",
   "execution_count": 4,
   "metadata": {},
   "outputs": [],
   "source": [
    "data.dropna(inplace=True)"
   ]
  },
  {
   "cell_type": "code",
   "execution_count": 5,
   "metadata": {},
   "outputs": [
    {
     "data": {
      "text/html": [
       "<div>\n",
       "<style scoped>\n",
       "    .dataframe tbody tr th:only-of-type {\n",
       "        vertical-align: middle;\n",
       "    }\n",
       "\n",
       "    .dataframe tbody tr th {\n",
       "        vertical-align: top;\n",
       "    }\n",
       "\n",
       "    .dataframe thead th {\n",
       "        text-align: right;\n",
       "    }\n",
       "</style>\n",
       "<table border=\"1\" class=\"dataframe\">\n",
       "  <thead>\n",
       "    <tr style=\"text-align: right;\">\n",
       "      <th></th>\n",
       "      <th>mpg</th>\n",
       "      <th>cylinders</th>\n",
       "      <th>displacement</th>\n",
       "      <th>horsepower</th>\n",
       "      <th>weight</th>\n",
       "      <th>acceleration</th>\n",
       "      <th>model year</th>\n",
       "      <th>origin</th>\n",
       "      <th>car name</th>\n",
       "      <th>brand</th>\n",
       "    </tr>\n",
       "  </thead>\n",
       "  <tbody>\n",
       "    <tr>\n",
       "      <th>0</th>\n",
       "      <td>18.0</td>\n",
       "      <td>8</td>\n",
       "      <td>307.0</td>\n",
       "      <td>130.0</td>\n",
       "      <td>3504</td>\n",
       "      <td>12.0</td>\n",
       "      <td>70</td>\n",
       "      <td>1</td>\n",
       "      <td>chevrolet chevelle malibu</td>\n",
       "      <td>chevrolet</td>\n",
       "    </tr>\n",
       "    <tr>\n",
       "      <th>1</th>\n",
       "      <td>15.0</td>\n",
       "      <td>8</td>\n",
       "      <td>350.0</td>\n",
       "      <td>165.0</td>\n",
       "      <td>3693</td>\n",
       "      <td>11.5</td>\n",
       "      <td>70</td>\n",
       "      <td>1</td>\n",
       "      <td>buick skylark 320</td>\n",
       "      <td>buick</td>\n",
       "    </tr>\n",
       "    <tr>\n",
       "      <th>2</th>\n",
       "      <td>18.0</td>\n",
       "      <td>8</td>\n",
       "      <td>318.0</td>\n",
       "      <td>150.0</td>\n",
       "      <td>3436</td>\n",
       "      <td>11.0</td>\n",
       "      <td>70</td>\n",
       "      <td>1</td>\n",
       "      <td>plymouth satellite</td>\n",
       "      <td>plymouth</td>\n",
       "    </tr>\n",
       "    <tr>\n",
       "      <th>3</th>\n",
       "      <td>16.0</td>\n",
       "      <td>8</td>\n",
       "      <td>304.0</td>\n",
       "      <td>150.0</td>\n",
       "      <td>3433</td>\n",
       "      <td>12.0</td>\n",
       "      <td>70</td>\n",
       "      <td>1</td>\n",
       "      <td>amc rebel sst</td>\n",
       "      <td>amc</td>\n",
       "    </tr>\n",
       "    <tr>\n",
       "      <th>4</th>\n",
       "      <td>17.0</td>\n",
       "      <td>8</td>\n",
       "      <td>302.0</td>\n",
       "      <td>140.0</td>\n",
       "      <td>3449</td>\n",
       "      <td>10.5</td>\n",
       "      <td>70</td>\n",
       "      <td>1</td>\n",
       "      <td>ford torino</td>\n",
       "      <td>ford</td>\n",
       "    </tr>\n",
       "  </tbody>\n",
       "</table>\n",
       "</div>"
      ],
      "text/plain": [
       "    mpg  cylinders  displacement  horsepower  weight  acceleration  \\\n",
       "0  18.0          8         307.0       130.0    3504          12.0   \n",
       "1  15.0          8         350.0       165.0    3693          11.5   \n",
       "2  18.0          8         318.0       150.0    3436          11.0   \n",
       "3  16.0          8         304.0       150.0    3433          12.0   \n",
       "4  17.0          8         302.0       140.0    3449          10.5   \n",
       "\n",
       "   model year  origin                   car name      brand  \n",
       "0          70       1  chevrolet chevelle malibu  chevrolet  \n",
       "1          70       1          buick skylark 320      buick  \n",
       "2          70       1         plymouth satellite   plymouth  \n",
       "3          70       1              amc rebel sst        amc  \n",
       "4          70       1                ford torino       ford  "
      ]
     },
     "execution_count": 5,
     "metadata": {},
     "output_type": "execute_result"
    }
   ],
   "source": [
    "new = data[\"car name\"].str.split(\" \", n = 1, expand = True)\n",
    "data['brand'] = new[0]\n",
    "\n",
    "data.head()"
   ]
  },
  {
   "cell_type": "code",
   "execution_count": 16,
   "metadata": {},
   "outputs": [
    {
     "data": {
      "text/plain": [
       "127"
      ]
     },
     "execution_count": 16,
     "metadata": {},
     "output_type": "execute_result"
    }
   ],
   "source": [
    "data['mpg'].nunique()"
   ]
  },
  {
   "cell_type": "code",
   "execution_count": 6,
   "metadata": {},
   "outputs": [],
   "source": [
    "# Dropping old Genre column \n",
    "data.drop(columns =[\"car name\"], inplace = True) "
   ]
  },
  {
   "cell_type": "code",
   "execution_count": 25,
   "metadata": {},
   "outputs": [
    {
     "name": "stdout",
     "output_type": "stream",
     "text": [
      "[-0.22750116 -0.4804024   0.05503014  0.55182527  0.00171927 -0.09383339\n",
      " -0.70728115 -0.14086553  0.03085952 -0.08530729]\n",
      "\n",
      "\n",
      "Runtime --- 0.07306289672851562 seconds ---\n"
     ]
    }
   ],
   "source": [
    "# A convenience for displaying visualizations.\n",
    "# from IPython.display import Image\n",
    "\n",
    "# Packages for rendering our tree.\n",
    "# import pydotplus\n",
    "# import graphviz\n",
    "\n",
    "\n",
    "\n",
    "# Separate features from the target\n",
    "X = data.drop('mpg', 1)\n",
    "Y = data['mpg']\n",
    "X = pd.get_dummies(X)\n",
    "X = X.dropna(axis=1) \n",
    "\n",
    "# Initialize and train our tree.\n",
    "dtc = tree.DecisionTreeRegressor(\n",
    "    max_features=1,\n",
    "    max_depth=7\n",
    ")\n",
    "dtc.fit(X, Y)\n",
    "\n",
    "# Render our tree.\n",
    "# dot_data = tree.export_graphviz(\n",
    "#     decision_tree, out_file=None,\n",
    "#     feature_names=customers.columns,\n",
    "#     class_names=['Not Returning', 'Returning'],\n",
    "#     filled=True\n",
    "# )\n",
    "# graph = pydotplus.graph_from_dot_data(dot_data)\n",
    "# Image(graph.create_png())\n",
    "\n",
    "\"\"\"\"\"\"\"\"\"\"\"\n",
    "for whatever reason, I can't get graphviz to work. \n",
    "It's been installed, but I keep getting the error\n",
    "ModuleNotFoundError: No module named 'graphviz'\n",
    "\"\"\"\"\"\"\"\"\"\"\"\n",
    "\n",
    "\n",
    "start_time = time.time()\n",
    "print(cross_val_score(dtc, X, Y, cv=10))\n",
    "print('\\n')\n",
    "print(\"Runtime --- %s seconds ---\" % (time.time() - start_time))"
   ]
  },
  {
   "cell_type": "code",
   "execution_count": 26,
   "metadata": {},
   "outputs": [
    {
     "name": "stdout",
     "output_type": "stream",
     "text": [
      "Runtime --- 8.416175842285156e-05 seconds ---\n",
      "\n",
      "\n",
      "[-0.19768142  0.38696305 -0.73795461 -0.38232816  0.61842622  0.02760237\n",
      "  0.1083712  -0.23857036 -0.84386132 -0.36759726]\n"
     ]
    }
   ],
   "source": [
    "# Separate features from the target\n",
    "rfc = ensemble.RandomForestRegressor()\n",
    "X = data.drop('mpg', 1)\n",
    "Y = data['mpg']\n",
    "X = pd.get_dummies(X)\n",
    "X = X.dropna(axis=1) \n",
    "\n",
    "rfc.fit(X,Y)\n",
    "\n",
    "start_time = time.time()\n",
    "print(\"Runtime --- %s seconds ---\" % (time.time() - start_time))\n",
    "print('\\n')\n",
    "print(cross_val_score(dtc, X, Y, cv=10))"
   ]
  },
  {
   "cell_type": "code",
   "execution_count": 27,
   "metadata": {},
   "outputs": [
    {
     "data": {
      "text/plain": [
       "displacement        0.510473\n",
       "weight              0.184383\n",
       "model year          0.129564\n",
       "cylinders           0.065107\n",
       "horsepower          0.061144\n",
       "acceleration        0.019095\n",
       "brand_vw            0.007940\n",
       "origin              0.004138\n",
       "brand_volkswagen    0.002487\n",
       "brand_oldsmobile    0.002474\n",
       "dtype: float64"
      ]
     },
     "execution_count": 27,
     "metadata": {},
     "output_type": "execute_result"
    }
   ],
   "source": [
    "# Get the most important features\n",
    "feature_imp = pd.Series(rfc.feature_importances_,index=X.columns).sort_values(ascending=False)[:10]\n",
    "feature_imp"
   ]
  },
  {
   "cell_type": "code",
   "execution_count": 47,
   "metadata": {},
   "outputs": [
    {
     "data": {
      "text/plain": [
       "GridSearchCV(cv=10, error_score='raise',\n",
       "       estimator=DecisionTreeRegressor(criterion='mse', max_depth=10, max_features=3,\n",
       "           max_leaf_nodes=None, min_impurity_decrease=0.0,\n",
       "           min_impurity_split=None, min_samples_leaf=1,\n",
       "           min_samples_split=2, min_weight_fraction_leaf=0.0,\n",
       "           presort=False, random_state=None, splitter='best'),\n",
       "       fit_params={}, iid=True, n_jobs=1,\n",
       "       param_grid={'max_features': [1, 3, 5], 'max_depth': [1, 2, 3, 4, 5, 6, 7, 8, 9, 10]},\n",
       "       pre_dispatch='2*n_jobs', refit=True, scoring=None, verbose=0)"
      ]
     },
     "execution_count": 47,
     "metadata": {},
     "output_type": "execute_result"
    }
   ],
   "source": [
    "from sklearn.grid_search import GridSearchCV\n",
    "\n",
    "# dtc = tree.DecisionTreeRegressor(\n",
    "#     max_features=3,\n",
    "#     max_depth=10\n",
    "# )\n",
    "\n",
    "features = X[['displacement', 'weight', 'model year', 'cylinders', 'horsepower']]\n",
    "dtc.fit(features, Y)\n",
    "# cross_val_score(dtc, features, Y, cv=10)\n",
    "\n",
    "parameters = {\n",
    "    'max_features':[1,3,5],\n",
    "    'max_depth':[1,2,3,4,5,6,7,8,9,10]    \n",
    "}\n",
    "\n",
    "grid = GridSearchCV(dtc, parameters, cv=10, verbose=0)\n",
    "#Fit the Data\n",
    "grid.fit(features, Y)"
   ]
  },
  {
   "cell_type": "code",
   "execution_count": 48,
   "metadata": {},
   "outputs": [
    {
     "name": "stdout",
     "output_type": "stream",
     "text": [
      "0.6626477688996976\n",
      "{'max_depth': 6, 'max_features': 1}\n"
     ]
    }
   ],
   "source": [
    "print(grid.best_score_)\n",
    "print(grid.best_params_)"
   ]
  },
  {
   "cell_type": "code",
   "execution_count": 56,
   "metadata": {},
   "outputs": [
    {
     "name": "stdout",
     "output_type": "stream",
     "text": [
      "Runtime --- 7.295608520507812e-05 seconds ---\n",
      "\n",
      "\n"
     ]
    },
    {
     "data": {
      "text/plain": [
       "array([0.51955017, 0.88392739, 0.57481244, 0.75213828, 0.58981028,\n",
       "       0.89149944, 0.65133877, 0.54036133, 0.12033724, 0.21317073])"
      ]
     },
     "execution_count": 56,
     "metadata": {},
     "output_type": "execute_result"
    }
   ],
   "source": [
    "dtc = tree.DecisionTreeRegressor(\n",
    "    max_features=1,\n",
    "    max_depth=6\n",
    ")\n",
    "\n",
    "features = X[['displacement', 'weight', 'model year', 'cylinders', 'horsepower', 'acceleration']]\n",
    "dtc.fit(features, Y)\n",
    "\n",
    "start_time = time.time()\n",
    "print(\"Runtime --- %s seconds ---\" % (time.time() - start_time))\n",
    "print('\\n')\n",
    "cross_val_score(dtc, features, Y, cv=10)"
   ]
  },
  {
   "cell_type": "code",
   "execution_count": 57,
   "metadata": {},
   "outputs": [
    {
     "name": "stdout",
     "output_type": "stream",
     "text": [
      "Runtime --- 6.29425048828125e-05 seconds ---\n",
      "\n",
      "\n"
     ]
    },
    {
     "data": {
      "text/plain": [
       "array([0.86059663, 0.88368803, 0.80176605, 0.86518996, 0.75883005,\n",
       "       0.88774647, 0.80285438, 0.75131535, 0.35191108, 0.39081134])"
      ]
     },
     "execution_count": 57,
     "metadata": {},
     "output_type": "execute_result"
    }
   ],
   "source": [
    "rfc = ensemble.RandomForestRegressor()\n",
    "\n",
    "start_time = time.time()\n",
    "print(\"Runtime --- %s seconds ---\" % (time.time() - start_time))\n",
    "print('\\n')\n",
    "cross_val_score(rfc, features, Y, cv=10)"
   ]
  },
  {
   "cell_type": "code",
   "execution_count": null,
   "metadata": {},
   "outputs": [],
   "source": []
  }
 ],
 "metadata": {
  "kernelspec": {
   "display_name": "Python 3",
   "language": "python",
   "name": "python3"
  },
  "language_info": {
   "codemirror_mode": {
    "name": "ipython",
    "version": 3
   },
   "file_extension": ".py",
   "mimetype": "text/x-python",
   "name": "python",
   "nbconvert_exporter": "python",
   "pygments_lexer": "ipython3",
   "version": "3.6.7"
  }
 },
 "nbformat": 4,
 "nbformat_minor": 2
}
