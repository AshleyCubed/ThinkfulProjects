{
 "cells": [
  {
   "cell_type": "markdown",
   "metadata": {},
   "source": [
    "# CHALLENGE: Advanced Regression \n",
    "Engineer your features, then create three models. Each model will be run on a training set and a test-set (or multiple test-sets, if you take a folds approach). The models should be:\n",
    "\n",
    "- Vanilla logistic regression\n",
    "- Ridge logistic regression\n",
    "- Lasso logistic regression\n",
    "\n",
    "In your report, evaluate all three models and decide on your best. Be clear about the decisions you made that led to these models (feature selection, regularization parameter selection, model evaluation criteria) and why you think that particular model is the best of the three. Also reflect on the strengths and limitations of regression as a modeling approach. Were there things you couldn't do but you wish you could have done?"
   ]
  },
  {
   "cell_type": "code",
   "execution_count": 1,
   "metadata": {},
   "outputs": [],
   "source": [
    "import pandas as pd\n",
    "from matplotlib import pyplot as plt\n",
    "import numpy as np\n",
    "import math\n",
    "import seaborn as sns\n",
    "\n",
    "import sklearn\n",
    "from sklearn import linear_model\n",
    "from sklearn import preprocessing\n",
    "import statsmodels.api as sm\n",
    "from sklearn.linear_model import LogisticRegression, RidgeClassifier, Lasso, Ridge\n",
    "\n",
    "from sklearn.model_selection import train_test_split, GridSearchCV\n",
    "from sklearn.metrics import classification_report, confusion_matrix\n",
    "\n",
    "%matplotlib inline\n",
    "sns.set_style('white')"
   ]
  },
  {
   "cell_type": "code",
   "execution_count": 2,
   "metadata": {},
   "outputs": [
    {
     "data": {
      "text/html": [
       "<div>\n",
       "<style scoped>\n",
       "    .dataframe tbody tr th:only-of-type {\n",
       "        vertical-align: middle;\n",
       "    }\n",
       "\n",
       "    .dataframe tbody tr th {\n",
       "        vertical-align: top;\n",
       "    }\n",
       "\n",
       "    .dataframe thead th {\n",
       "        text-align: right;\n",
       "    }\n",
       "</style>\n",
       "<table border=\"1\" class=\"dataframe\">\n",
       "  <thead>\n",
       "    <tr style=\"text-align: right;\">\n",
       "      <th></th>\n",
       "      <th>city</th>\n",
       "      <th>population</th>\n",
       "      <th>violent_crime</th>\n",
       "      <th>murder_nnm</th>\n",
       "      <th>robbery</th>\n",
       "      <th>aggravated_assault</th>\n",
       "      <th>property_crime</th>\n",
       "      <th>burglary</th>\n",
       "      <th>larceny_theft</th>\n",
       "      <th>motor_vehicle_theft</th>\n",
       "      <th>arson</th>\n",
       "      <th>rape</th>\n",
       "      <th>robbery_wins</th>\n",
       "      <th>murder_wins</th>\n",
       "    </tr>\n",
       "  </thead>\n",
       "  <tbody>\n",
       "    <tr>\n",
       "      <th>0</th>\n",
       "      <td>Adams Village</td>\n",
       "      <td>1861.0</td>\n",
       "      <td>0.0</td>\n",
       "      <td>0.0</td>\n",
       "      <td>0.0</td>\n",
       "      <td>0.0</td>\n",
       "      <td>12.0</td>\n",
       "      <td>2.0</td>\n",
       "      <td>10.0</td>\n",
       "      <td>0.0</td>\n",
       "      <td>0.0</td>\n",
       "      <td>0.0</td>\n",
       "      <td>0.0</td>\n",
       "      <td>0.0</td>\n",
       "    </tr>\n",
       "    <tr>\n",
       "      <th>1</th>\n",
       "      <td>Addison Town and Village</td>\n",
       "      <td>2577.0</td>\n",
       "      <td>3.0</td>\n",
       "      <td>0.0</td>\n",
       "      <td>0.0</td>\n",
       "      <td>3.0</td>\n",
       "      <td>24.0</td>\n",
       "      <td>3.0</td>\n",
       "      <td>20.0</td>\n",
       "      <td>1.0</td>\n",
       "      <td>0.0</td>\n",
       "      <td>0.0</td>\n",
       "      <td>0.0</td>\n",
       "      <td>0.0</td>\n",
       "    </tr>\n",
       "    <tr>\n",
       "      <th>2</th>\n",
       "      <td>Akron Village</td>\n",
       "      <td>2846.0</td>\n",
       "      <td>3.0</td>\n",
       "      <td>0.0</td>\n",
       "      <td>0.0</td>\n",
       "      <td>3.0</td>\n",
       "      <td>16.0</td>\n",
       "      <td>1.0</td>\n",
       "      <td>15.0</td>\n",
       "      <td>0.0</td>\n",
       "      <td>0.0</td>\n",
       "      <td>0.0</td>\n",
       "      <td>0.0</td>\n",
       "      <td>0.0</td>\n",
       "    </tr>\n",
       "    <tr>\n",
       "      <th>3</th>\n",
       "      <td>Albany</td>\n",
       "      <td>97956.0</td>\n",
       "      <td>791.0</td>\n",
       "      <td>8.0</td>\n",
       "      <td>227.0</td>\n",
       "      <td>526.0</td>\n",
       "      <td>4090.0</td>\n",
       "      <td>705.0</td>\n",
       "      <td>3243.0</td>\n",
       "      <td>142.0</td>\n",
       "      <td>0.0</td>\n",
       "      <td>30.0</td>\n",
       "      <td>39.0</td>\n",
       "      <td>8.0</td>\n",
       "    </tr>\n",
       "    <tr>\n",
       "      <th>4</th>\n",
       "      <td>Albion Village</td>\n",
       "      <td>6388.0</td>\n",
       "      <td>23.0</td>\n",
       "      <td>0.0</td>\n",
       "      <td>4.0</td>\n",
       "      <td>16.0</td>\n",
       "      <td>223.0</td>\n",
       "      <td>53.0</td>\n",
       "      <td>165.0</td>\n",
       "      <td>5.0</td>\n",
       "      <td>0.0</td>\n",
       "      <td>3.0</td>\n",
       "      <td>4.0</td>\n",
       "      <td>0.0</td>\n",
       "    </tr>\n",
       "  </tbody>\n",
       "</table>\n",
       "</div>"
      ],
      "text/plain": [
       "                       city  population  violent_crime  murder_nnm  robbery  \\\n",
       "0             Adams Village      1861.0            0.0         0.0      0.0   \n",
       "1  Addison Town and Village      2577.0            3.0         0.0      0.0   \n",
       "2             Akron Village      2846.0            3.0         0.0      0.0   \n",
       "3                    Albany     97956.0          791.0         8.0    227.0   \n",
       "4            Albion Village      6388.0           23.0         0.0      4.0   \n",
       "\n",
       "   aggravated_assault  property_crime  burglary  larceny_theft  \\\n",
       "0                 0.0            12.0       2.0           10.0   \n",
       "1                 3.0            24.0       3.0           20.0   \n",
       "2                 3.0            16.0       1.0           15.0   \n",
       "3               526.0          4090.0     705.0         3243.0   \n",
       "4                16.0           223.0      53.0          165.0   \n",
       "\n",
       "   motor_vehicle_theft  arson  rape  robbery_wins  murder_wins  \n",
       "0                  0.0    0.0   0.0           0.0          0.0  \n",
       "1                  1.0    0.0   0.0           0.0          0.0  \n",
       "2                  0.0    0.0   0.0           0.0          0.0  \n",
       "3                142.0    0.0  30.0          39.0          8.0  \n",
       "4                  5.0    0.0   3.0           4.0          0.0  "
      ]
     },
     "execution_count": 2,
     "metadata": {},
     "output_type": "execute_result"
    }
   ],
   "source": [
    "crime_raw = pd.read_csv('crime_table.csv')\n",
    "crime_raw.head()"
   ]
  },
  {
   "cell_type": "code",
   "execution_count": 3,
   "metadata": {},
   "outputs": [],
   "source": [
    "# Sum all the crime columns\n",
    "crime_raw['total_crimes'] = crime_raw.iloc[:, 2:].sum(axis=1)"
   ]
  },
  {
   "cell_type": "code",
   "execution_count": 4,
   "metadata": {},
   "outputs": [
    {
     "data": {
      "text/html": [
       "<div>\n",
       "<style scoped>\n",
       "    .dataframe tbody tr th:only-of-type {\n",
       "        vertical-align: middle;\n",
       "    }\n",
       "\n",
       "    .dataframe tbody tr th {\n",
       "        vertical-align: top;\n",
       "    }\n",
       "\n",
       "    .dataframe thead th {\n",
       "        text-align: right;\n",
       "    }\n",
       "</style>\n",
       "<table border=\"1\" class=\"dataframe\">\n",
       "  <thead>\n",
       "    <tr style=\"text-align: right;\">\n",
       "      <th></th>\n",
       "      <th>population</th>\n",
       "      <th>violent_crime</th>\n",
       "      <th>murder_nnm</th>\n",
       "      <th>robbery</th>\n",
       "      <th>aggravated_assault</th>\n",
       "      <th>property_crime</th>\n",
       "      <th>burglary</th>\n",
       "      <th>larceny_theft</th>\n",
       "      <th>motor_vehicle_theft</th>\n",
       "      <th>arson</th>\n",
       "      <th>rape</th>\n",
       "      <th>robbery_wins</th>\n",
       "      <th>murder_wins</th>\n",
       "      <th>total_crimes</th>\n",
       "    </tr>\n",
       "  </thead>\n",
       "  <tbody>\n",
       "    <tr>\n",
       "      <th>count</th>\n",
       "      <td>344.000000</td>\n",
       "      <td>344.000000</td>\n",
       "      <td>344.000000</td>\n",
       "      <td>344.000000</td>\n",
       "      <td>344.000000</td>\n",
       "      <td>344.000000</td>\n",
       "      <td>344.000000</td>\n",
       "      <td>344.000000</td>\n",
       "      <td>344.000000</td>\n",
       "      <td>344.000000</td>\n",
       "      <td>344.000000</td>\n",
       "      <td>344.000000</td>\n",
       "      <td>344.000000</td>\n",
       "      <td>344.000000</td>\n",
       "    </tr>\n",
       "    <tr>\n",
       "      <th>mean</th>\n",
       "      <td>14313.328488</td>\n",
       "      <td>32.625000</td>\n",
       "      <td>0.290698</td>\n",
       "      <td>10.348837</td>\n",
       "      <td>20.191860</td>\n",
       "      <td>304.770349</td>\n",
       "      <td>50.052326</td>\n",
       "      <td>245.703488</td>\n",
       "      <td>9.014535</td>\n",
       "      <td>0.468023</td>\n",
       "      <td>1.793605</td>\n",
       "      <td>5.360465</td>\n",
       "      <td>0.290698</td>\n",
       "      <td>680.909884</td>\n",
       "    </tr>\n",
       "    <tr>\n",
       "      <th>std</th>\n",
       "      <td>20175.227446</td>\n",
       "      <td>101.125108</td>\n",
       "      <td>1.131229</td>\n",
       "      <td>35.993607</td>\n",
       "      <td>61.662283</td>\n",
       "      <td>514.873550</td>\n",
       "      <td>99.715412</td>\n",
       "      <td>406.100706</td>\n",
       "      <td>23.466428</td>\n",
       "      <td>1.851363</td>\n",
       "      <td>4.246194</td>\n",
       "      <td>9.957534</td>\n",
       "      <td>1.131229</td>\n",
       "      <td>1204.556655</td>\n",
       "    </tr>\n",
       "    <tr>\n",
       "      <th>min</th>\n",
       "      <td>526.000000</td>\n",
       "      <td>0.000000</td>\n",
       "      <td>0.000000</td>\n",
       "      <td>0.000000</td>\n",
       "      <td>0.000000</td>\n",
       "      <td>0.000000</td>\n",
       "      <td>0.000000</td>\n",
       "      <td>0.000000</td>\n",
       "      <td>0.000000</td>\n",
       "      <td>0.000000</td>\n",
       "      <td>0.000000</td>\n",
       "      <td>0.000000</td>\n",
       "      <td>0.000000</td>\n",
       "      <td>0.000000</td>\n",
       "    </tr>\n",
       "    <tr>\n",
       "      <th>25%</th>\n",
       "      <td>2983.250000</td>\n",
       "      <td>2.000000</td>\n",
       "      <td>0.000000</td>\n",
       "      <td>0.000000</td>\n",
       "      <td>1.000000</td>\n",
       "      <td>39.000000</td>\n",
       "      <td>6.000000</td>\n",
       "      <td>31.000000</td>\n",
       "      <td>0.000000</td>\n",
       "      <td>0.000000</td>\n",
       "      <td>0.000000</td>\n",
       "      <td>0.000000</td>\n",
       "      <td>0.000000</td>\n",
       "      <td>83.500000</td>\n",
       "    </tr>\n",
       "    <tr>\n",
       "      <th>50%</th>\n",
       "      <td>7106.000000</td>\n",
       "      <td>6.000000</td>\n",
       "      <td>0.000000</td>\n",
       "      <td>1.000000</td>\n",
       "      <td>4.000000</td>\n",
       "      <td>111.500000</td>\n",
       "      <td>17.000000</td>\n",
       "      <td>93.500000</td>\n",
       "      <td>2.000000</td>\n",
       "      <td>0.000000</td>\n",
       "      <td>0.000000</td>\n",
       "      <td>1.000000</td>\n",
       "      <td>0.000000</td>\n",
       "      <td>241.000000</td>\n",
       "    </tr>\n",
       "    <tr>\n",
       "      <th>75%</th>\n",
       "      <td>17889.250000</td>\n",
       "      <td>21.000000</td>\n",
       "      <td>0.000000</td>\n",
       "      <td>5.000000</td>\n",
       "      <td>13.250000</td>\n",
       "      <td>334.750000</td>\n",
       "      <td>50.000000</td>\n",
       "      <td>275.500000</td>\n",
       "      <td>7.000000</td>\n",
       "      <td>0.000000</td>\n",
       "      <td>2.000000</td>\n",
       "      <td>5.000000</td>\n",
       "      <td>0.000000</td>\n",
       "      <td>713.500000</td>\n",
       "    </tr>\n",
       "    <tr>\n",
       "      <th>max</th>\n",
       "      <td>199134.000000</td>\n",
       "      <td>1036.000000</td>\n",
       "      <td>10.000000</td>\n",
       "      <td>390.000000</td>\n",
       "      <td>615.000000</td>\n",
       "      <td>4090.000000</td>\n",
       "      <td>769.000000</td>\n",
       "      <td>3243.000000</td>\n",
       "      <td>236.000000</td>\n",
       "      <td>22.000000</td>\n",
       "      <td>31.000000</td>\n",
       "      <td>39.000000</td>\n",
       "      <td>10.000000</td>\n",
       "      <td>9809.000000</td>\n",
       "    </tr>\n",
       "  </tbody>\n",
       "</table>\n",
       "</div>"
      ],
      "text/plain": [
       "          population  violent_crime  murder_nnm     robbery  \\\n",
       "count     344.000000     344.000000  344.000000  344.000000   \n",
       "mean    14313.328488      32.625000    0.290698   10.348837   \n",
       "std     20175.227446     101.125108    1.131229   35.993607   \n",
       "min       526.000000       0.000000    0.000000    0.000000   \n",
       "25%      2983.250000       2.000000    0.000000    0.000000   \n",
       "50%      7106.000000       6.000000    0.000000    1.000000   \n",
       "75%     17889.250000      21.000000    0.000000    5.000000   \n",
       "max    199134.000000    1036.000000   10.000000  390.000000   \n",
       "\n",
       "       aggravated_assault  property_crime    burglary  larceny_theft  \\\n",
       "count          344.000000      344.000000  344.000000     344.000000   \n",
       "mean            20.191860      304.770349   50.052326     245.703488   \n",
       "std             61.662283      514.873550   99.715412     406.100706   \n",
       "min              0.000000        0.000000    0.000000       0.000000   \n",
       "25%              1.000000       39.000000    6.000000      31.000000   \n",
       "50%              4.000000      111.500000   17.000000      93.500000   \n",
       "75%             13.250000      334.750000   50.000000     275.500000   \n",
       "max            615.000000     4090.000000  769.000000    3243.000000   \n",
       "\n",
       "       motor_vehicle_theft       arson        rape  robbery_wins  murder_wins  \\\n",
       "count           344.000000  344.000000  344.000000    344.000000   344.000000   \n",
       "mean              9.014535    0.468023    1.793605      5.360465     0.290698   \n",
       "std              23.466428    1.851363    4.246194      9.957534     1.131229   \n",
       "min               0.000000    0.000000    0.000000      0.000000     0.000000   \n",
       "25%               0.000000    0.000000    0.000000      0.000000     0.000000   \n",
       "50%               2.000000    0.000000    0.000000      1.000000     0.000000   \n",
       "75%               7.000000    0.000000    2.000000      5.000000     0.000000   \n",
       "max             236.000000   22.000000   31.000000     39.000000    10.000000   \n",
       "\n",
       "       total_crimes  \n",
       "count    344.000000  \n",
       "mean     680.909884  \n",
       "std     1204.556655  \n",
       "min        0.000000  \n",
       "25%       83.500000  \n",
       "50%      241.000000  \n",
       "75%      713.500000  \n",
       "max     9809.000000  "
      ]
     },
     "execution_count": 4,
     "metadata": {},
     "output_type": "execute_result"
    }
   ],
   "source": [
    "crime_raw.describe()"
   ]
  },
  {
   "cell_type": "code",
   "execution_count": 5,
   "metadata": {},
   "outputs": [
    {
     "data": {
      "text/html": [
       "<div>\n",
       "<style scoped>\n",
       "    .dataframe tbody tr th:only-of-type {\n",
       "        vertical-align: middle;\n",
       "    }\n",
       "\n",
       "    .dataframe tbody tr th {\n",
       "        vertical-align: top;\n",
       "    }\n",
       "\n",
       "    .dataframe thead th {\n",
       "        text-align: right;\n",
       "    }\n",
       "</style>\n",
       "<table border=\"1\" class=\"dataframe\">\n",
       "  <thead>\n",
       "    <tr style=\"text-align: right;\">\n",
       "      <th></th>\n",
       "      <th>city</th>\n",
       "      <th>population</th>\n",
       "      <th>violent_crime</th>\n",
       "      <th>murder_nnm</th>\n",
       "      <th>robbery</th>\n",
       "      <th>aggravated_assault</th>\n",
       "      <th>property_crime</th>\n",
       "      <th>burglary</th>\n",
       "      <th>larceny_theft</th>\n",
       "      <th>motor_vehicle_theft</th>\n",
       "      <th>arson</th>\n",
       "      <th>rape</th>\n",
       "      <th>robbery_wins</th>\n",
       "      <th>murder_wins</th>\n",
       "      <th>total_crimes</th>\n",
       "    </tr>\n",
       "  </thead>\n",
       "  <tbody>\n",
       "    <tr>\n",
       "      <th>0</th>\n",
       "      <td>Adams Village</td>\n",
       "      <td>1861.0</td>\n",
       "      <td>0.0</td>\n",
       "      <td>0.0</td>\n",
       "      <td>0.0</td>\n",
       "      <td>0.0</td>\n",
       "      <td>12.0</td>\n",
       "      <td>2.0</td>\n",
       "      <td>10.0</td>\n",
       "      <td>0.0</td>\n",
       "      <td>0.0</td>\n",
       "      <td>0.0</td>\n",
       "      <td>0.0</td>\n",
       "      <td>0.0</td>\n",
       "      <td>24.0</td>\n",
       "    </tr>\n",
       "    <tr>\n",
       "      <th>1</th>\n",
       "      <td>Addison Town and Village</td>\n",
       "      <td>2577.0</td>\n",
       "      <td>3.0</td>\n",
       "      <td>0.0</td>\n",
       "      <td>0.0</td>\n",
       "      <td>3.0</td>\n",
       "      <td>24.0</td>\n",
       "      <td>3.0</td>\n",
       "      <td>20.0</td>\n",
       "      <td>1.0</td>\n",
       "      <td>0.0</td>\n",
       "      <td>0.0</td>\n",
       "      <td>0.0</td>\n",
       "      <td>0.0</td>\n",
       "      <td>54.0</td>\n",
       "    </tr>\n",
       "    <tr>\n",
       "      <th>2</th>\n",
       "      <td>Akron Village</td>\n",
       "      <td>2846.0</td>\n",
       "      <td>3.0</td>\n",
       "      <td>0.0</td>\n",
       "      <td>0.0</td>\n",
       "      <td>3.0</td>\n",
       "      <td>16.0</td>\n",
       "      <td>1.0</td>\n",
       "      <td>15.0</td>\n",
       "      <td>0.0</td>\n",
       "      <td>0.0</td>\n",
       "      <td>0.0</td>\n",
       "      <td>0.0</td>\n",
       "      <td>0.0</td>\n",
       "      <td>38.0</td>\n",
       "    </tr>\n",
       "    <tr>\n",
       "      <th>3</th>\n",
       "      <td>Albany</td>\n",
       "      <td>97956.0</td>\n",
       "      <td>791.0</td>\n",
       "      <td>8.0</td>\n",
       "      <td>227.0</td>\n",
       "      <td>526.0</td>\n",
       "      <td>4090.0</td>\n",
       "      <td>705.0</td>\n",
       "      <td>3243.0</td>\n",
       "      <td>142.0</td>\n",
       "      <td>0.0</td>\n",
       "      <td>30.0</td>\n",
       "      <td>39.0</td>\n",
       "      <td>8.0</td>\n",
       "      <td>9809.0</td>\n",
       "    </tr>\n",
       "    <tr>\n",
       "      <th>4</th>\n",
       "      <td>Albion Village</td>\n",
       "      <td>6388.0</td>\n",
       "      <td>23.0</td>\n",
       "      <td>0.0</td>\n",
       "      <td>4.0</td>\n",
       "      <td>16.0</td>\n",
       "      <td>223.0</td>\n",
       "      <td>53.0</td>\n",
       "      <td>165.0</td>\n",
       "      <td>5.0</td>\n",
       "      <td>0.0</td>\n",
       "      <td>3.0</td>\n",
       "      <td>4.0</td>\n",
       "      <td>0.0</td>\n",
       "      <td>496.0</td>\n",
       "    </tr>\n",
       "  </tbody>\n",
       "</table>\n",
       "</div>"
      ],
      "text/plain": [
       "                       city  population  violent_crime  murder_nnm  robbery  \\\n",
       "0             Adams Village      1861.0            0.0         0.0      0.0   \n",
       "1  Addison Town and Village      2577.0            3.0         0.0      0.0   \n",
       "2             Akron Village      2846.0            3.0         0.0      0.0   \n",
       "3                    Albany     97956.0          791.0         8.0    227.0   \n",
       "4            Albion Village      6388.0           23.0         0.0      4.0   \n",
       "\n",
       "   aggravated_assault  property_crime  burglary  larceny_theft  \\\n",
       "0                 0.0            12.0       2.0           10.0   \n",
       "1                 3.0            24.0       3.0           20.0   \n",
       "2                 3.0            16.0       1.0           15.0   \n",
       "3               526.0          4090.0     705.0         3243.0   \n",
       "4                16.0           223.0      53.0          165.0   \n",
       "\n",
       "   motor_vehicle_theft  arson  rape  robbery_wins  murder_wins  total_crimes  \n",
       "0                  0.0    0.0   0.0           0.0          0.0          24.0  \n",
       "1                  1.0    0.0   0.0           0.0          0.0          54.0  \n",
       "2                  0.0    0.0   0.0           0.0          0.0          38.0  \n",
       "3                142.0    0.0  30.0          39.0          8.0        9809.0  \n",
       "4                  5.0    0.0   3.0           4.0          0.0         496.0  "
      ]
     },
     "execution_count": 5,
     "metadata": {},
     "output_type": "execute_result"
    }
   ],
   "source": [
    "crime_raw.head()"
   ]
  },
  {
   "cell_type": "code",
   "execution_count": 6,
   "metadata": {},
   "outputs": [
    {
     "data": {
      "text/plain": [
       "city                   344\n",
       "population             344\n",
       "violent_crime          293\n",
       "murder_nnm              45\n",
       "robbery                205\n",
       "aggravated_assault     278\n",
       "property_crime         338\n",
       "burglary               323\n",
       "larceny_theft          337\n",
       "motor_vehicle_theft    251\n",
       "arson                   52\n",
       "rape                   140\n",
       "robbery_wins           205\n",
       "murder_wins             45\n",
       "total_crimes           338\n",
       "dtype: int64"
      ]
     },
     "execution_count": 6,
     "metadata": {},
     "output_type": "execute_result"
    }
   ],
   "source": [
    "crime_raw[crime_raw > 0].count()"
   ]
  },
  {
   "cell_type": "markdown",
   "metadata": {},
   "source": [
    "Robbery and rape are crimes that take up almost half of the crimes (ie. crimes that happen in at least half of cities). So I chose robbery as a classification outcome as an attempt to make it more difficult on the model to classify than other crime variables.\n",
    "\n",
    "***Creating a binary outcome variable***"
   ]
  },
  {
   "cell_type": "code",
   "execution_count": 7,
   "metadata": {},
   "outputs": [],
   "source": [
    "# find the crimes that are more than 50% of all crime per city ( greater than 47.6% of crime)\n",
    "# fif = crime_raw['total_crimes'] / 2.1\n",
    "# crime_raw['bin_prop_crime'] = np.where(crime_raw['property_crime']>=fif, \n",
    "#          1, 0)\n",
    "# high crime = 1\n",
    "# low crime = 0"
   ]
  },
  {
   "cell_type": "code",
   "execution_count": 8,
   "metadata": {},
   "outputs": [],
   "source": [
    "crime_raw['bin_robbery'] = np.where(crime_raw['robbery']>0, \n",
    "         1, 0)"
   ]
  },
  {
   "cell_type": "code",
   "execution_count": 9,
   "metadata": {},
   "outputs": [
    {
     "data": {
      "text/plain": [
       "1    205\n",
       "0    139\n",
       "Name: bin_robbery, dtype: int64"
      ]
     },
     "execution_count": 9,
     "metadata": {},
     "output_type": "execute_result"
    }
   ],
   "source": [
    "# (crime_raw['bin_prop_crime'] == yes).sum()\n",
    "\n",
    "crime_raw['bin_robbery'].value_counts()"
   ]
  },
  {
   "cell_type": "markdown",
   "metadata": {},
   "source": [
    "I chose to look at where property crime was more than 48% of the crime to make the number of yes's and no's close, making it harder for the model to find the pattern."
   ]
  },
  {
   "cell_type": "code",
   "execution_count": 10,
   "metadata": {},
   "outputs": [
    {
     "data": {
      "text/html": [
       "<div>\n",
       "<style scoped>\n",
       "    .dataframe tbody tr th:only-of-type {\n",
       "        vertical-align: middle;\n",
       "    }\n",
       "\n",
       "    .dataframe tbody tr th {\n",
       "        vertical-align: top;\n",
       "    }\n",
       "\n",
       "    .dataframe thead th {\n",
       "        text-align: right;\n",
       "    }\n",
       "</style>\n",
       "<table border=\"1\" class=\"dataframe\">\n",
       "  <thead>\n",
       "    <tr style=\"text-align: right;\">\n",
       "      <th></th>\n",
       "      <th>city</th>\n",
       "      <th>population</th>\n",
       "      <th>violent_crime</th>\n",
       "      <th>murder</th>\n",
       "      <th>assault</th>\n",
       "      <th>property</th>\n",
       "      <th>burglary</th>\n",
       "      <th>larceny</th>\n",
       "      <th>vehicle</th>\n",
       "      <th>arson</th>\n",
       "      <th>rape</th>\n",
       "      <th>robbery_wins</th>\n",
       "      <th>murder_wins</th>\n",
       "      <th>total_crimes</th>\n",
       "      <th>bin_robbery</th>\n",
       "    </tr>\n",
       "  </thead>\n",
       "  <tbody>\n",
       "    <tr>\n",
       "      <th>0</th>\n",
       "      <td>Adams Village</td>\n",
       "      <td>1861.0</td>\n",
       "      <td>0.0</td>\n",
       "      <td>0.0</td>\n",
       "      <td>0.0</td>\n",
       "      <td>12.0</td>\n",
       "      <td>2.0</td>\n",
       "      <td>10.0</td>\n",
       "      <td>0.0</td>\n",
       "      <td>0.0</td>\n",
       "      <td>0.0</td>\n",
       "      <td>0.0</td>\n",
       "      <td>0.0</td>\n",
       "      <td>24.0</td>\n",
       "      <td>0</td>\n",
       "    </tr>\n",
       "    <tr>\n",
       "      <th>1</th>\n",
       "      <td>Addison Town and Village</td>\n",
       "      <td>2577.0</td>\n",
       "      <td>3.0</td>\n",
       "      <td>0.0</td>\n",
       "      <td>3.0</td>\n",
       "      <td>24.0</td>\n",
       "      <td>3.0</td>\n",
       "      <td>20.0</td>\n",
       "      <td>1.0</td>\n",
       "      <td>0.0</td>\n",
       "      <td>0.0</td>\n",
       "      <td>0.0</td>\n",
       "      <td>0.0</td>\n",
       "      <td>54.0</td>\n",
       "      <td>0</td>\n",
       "    </tr>\n",
       "    <tr>\n",
       "      <th>2</th>\n",
       "      <td>Akron Village</td>\n",
       "      <td>2846.0</td>\n",
       "      <td>3.0</td>\n",
       "      <td>0.0</td>\n",
       "      <td>3.0</td>\n",
       "      <td>16.0</td>\n",
       "      <td>1.0</td>\n",
       "      <td>15.0</td>\n",
       "      <td>0.0</td>\n",
       "      <td>0.0</td>\n",
       "      <td>0.0</td>\n",
       "      <td>0.0</td>\n",
       "      <td>0.0</td>\n",
       "      <td>38.0</td>\n",
       "      <td>0</td>\n",
       "    </tr>\n",
       "    <tr>\n",
       "      <th>3</th>\n",
       "      <td>Albany</td>\n",
       "      <td>97956.0</td>\n",
       "      <td>791.0</td>\n",
       "      <td>8.0</td>\n",
       "      <td>526.0</td>\n",
       "      <td>4090.0</td>\n",
       "      <td>705.0</td>\n",
       "      <td>3243.0</td>\n",
       "      <td>142.0</td>\n",
       "      <td>0.0</td>\n",
       "      <td>30.0</td>\n",
       "      <td>39.0</td>\n",
       "      <td>8.0</td>\n",
       "      <td>9809.0</td>\n",
       "      <td>1</td>\n",
       "    </tr>\n",
       "    <tr>\n",
       "      <th>4</th>\n",
       "      <td>Albion Village</td>\n",
       "      <td>6388.0</td>\n",
       "      <td>23.0</td>\n",
       "      <td>0.0</td>\n",
       "      <td>16.0</td>\n",
       "      <td>223.0</td>\n",
       "      <td>53.0</td>\n",
       "      <td>165.0</td>\n",
       "      <td>5.0</td>\n",
       "      <td>0.0</td>\n",
       "      <td>3.0</td>\n",
       "      <td>4.0</td>\n",
       "      <td>0.0</td>\n",
       "      <td>496.0</td>\n",
       "      <td>1</td>\n",
       "    </tr>\n",
       "  </tbody>\n",
       "</table>\n",
       "</div>"
      ],
      "text/plain": [
       "                       city  population  violent_crime  murder  assault  \\\n",
       "0             Adams Village      1861.0            0.0     0.0      0.0   \n",
       "1  Addison Town and Village      2577.0            3.0     0.0      3.0   \n",
       "2             Akron Village      2846.0            3.0     0.0      3.0   \n",
       "3                    Albany     97956.0          791.0     8.0    526.0   \n",
       "4            Albion Village      6388.0           23.0     0.0     16.0   \n",
       "\n",
       "   property  burglary  larceny  vehicle  arson  rape  robbery_wins  \\\n",
       "0      12.0       2.0     10.0      0.0    0.0   0.0           0.0   \n",
       "1      24.0       3.0     20.0      1.0    0.0   0.0           0.0   \n",
       "2      16.0       1.0     15.0      0.0    0.0   0.0           0.0   \n",
       "3    4090.0     705.0   3243.0    142.0    0.0  30.0          39.0   \n",
       "4     223.0      53.0    165.0      5.0    0.0   3.0           4.0   \n",
       "\n",
       "   murder_wins  total_crimes  bin_robbery  \n",
       "0          0.0          24.0            0  \n",
       "1          0.0          54.0            0  \n",
       "2          0.0          38.0            0  \n",
       "3          8.0        9809.0            1  \n",
       "4          0.0         496.0            1  "
      ]
     },
     "execution_count": 10,
     "metadata": {},
     "output_type": "execute_result"
    }
   ],
   "source": [
    "crime_feats = crime_raw.drop(['robbery'], axis=1)\n",
    "crime_feats.rename(columns={'murder_nnm':'murder', 'aggravated_assault': 'assault', 'larceny_theft': 'larceny',\n",
    "                    'motor_vehicle_theft': 'vehicle', 'property_crime': 'property'}, inplace=True)\n",
    "crime_feats.head()"
   ]
  },
  {
   "cell_type": "code",
   "execution_count": 11,
   "metadata": {},
   "outputs": [
    {
     "data": {
      "image/png": "[encoded data removed]",
      "text/plain": [
       "<Figure size 432x288 with 1 Axes>"
      ]
     },
     "metadata": {
      "needs_background": "light"
     },
     "output_type": "display_data"
    }
   ],
   "source": [
    "# X = feature values, all the columns except the last column\n",
    "X = crime_feats.iloc[:, :-1]\n",
    "\n",
    "# y = target values, last column of the data frame\n",
    "Y = crime_feats.iloc[:, -1]\n",
    "\n",
    "# filter out the cities with high property crime\n",
    "robbery = crime_feats.loc[Y == 1]\n",
    "\n",
    "# filter out the cities with low property crime\n",
    "no_robbery = crime_feats.loc[Y == 0]\n",
    "\n",
    "# plots\n",
    "plt.scatter(robbery.iloc[:, 0], robbery.iloc[:, 1], s=10, label='Robbery')\n",
    "plt.scatter(no_robbery.iloc[:, 0], no_robbery.iloc[:, 1], s=10, label='No Robbery')\n",
    "plt.xlabel('Cities')\n",
    "plt.ylabel('Population')\n",
    "plt.xticks([])\n",
    "plt.legend()\n",
    "plt.show()"
   ]
  },
  {
   "cell_type": "code",
   "execution_count": 12,
   "metadata": {},
   "outputs": [],
   "source": [
    "# crime table with crime totals and robbery made into a binary target\n",
    "# crime_feats.to_csv('crime_feats_2013rob.csv')"
   ]
  },
  {
   "cell_type": "code",
   "execution_count": 13,
   "metadata": {},
   "outputs": [
    {
     "name": "stderr",
     "output_type": "stream",
     "text": [
      "/Users/research/anaconda3/lib/python3.6/site-packages/scipy/stats/stats.py:1713: FutureWarning: Using a non-tuple sequence for multidimensional indexing is deprecated; use `arr[tuple(seq)]` instead of `arr[seq]`. In the future this will be interpreted as an array index, `arr[np.array(seq)]`, which will result either in an error or a different result.\n",
      "  return np.add.reduce(sorted[indexer] * weights, axis=axis) / sumval\n"
     ]
    },
    {
     "data": {
      "image/png": "[encoded data removed]",
      "text/plain": [
       "<Figure size 1008x216 with 9 Axes>"
      ]
     },
     "metadata": {
      "needs_background": "light"
     },
     "output_type": "display_data"
    }
   ],
   "source": [
    "# Set variables\n",
    "X_plot = ['property', 'murder', 'burglary', 'violent_crime', 'assault', 'vehicle', 'arson', 'rape', 'larceny']\n",
    "Y_plot = 'bin_robbery'\n",
    "\n",
    "# Define the scatterplot function\n",
    "def plot_scat(frame, X, Y):\n",
    "    fig, axes = plt.subplots(1, len(X), figsize=(14,3))\n",
    "    for var in X:\n",
    "        idx = X.index(var)\n",
    "        sns.regplot(y=frame[Y], x=frame[var], ax=axes[idx])\n",
    "\n",
    "plot_scat(crime_feats, X_plot, Y_plot)"
   ]
  },
  {
   "cell_type": "code",
   "execution_count": 14,
   "metadata": {},
   "outputs": [
    {
     "data": {
      "text/plain": [
       "bin_robbery      1.000000\n",
       "robbery_wins     0.443929\n",
       "larceny          0.418991\n",
       "property         0.410145\n",
       "population       0.398405\n",
       "total_crimes     0.395808\n",
       "burglary         0.345329\n",
       "rape             0.309208\n",
       "vehicle          0.280629\n",
       "violent_crime    0.244455\n",
       "assault          0.237419\n",
       "murder_wins      0.206667\n",
       "murder           0.206667\n",
       "arson            0.179627\n",
       "Name: bin_robbery, dtype: float64"
      ]
     },
     "execution_count": 14,
     "metadata": {},
     "output_type": "execute_result"
    }
   ],
   "source": [
    "crime_feats.corr()['bin_robbery'].sort_values(ascending=False)"
   ]
  },
  {
   "cell_type": "code",
   "execution_count": 15,
   "metadata": {},
   "outputs": [
    {
     "data": {
      "image/png": "[encoded data removed]",
      "text/plain": [
       "<Figure size 432x288 with 2 Axes>"
      ]
     },
     "metadata": {
      "needs_background": "light"
     },
     "output_type": "display_data"
    }
   ],
   "source": [
    "sns.heatmap(crime_feats.corr(), annot=True)\n",
    "plt.show()"
   ]
  },
  {
   "cell_type": "markdown",
   "metadata": {},
   "source": [
    "Murder and Arson have the least correlation to if a robbery occured, and to each other"
   ]
  },
  {
   "cell_type": "code",
   "execution_count": 16,
   "metadata": {},
   "outputs": [
    {
     "data": {
      "text/html": [
       "<div>\n",
       "<style scoped>\n",
       "    .dataframe tbody tr th:only-of-type {\n",
       "        vertical-align: middle;\n",
       "    }\n",
       "\n",
       "    .dataframe tbody tr th {\n",
       "        vertical-align: top;\n",
       "    }\n",
       "\n",
       "    .dataframe thead th {\n",
       "        text-align: right;\n",
       "    }\n",
       "</style>\n",
       "<table border=\"1\" class=\"dataframe\">\n",
       "  <thead>\n",
       "    <tr style=\"text-align: right;\">\n",
       "      <th></th>\n",
       "      <th>city</th>\n",
       "      <th>population</th>\n",
       "      <th>arson</th>\n",
       "      <th>murder</th>\n",
       "    </tr>\n",
       "  </thead>\n",
       "  <tbody>\n",
       "    <tr>\n",
       "      <th>208</th>\n",
       "      <td>Newburgh</td>\n",
       "      <td>28571.0</td>\n",
       "      <td>15.0</td>\n",
       "      <td>5.0</td>\n",
       "    </tr>\n",
       "    <tr>\n",
       "      <th>216</th>\n",
       "      <td>Niagara Falls</td>\n",
       "      <td>49574.0</td>\n",
       "      <td>22.0</td>\n",
       "      <td>3.0</td>\n",
       "    </tr>\n",
       "    <tr>\n",
       "      <th>273</th>\n",
       "      <td>Rotterdam Town</td>\n",
       "      <td>29146.0</td>\n",
       "      <td>4.0</td>\n",
       "      <td>2.0</td>\n",
       "    </tr>\n",
       "    <tr>\n",
       "      <th>342</th>\n",
       "      <td>Yonkers</td>\n",
       "      <td>199134.0</td>\n",
       "      <td>10.0</td>\n",
       "      <td>6.0</td>\n",
       "    </tr>\n",
       "  </tbody>\n",
       "</table>\n",
       "</div>"
      ],
      "text/plain": [
       "               city  population  arson  murder\n",
       "208        Newburgh     28571.0   15.0     5.0\n",
       "216   Niagara Falls     49574.0   22.0     3.0\n",
       "273  Rotterdam Town     29146.0    4.0     2.0\n",
       "342         Yonkers    199134.0   10.0     6.0"
      ]
     },
     "execution_count": 16,
     "metadata": {},
     "output_type": "execute_result"
    }
   ],
   "source": [
    "crime_feats[(crime_feats[\"arson\"] > 2) & (crime_feats[\"murder\"] > 1)][\n",
    "    [\"city\", \"population\", \"arson\", \"murder\"]]"
   ]
  },
  {
   "cell_type": "markdown",
   "metadata": {},
   "source": [
    "I'll wait to remove these 4 cities that might be causeing some skewing of the data"
   ]
  },
  {
   "cell_type": "code",
   "execution_count": 17,
   "metadata": {},
   "outputs": [
    {
     "name": "stdout",
     "output_type": "stream",
     "text": [
      "Optimization terminated successfully.\n",
      "         Current function value: 0.345717\n",
      "         Iterations 27\n",
      "                           Logit Regression Results                           \n",
      "==============================================================================\n",
      "Dep. Variable:            bin_robbery   No. Observations:                  344\n",
      "Model:                          Logit   Df Residuals:                      336\n",
      "Method:                           MLE   Df Model:                            7\n",
      "Date:                Sun, 20 Jan 2019   Pseudo R-squ.:                  0.4875\n",
      "Time:                        13:08:43   Log-Likelihood:                -118.93\n",
      "converged:                       True   LL-Null:                       -232.07\n",
      "                                        LLR p-value:                 3.047e-45\n",
      "==============================================================================\n",
      "                 coef    std err          z      P>|z|      [0.025      0.975]\n",
      "------------------------------------------------------------------------------\n",
      "arson         -0.2109      0.440     -0.479      0.632      -1.074       0.652\n",
      "murder         1.3615      1.155      1.178      0.239      -0.903       3.626\n",
      "vehicle        0.1468   9.75e+04    1.5e-06      1.000   -1.91e+05    1.91e+05\n",
      "rape          -0.0636      0.216     -0.294      0.769      -0.488       0.360\n",
      "burglary      -0.0404   9.75e+04  -4.14e-07      1.000   -1.91e+05    1.91e+05\n",
      "population -4.488e-05   4.15e-05     -1.081      0.280      -0.000    3.65e-05\n",
      "property       0.0600   9.75e+04   6.15e-07      1.000   -1.91e+05    1.91e+05\n",
      "larceny       -0.0386   9.75e+04  -3.96e-07      1.000   -1.91e+05    1.91e+05\n",
      "intercept     -2.0739      0.284     -7.307      0.000      -2.630      -1.518\n",
      "==============================================================================\n",
      "\n",
      "Possibly complete quasi-separation: A fraction 0.17 of observations can be\n",
      "perfectly predicted. This might indicate that there is complete\n",
      "quasi-separation. In this case some parameters will not be identified.\n"
     ]
    },
    {
     "name": "stderr",
     "output_type": "stream",
     "text": [
      "/Users/research/anaconda3/lib/python3.6/site-packages/ipykernel_launcher.py:6: SettingWithCopyWarning: \n",
      "A value is trying to be set on a copy of a slice from a DataFrame.\n",
      "Try using .loc[row_indexer,col_indexer] = value instead\n",
      "\n",
      "See the caveats in the documentation: http://pandas.pydata.org/pandas-docs/stable/indexing.html#indexing-view-versus-copy\n",
      "  \n"
     ]
    }
   ],
   "source": [
    "# Declare predictors.\n",
    "X_statsmod = crime_feats[['arson', 'murder', 'vehicle', 'rape', 'burglary', 'population', 'property', 'larceny']]\n",
    "\n",
    "# The Statsmodels formulation requires a column with constant value 1 that\n",
    "# will act as the intercept.\n",
    "X_statsmod['intercept'] = 1 \n",
    "\n",
    "# Declare and fit the model.\n",
    "logit = sm.Logit(crime_feats['bin_robbery'], X_statsmod)\n",
    "result = logit.fit()\n",
    "\n",
    "# Lots of information about the model and its coefficients, but the\n",
    "# accuracy rate for predictions is missing.\n",
    "print(result.summary())"
   ]
  },
  {
   "cell_type": "markdown",
   "metadata": {},
   "source": [
    "By looking at the coefficients it seems that for every robbery there's one arson, and about 3 murders."
   ]
  },
  {
   "cell_type": "code",
   "execution_count": 18,
   "metadata": {},
   "outputs": [
    {
     "name": "stdout",
     "output_type": "stream",
     "text": [
      "Coefficients\n",
      "[[-0.0584299   0.18688745  0.11478916 -0.05361926 -0.03228217  0.05046526\n",
      "  -0.03204173]]\n",
      "[-1.99503982]\n",
      "\n",
      " Accuracy by Robberies\n",
      "bin_robbery    0    1\n",
      "row_0                \n",
      "0            121   36\n",
      "1             18  169\n",
      "\n",
      " Percentage accuracy\n",
      "0.8430232558139535\n"
     ]
    }
   ],
   "source": [
    "# Declare a logistic regression classifier.\n",
    "# Parameter regularization coefficient C described above.\n",
    "lr = LogisticRegression()\n",
    "# X = feature values, those with low multicollinearity\n",
    "# X = crime_feats.iloc[:, 1:-1] # all the columns except the first and last columns\n",
    "X = crime_feats[['arson', 'murder', 'vehicle', 'rape', 'burglary', 'property', 'larceny']]\n",
    "# y = target values, last column of the data frame\n",
    "Y = crime_feats.iloc[:, -1]\n",
    "\n",
    "# Fit the model.\n",
    "fit = lr.fit(X, Y)\n",
    "\n",
    "# Display.\n",
    "print('Coefficients')\n",
    "print(fit.coef_)\n",
    "print(fit.intercept_)\n",
    "pred_y_sklearn = lr.predict(X)\n",
    "\n",
    "print('\\n Accuracy by Robberies')\n",
    "print(pd.crosstab(pred_y_sklearn, Y))\n",
    "\n",
    "print('\\n Percentage accuracy')\n",
    "print(lr.score(X, Y))"
   ]
  },
  {
   "cell_type": "markdown",
   "metadata": {},
   "source": [
    "### Train/Test Logistic Regression"
   ]
  },
  {
   "cell_type": "code",
   "execution_count": 19,
   "metadata": {},
   "outputs": [
    {
     "name": "stdout",
     "output_type": "stream",
     "text": [
      "Percentage Accuracy: 0.82\n",
      "[[34  3]\n",
      " [16 51]]\n",
      "             precision    recall  f1-score   support\n",
      "\n",
      "          0       0.68      0.92      0.78        37\n",
      "          1       0.94      0.76      0.84        67\n",
      "\n",
      "avg / total       0.85      0.82      0.82       104\n",
      "\n"
     ]
    }
   ],
   "source": [
    "# Declare a logistic regression classifier.\n",
    "# Parameter regularization coefficient C described above.\n",
    "lr = LogisticRegression()\n",
    "# X = feature values, all the columns except the first and last columns\n",
    "# X = crime_feats.iloc[:, 1:-1]\n",
    "X = crime_feats[['arson', 'murder', 'vehicle', 'rape', 'burglary', 'property', 'larceny']]\n",
    "# y = target values, last column of the data frame\n",
    "Y = crime_feats.iloc[:, -1]\n",
    "# train test split the data\n",
    "X_train, X_test, y_train, y_test = train_test_split(X, Y, test_size=0.3)\n",
    "\n",
    "# fit training data to model\n",
    "logreg = LogisticRegression()\n",
    "logreg.fit(X_train, y_train)\n",
    "# test results and accuracy\n",
    "y_pred = logreg.predict(X_test)\n",
    "print('Percentage Accuracy: {:.2f}'.format(logreg.score(X_test, y_test)))\n",
    "\n",
    "# confusion matrix\n",
    "# from sklearn.metrics import confusion_matrix\n",
    "confusion_matrix = confusion_matrix(y_test, y_pred)\n",
    "print(confusion_matrix)\n",
    "\n",
    "# precision recall f-scores\n",
    "# from sklearn.metrics import classification_report\n",
    "print(classification_report(y_test, y_pred))"
   ]
  },
  {
   "cell_type": "markdown",
   "metadata": {},
   "source": [
    "Using all features seems to help with normal linear regression. \n",
    "\n",
    "## Ridge Regression"
   ]
  },
  {
   "cell_type": "code",
   "execution_count": 21,
   "metadata": {},
   "outputs": [
    {
     "name": "stderr",
     "output_type": "stream",
     "text": [
      "/Users/research/anaconda3/lib/python3.6/site-packages/sklearn/linear_model/ridge.py:112: LinAlgWarning: scipy.linalg.solve\n",
      "Ill-conditioned matrix detected. Result is not guaranteed to be accurate.\n",
      "Reciprocal condition number3.692376e-18\n",
      "  overwrite_a=True).T\n",
      "/Users/research/anaconda3/lib/python3.6/site-packages/sklearn/linear_model/ridge.py:112: LinAlgWarning: scipy.linalg.solve\n",
      "Ill-conditioned matrix detected. Result is not guaranteed to be accurate.\n",
      "Reciprocal condition number6.856595e-17\n",
      "  overwrite_a=True).T\n",
      "/Users/research/anaconda3/lib/python3.6/site-packages/sklearn/linear_model/ridge.py:112: LinAlgWarning: scipy.linalg.solve\n",
      "Ill-conditioned matrix detected. Result is not guaranteed to be accurate.\n",
      "Reciprocal condition number3.009884e-17\n",
      "  overwrite_a=True).T\n",
      "/Users/research/anaconda3/lib/python3.6/site-packages/sklearn/linear_model/ridge.py:112: LinAlgWarning: scipy.linalg.solve\n",
      "Ill-conditioned matrix detected. Result is not guaranteed to be accurate.\n",
      "Reciprocal condition number1.476950e-17\n",
      "  overwrite_a=True).T\n",
      "/Users/research/anaconda3/lib/python3.6/site-packages/sklearn/linear_model/ridge.py:112: LinAlgWarning: scipy.linalg.solve\n",
      "Ill-conditioned matrix detected. Result is not guaranteed to be accurate.\n",
      "Reciprocal condition number2.958825e-17\n",
      "  overwrite_a=True).T\n",
      "/Users/research/anaconda3/lib/python3.6/site-packages/sklearn/linear_model/ridge.py:112: LinAlgWarning: scipy.linalg.solve\n",
      "Ill-conditioned matrix detected. Result is not guaranteed to be accurate.\n",
      "Reciprocal condition number4.342510e-17\n",
      "  overwrite_a=True).T\n",
      "/Users/research/anaconda3/lib/python3.6/site-packages/sklearn/linear_model/ridge.py:112: LinAlgWarning: scipy.linalg.solve\n",
      "Ill-conditioned matrix detected. Result is not guaranteed to be accurate.\n",
      "Reciprocal condition number4.987950e-17\n",
      "  overwrite_a=True).T\n",
      "/Users/research/anaconda3/lib/python3.6/site-packages/sklearn/linear_model/ridge.py:112: LinAlgWarning: scipy.linalg.solve\n",
      "Ill-conditioned matrix detected. Result is not guaranteed to be accurate.\n",
      "Reciprocal condition number7.148474e-17\n",
      "  overwrite_a=True).T\n",
      "/Users/research/anaconda3/lib/python3.6/site-packages/sklearn/linear_model/ridge.py:112: LinAlgWarning: scipy.linalg.solve\n",
      "Ill-conditioned matrix detected. Result is not guaranteed to be accurate.\n",
      "Reciprocal condition number7.384751e-17\n",
      "  overwrite_a=True).T\n",
      "/Users/research/anaconda3/lib/python3.6/site-packages/sklearn/linear_model/ridge.py:112: LinAlgWarning: scipy.linalg.solve\n",
      "Ill-conditioned matrix detected. Result is not guaranteed to be accurate.\n",
      "Reciprocal condition number9.246328e-17\n",
      "  overwrite_a=True).T\n"
     ]
    },
    {
     "data": {
      "text/plain": [
       "GridSearchCV(cv=5, error_score='raise',\n",
       "       estimator=Ridge(alpha=1.0, copy_X=True, fit_intercept=True, max_iter=None,\n",
       "   normalize=False, random_state=None, solver='auto', tol=0.001),\n",
       "       fit_params=None, iid=True, n_jobs=1,\n",
       "       param_grid={'alpha': [1e-15, 1e-10, 1e-08, 0.0001, 0.001, 0.01, 1, 5, 10, 20]},\n",
       "       pre_dispatch='2*n_jobs', refit=True, return_train_score='warn',\n",
       "       scoring='neg_mean_squared_error', verbose=0)"
      ]
     },
     "execution_count": 21,
     "metadata": {},
     "output_type": "execute_result"
    }
   ],
   "source": [
    "X_train, X_test, y_train, y_test = train_test_split(X, Y, test_size=0.3)\n",
    "\n",
    "alpha = [1e-15, 1e-10, 1e-8, 1e-4, 1e-3,1e-2, 1, 5, 10, 20]\n",
    "ridge = Ridge()\n",
    "parameters = {'alpha': [1e-15, 1e-10, 1e-8, 1e-4, 1e-3,1e-2, 1, 5, 10, 20]}\n",
    "\n",
    "ridge_regressor = GridSearchCV(ridge, parameters,scoring='neg_mean_squared_error', cv=5)\n",
    "# Fit the model with GSCV\n",
    "ridge_regressor.fit(X_train, y_train)"
   ]
  },
  {
   "cell_type": "code",
   "execution_count": 22,
   "metadata": {},
   "outputs": [
    {
     "name": "stdout",
     "output_type": "stream",
     "text": [
      "\n",
      "Best Parameters:\n",
      "{'alpha': 20}\n",
      "\n",
      "MSE:\n",
      "-0.20832971768545197\n"
     ]
    }
   ],
   "source": [
    "predictions = ridge_regressor.predict(X_test)\n",
    "print('\\nBest Parameters:')\n",
    "print(ridge_regressor.best_params_)\n",
    "print('\\nMSE:')\n",
    "print(ridge_regressor.best_score_)"
   ]
  },
  {
   "cell_type": "code",
   "execution_count": 23,
   "metadata": {},
   "outputs": [
    {
     "name": "stdout",
     "output_type": "stream",
     "text": [
      "             precision    recall  f1-score   support\n",
      "\n",
      "          0       0.00      0.00      0.00        49\n",
      "          1       0.53      1.00      0.69        55\n",
      "\n",
      "avg / total       0.28      0.53      0.37       104\n",
      "\n",
      "\n",
      "R-squared:\n",
      "0.5288461538461539\n",
      "\n",
      "Intercepts:\n",
      "[[ 0.02315694 -0.01494554 -0.00175621  0.01647527 -0.0006519  -0.00065106\n",
      "   0.00175705]]\n"
     ]
    },
    {
     "name": "stderr",
     "output_type": "stream",
     "text": [
      "/Users/research/anaconda3/lib/python3.6/site-packages/sklearn/metrics/classification.py:1135: UndefinedMetricWarning: Precision and F-score are ill-defined and being set to 0.0 in labels with no predicted samples.\n",
      "  'precision', 'predicted', average, warn_for)\n"
     ]
    }
   ],
   "source": [
    "ridgeregr = RidgeClassifier(alpha=0.01, fit_intercept=True) \n",
    "ridgeregr.fit(X_train, y_train)\n",
    "predictions = ridgeregr.predict(X_test)\n",
    "print(classification_report(y_test, predictions))\n",
    "# print(confusion_matrix(y_test, predictions))\n",
    "print('\\nR-squared:')\n",
    "print(ridgeregr.score(X_test, y_test))\n",
    "print('\\nIntercepts:')\n",
    "print(ridgeregr.coef_)"
   ]
  },
  {
   "cell_type": "code",
   "execution_count": 24,
   "metadata": {},
   "outputs": [
    {
     "name": "stdout",
     "output_type": "stream",
     "text": [
      "             precision    recall  f1-score   support\n",
      "\n",
      "          0       0.00      0.00      0.00        49\n",
      "          1       0.53      1.00      0.69        55\n",
      "\n",
      "avg / total       0.28      0.53      0.37       104\n",
      "\n",
      "\n",
      "R-squared:\n",
      "0.5288461538461539\n",
      "\n",
      "Intercepts:\n",
      "[[ 0.02251839 -0.01308836 -0.00177874  0.01584976 -0.0006346  -0.00065321\n",
      "   0.00176012]]\n"
     ]
    },
    {
     "name": "stderr",
     "output_type": "stream",
     "text": [
      "/Users/research/anaconda3/lib/python3.6/site-packages/sklearn/metrics/classification.py:1135: UndefinedMetricWarning: Precision and F-score are ill-defined and being set to 0.0 in labels with no predicted samples.\n",
      "  'precision', 'predicted', average, warn_for)\n"
     ]
    }
   ],
   "source": [
    "# Change the alpha to the best found by GridSearch\n",
    "ridgeregr = RidgeClassifier(alpha=20, fit_intercept=True) \n",
    "ridgeregr.fit(X_train, y_train)\n",
    "predictions = ridgeregr.predict(X_test)\n",
    "print(classification_report(y_test, predictions))\n",
    "# print(confusion_matrix(y_test, predictions))\n",
    "print('\\nR-squared:')\n",
    "print(ridgeregr.score(X_test, y_test))\n",
    "print('\\nIntercepts:')\n",
    "print(ridgeregr.coef_)"
   ]
  },
  {
   "cell_type": "markdown",
   "metadata": {},
   "source": [
    "The score slightly improved using an alpha of 20, but overall this still performed worse than vanilla logistic regression (no train/test/split)."
   ]
  },
  {
   "cell_type": "markdown",
   "metadata": {},
   "source": [
    "## Lasso Regression"
   ]
  },
  {
   "cell_type": "code",
   "execution_count": 25,
   "metadata": {},
   "outputs": [
    {
     "name": "stdout",
     "output_type": "stream",
     "text": [
      "\n",
      "R-squared:\n",
      "-0.0034976383350231455\n",
      "\n",
      "Intercepts:\n",
      "[-0.00267427  0.02352958 -0.00297315  0.01185099 -0.00173766  0.00063307\n",
      "  0.00023699]\n"
     ]
    }
   ],
   "source": [
    "X_train, X_test, y_train, y_test = train_test_split(X, Y, test_size=0.3)\n",
    "lass = Lasso(alpha=.0001)\n",
    "lassfit = lass.fit(X_train, y_train)\n",
    "predictions = lassfit.predict(X_test)\n",
    "#print(classification_report(y_test, predictions))\n",
    "#print(confusion_matrix(y_test, predictions))\n",
    "print('\\nR-squared:')\n",
    "print(lass.score(X_test, y_test))\n",
    "print('\\nIntercepts:')\n",
    "print(lass.coef_)"
   ]
  },
  {
   "cell_type": "code",
   "execution_count": 26,
   "metadata": {},
   "outputs": [
    {
     "name": "stderr",
     "output_type": "stream",
     "text": [
      "/Users/research/anaconda3/lib/python3.6/site-packages/sklearn/linear_model/coordinate_descent.py:491: ConvergenceWarning: Objective did not converge. You might want to increase the number of iterations. Fitting data with very small alpha may cause precision problems.\n",
      "  ConvergenceWarning)\n",
      "/Users/research/anaconda3/lib/python3.6/site-packages/sklearn/linear_model/coordinate_descent.py:491: ConvergenceWarning: Objective did not converge. You might want to increase the number of iterations. Fitting data with very small alpha may cause precision problems.\n",
      "  ConvergenceWarning)\n",
      "/Users/research/anaconda3/lib/python3.6/site-packages/sklearn/linear_model/coordinate_descent.py:491: ConvergenceWarning: Objective did not converge. You might want to increase the number of iterations. Fitting data with very small alpha may cause precision problems.\n",
      "  ConvergenceWarning)\n",
      "/Users/research/anaconda3/lib/python3.6/site-packages/sklearn/linear_model/coordinate_descent.py:491: ConvergenceWarning: Objective did not converge. You might want to increase the number of iterations. Fitting data with very small alpha may cause precision problems.\n",
      "  ConvergenceWarning)\n"
     ]
    },
    {
     "data": {
      "text/plain": [
       "GridSearchCV(cv=5, error_score='raise',\n",
       "       estimator=Lasso(alpha=1.0, copy_X=True, fit_intercept=True, max_iter=1000,\n",
       "   normalize=False, positive=False, precompute=False, random_state=None,\n",
       "   selection='cyclic', tol=0.0001, warm_start=False),\n",
       "       fit_params=None, iid=True, n_jobs=1,\n",
       "       param_grid={'alpha': [1e-15, 1e-10, 1e-08, 0.0001, 0.001, 0.01, 1, 5, 10, 20]},\n",
       "       pre_dispatch='2*n_jobs', refit=True, return_train_score='warn',\n",
       "       scoring='neg_mean_squared_error', verbose=0)"
      ]
     },
     "execution_count": 26,
     "metadata": {},
     "output_type": "execute_result"
    }
   ],
   "source": [
    "alpha = [1e-15, 1e-10, 1e-8, 1e-4, 1e-3,1e-2, 1, 5, 10, 20]\n",
    "lasso = Lasso()\n",
    "parameters = {'alpha': [1e-15, 1e-10, 1e-8, 1e-4, 1e-3,1e-2, 1, 5, 10, 20]}\n",
    "\n",
    "lasso_regressor = GridSearchCV(lasso, parameters,scoring='neg_mean_squared_error', cv=5)\n",
    "# Fit the model with GSCV\n",
    "lasso_regressor.fit(X_train, y_train)"
   ]
  },
  {
   "cell_type": "code",
   "execution_count": 27,
   "metadata": {},
   "outputs": [
    {
     "name": "stdout",
     "output_type": "stream",
     "text": [
      "\n",
      "Best Parameters:\n",
      "{'alpha': 1}\n",
      "\n",
      "MSE:\n",
      "-0.19461357790792283\n"
     ]
    }
   ],
   "source": [
    "l_predictions = lasso_regressor.predict(X_test)\n",
    "print('\\nBest Parameters:')\n",
    "print(lasso_regressor.best_params_)\n",
    "print('\\nMSE:')\n",
    "print(lasso_regressor.best_score_)"
   ]
  },
  {
   "cell_type": "code",
   "execution_count": 28,
   "metadata": {},
   "outputs": [
    {
     "name": "stdout",
     "output_type": "stream",
     "text": [
      "R² for the model with few features:\n",
      "0.22453584425986362\n",
      "\n",
      "Parameter estimates for the model with few features:\n",
      "[-0.00000000e+00  6.21792578e-03 -2.47694560e-03  1.19824341e-02\n",
      " -1.68896628e-03  6.19347066e-04  2.37277681e-04  4.32500788e-01]\n"
     ]
    }
   ],
   "source": [
    "# Small number of parameters.\n",
    "lass = linear_model.Lasso(alpha=.01)\n",
    "lassfit = lass.fit(X_train, y_train)\n",
    "print('R² for the model with few features:')\n",
    "print(lass.score(X_train, y_train))\n",
    "origparams = np.append(lassfit.coef_, lassfit.intercept_)\n",
    "print('\\nParameter estimates for the model with few features:')\n",
    "print(origparams)"
   ]
  },
  {
   "cell_type": "markdown",
   "metadata": {},
   "source": [
    "After re-runing the lasso regressor with an alpha of 0.01 the R² score improved, but overall the score is horrible and worse than both logistic and ridge regressions."
   ]
  },
  {
   "cell_type": "code",
   "execution_count": null,
   "metadata": {},
   "outputs": [],
   "source": []
  }
 ],
 "metadata": {
  "kernelspec": {
   "display_name": "Python 3",
   "language": "python",
   "name": "python3"
  },
  "language_info": {
   "codemirror_mode": {
    "name": "ipython",
    "version": 3
   },
   "file_extension": ".py",
   "mimetype": "text/x-python",
   "name": "python",
   "nbconvert_exporter": "python",
   "pygments_lexer": "ipython3",
   "version": "3.6.7"
  }
 },
 "nbformat": 4,
 "nbformat_minor": 2
}
