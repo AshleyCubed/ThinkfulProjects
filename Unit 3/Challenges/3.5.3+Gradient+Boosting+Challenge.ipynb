{
 "cells": [
  {
   "cell_type": "code",
   "execution_count": 1,
   "metadata": {
    "run_control": {
     "frozen": false,
     "read_only": false
    }
   },
   "outputs": [
    {
     "name": "stderr",
     "output_type": "stream",
     "text": [
      "/Users/research/anaconda3/lib/python3.6/site-packages/sklearn/ensemble/weight_boosting.py:29: DeprecationWarning: numpy.core.umath_tests is an internal NumPy module and should not be imported. It will be removed in a future NumPy release.\n",
      "  from numpy.core.umath_tests import inner1d\n"
     ]
    }
   ],
   "source": [
    "import pandas as pd\n",
    "import numpy as np\n",
    "import scipy\n",
    "import matplotlib.pyplot as plt\n",
    "%matplotlib inline\n",
    "\n",
    "from sklearn import ensemble\n",
    "from sklearn import datasets\n",
    "from sklearn.utils import shuffle\n",
    "from sklearn.metrics import mean_squared_error"
   ]
  },
  {
   "cell_type": "markdown",
   "metadata": {},
   "source": [
    "### Gradient boost guided example\n",
    "\n",
    "Having walked through gradient boost by hand, now let's try it with SKlearn.  We'll still use the European Social Survey Data, but now with a categorical outcome: Whether or not someone lives with a partner."
   ]
  },
  {
   "cell_type": "code",
   "execution_count": 2,
   "metadata": {},
   "outputs": [],
   "source": [
    "df = pd.read_csv((\n",
    "    \"https://raw.githubusercontent.com/Thinkful-Ed/data-201-resources/\"\n",
    "    \"master/ESS_practice_data/ESSdata_Thinkful.csv\")).dropna()\n",
    "\n",
    "# Definine outcome and predictors.\n",
    "# Set our outcome to 0 and 1.\n",
    "y = df['partner'] - 1\n",
    "X = df.loc[:, ~df.columns.isin(['partner', 'cntry', 'idno'])]\n",
    "\n",
    "# Make the categorical variable 'country' into dummies.\n",
    "X = pd.concat([X, pd.get_dummies(df['cntry'])], axis=1)\n",
    "\n",
    "# Create training and test sets.\n",
    "offset = int(X.shape[0] * 0.9)\n",
    "\n",
    "# Put 90% of the data in the training set.\n",
    "X_train, y_train = X[:offset], y[:offset]\n",
    "\n",
    "# And put 10% in the test set.\n",
    "X_test, y_test = X[offset:], y[offset:]"
   ]
  },
  {
   "cell_type": "markdown",
   "metadata": {},
   "source": [
    "Since we're now working with a binary outcome, we've switched to a classifier.  Now our loss function can't be the residuals.  Our options are \"deviance\", or \"exponential\".  Deviance is used for logistic regression, and we'll try that here."
   ]
  },
  {
   "cell_type": "code",
   "execution_count": 3,
   "metadata": {},
   "outputs": [
    {
     "name": "stdout",
     "output_type": "stream",
     "text": [
      "Training set accuracy:\n",
      "Percent Type I errors: 0.04650845608292417\n",
      "Percent Type II errors: 0.17607746863066012\n",
      "\n",
      "Test set accuracy:\n",
      "Percent Type I errors: 0.06257668711656442\n",
      "Percent Type II errors: 0.18527607361963191\n"
     ]
    }
   ],
   "source": [
    "# We'll make 500 iterations, use 2-deep trees, and set our loss function.\n",
    "params = {'n_estimators': 500,\n",
    "          'max_depth': 2,\n",
    "          'loss': 'deviance'}\n",
    "\n",
    "# Initialize and fit the model.\n",
    "clf = ensemble.GradientBoostingClassifier(**params)\n",
    "clf.fit(X_train, y_train)\n",
    "\n",
    "predict_train = clf.predict(X_train)\n",
    "predict_test = clf.predict(X_test)\n",
    "\n",
    "# Accuracy tables.\n",
    "table_train = pd.crosstab(y_train, predict_train, margins=True)\n",
    "table_test = pd.crosstab(y_test, predict_test, margins=True)\n",
    "\n",
    "train_tI_errors = table_train.loc[0.0,1.0] / table_train.loc['All','All']\n",
    "train_tII_errors = table_train.loc[1.0,0.0] / table_train.loc['All','All']\n",
    "\n",
    "test_tI_errors = table_test.loc[0.0,1.0]/table_test.loc['All','All']\n",
    "test_tII_errors = table_test.loc[1.0,0.0]/table_test.loc['All','All']\n",
    "\n",
    "print((\n",
    "    'Training set accuracy:\\n'\n",
    "    'Percent Type I errors: {}\\n'\n",
    "    'Percent Type II errors: {}\\n\\n'\n",
    "    'Test set accuracy:\\n'\n",
    "    'Percent Type I errors: {}\\n'\n",
    "    'Percent Type II errors: {}'\n",
    ").format(train_tI_errors, train_tII_errors, test_tI_errors, test_tII_errors))\n"
   ]
  },
  {
   "cell_type": "markdown",
   "metadata": {},
   "source": [
    "Unlike decision trees, gradient boost solutions are not terribly easy to interpret on the surface.  But they aren't quite a black box.  We can get a measure of how important various features are by counting how many times a feature is used over the course of many decision trees."
   ]
  },
  {
   "cell_type": "code",
   "execution_count": 4,
   "metadata": {},
   "outputs": [
    {
     "data": {
      "image/png": "[encoded data removed]",
      "text/plain": [
       "<Figure size 432x288 with 1 Axes>"
      ]
     },
     "metadata": {
      "needs_background": "light"
     },
     "output_type": "display_data"
    }
   ],
   "source": [
    "feature_importance = clf.feature_importances_\n",
    "\n",
    "# Make importances relative to max importance.\n",
    "feature_importance = 100.0 * (feature_importance / feature_importance.max())\n",
    "sorted_idx = np.argsort(feature_importance)\n",
    "pos = np.arange(sorted_idx.shape[0]) + .5\n",
    "plt.subplot(1, 2, 2)\n",
    "plt.barh(pos, feature_importance[sorted_idx], align='center')\n",
    "plt.yticks(pos, X.columns[sorted_idx])\n",
    "plt.xlabel('Relative Importance')\n",
    "plt.title('Variable Importance')\n",
    "plt.show()"
   ]
  },
  {
   "cell_type": "markdown",
   "metadata": {},
   "source": [
    "It appears that age and happiness are the most important features in predicting whether or not someone lives with a partner."
   ]
  },
  {
   "cell_type": "markdown",
   "metadata": {
    "collapsed": true
   },
   "source": [
    "### DRILL: Improve this gradient boost model\n",
    "\n",
    "While this model is already doing alright, we've seen from the Type I and Type II error rates that there is definitely room for improvement.  Your task is to see how low you can get the error rates to go in the test set, based on your model in the training set.  Strategies you might use include:\n",
    "\n",
    "* Creating new features\n",
    "* Applying more overfitting-prevention strategies like subsampling\n",
    "* More iterations\n",
    "* Trying a different loss function\n",
    "* Changing the structure of the weak learner: Allowing more leaves in the tree, or other modifications\n",
    "\n",
    "Have fun!"
   ]
  },
  {
   "cell_type": "code",
   "execution_count": 9,
   "metadata": {},
   "outputs": [
    {
     "data": {
      "text/plain": [
       "GradientBoostingClassifier(criterion='friedman_mse', init=None,\n",
       "              learning_rate=0.1, loss='deviance', max_depth=2,\n",
       "              max_features=None, max_leaf_nodes=None,\n",
       "              min_impurity_decrease=0.0, min_impurity_split=None,\n",
       "              min_samples_leaf=1, min_samples_split=2,\n",
       "              min_weight_fraction_leaf=0.0, n_estimators=268,\n",
       "              presort='auto', random_state=None, subsample=1.0, verbose=0,\n",
       "              warm_start=False)"
      ]
     },
     "execution_count": 9,
     "metadata": {},
     "output_type": "execute_result"
    }
   ],
   "source": [
    "# Train a GBC ensamble with 500 trees, then measure the validation error at each stage \n",
    "# of training to find the optimal number of trees, then train another GBC ensamble using \n",
    "# the optimal number of trees\n",
    "from sklearn.model_selection import train_test_split\n",
    "from sklearn.metrics import mean_squared_error\n",
    "\n",
    "# Definine outcome and predictors.\n",
    "# Set our outcome to 0 and 1.\n",
    "y = df['partner'] - 1\n",
    "X = df.loc[:, ~df.columns.isin(['partner', 'cntry', 'idno'])]\n",
    "\n",
    "# Make the categorical variable 'country' into dummies.\n",
    "X = pd.concat([X, pd.get_dummies(df['cntry'])], axis=1)\n",
    "\n",
    "# Create training and test sets.\n",
    "offset = int(X.shape[0] * 0.9)\n",
    "\n",
    "# Put 90% of the data in the training set.\n",
    "X_train, y_train = X[:offset], y[:offset]\n",
    "\n",
    "# And put 10% in the test set.\n",
    "X_test, y_test = X[offset:], y[offset:]\n",
    "\n",
    "#Train GBC\n",
    "gbc = ensemble.GradientBoostingClassifier(max_depth=2, n_estimators=500)\n",
    "gbc.fit(X_train, y_train)\n",
    "\n",
    "#measure validation errors\n",
    "errors = [mean_squared_error(y_test, y_pred)\n",
    "         for y_pred in gbc.staged_predict(X_test)]\n",
    "bst_n_estimators = np.argmin(errors)\n",
    "\n",
    "#train with optimal trees\n",
    "gbc_best = ensemble.GradientBoostingClassifier(max_depth=2, n_estimators=bst_n_estimators)\n",
    "gbc_best.fit(X_train, y_train)"
   ]
  },
  {
   "cell_type": "code",
   "execution_count": 10,
   "metadata": {},
   "outputs": [
    {
     "name": "stdout",
     "output_type": "stream",
     "text": [
      "Training set accuracy:\n",
      "Percent Type I errors: 0.045008183306055646\n",
      "Percent Type II errors: 0.180987452264048\n",
      "\n",
      "Test set accuracy:\n",
      "Percent Type I errors: 0.053987730061349694\n",
      "Percent Type II errors: 0.1901840490797546\n"
     ]
    }
   ],
   "source": [
    "predict_train = gbc_best.predict(X_train)\n",
    "predict_test = gbc_best.predict(X_test)\n",
    "\n",
    "# Accuracy tables.\n",
    "table_train = pd.crosstab(y_train, predict_train, margins=True)\n",
    "table_test = pd.crosstab(y_test, predict_test, margins=True)\n",
    "\n",
    "train_tI_errors = table_train.loc[0.0,1.0] / table_train.loc['All','All']\n",
    "train_tII_errors = table_train.loc[1.0,0.0] / table_train.loc['All','All']\n",
    "\n",
    "test_tI_errors = table_test.loc[0.0,1.0]/table_test.loc['All','All']\n",
    "test_tII_errors = table_test.loc[1.0,0.0]/table_test.loc['All','All']\n",
    "\n",
    "print((\n",
    "    'Training set accuracy:\\n'\n",
    "    'Percent Type I errors: {}\\n'\n",
    "    'Percent Type II errors: {}\\n\\n'\n",
    "    'Test set accuracy:\\n'\n",
    "    'Percent Type I errors: {}\\n'\n",
    "    'Percent Type II errors: {}'\n",
    ").format(train_tI_errors, train_tII_errors, test_tI_errors, test_tII_errors))"
   ]
  },
  {
   "cell_type": "markdown",
   "metadata": {},
   "source": [
    "There was a slight improvement in Type I errors in the test set, otherwise this model was just as poor as the inital model."
   ]
  },
  {
   "cell_type": "code",
   "execution_count": 13,
   "metadata": {},
   "outputs": [
    {
     "data": {
      "image/png": "[encoded data removed]",
      "text/plain": [
       "<Figure size 432x288 with 2 Axes>"
      ]
     },
     "metadata": {
      "needs_background": "light"
     },
     "output_type": "display_data"
    }
   ],
   "source": [
    "# trust, fair, help need to be combined\n",
    "means = df[['ppltrst','pplfair','pplhlp']].mean(axis=0)\n",
    "stds = df[['ppltrst','pplfair','pplhlp']].std(axis=0)\n",
    "df['trust_fair_help'] = ((df[['ppltrst','pplfair','pplhlp']] - means) / stds).mean(axis=1)\n",
    "\n",
    "sns.heatmap(df.corr(), vmax=.8, square=True)\n",
    "plt.show()"
   ]
  },
  {
   "cell_type": "code",
   "execution_count": 16,
   "metadata": {},
   "outputs": [
    {
     "data": {
      "text/html": [
       "<div>\n",
       "<style scoped>\n",
       "    .dataframe tbody tr th:only-of-type {\n",
       "        vertical-align: middle;\n",
       "    }\n",
       "\n",
       "    .dataframe tbody tr th {\n",
       "        vertical-align: top;\n",
       "    }\n",
       "\n",
       "    .dataframe thead th {\n",
       "        text-align: right;\n",
       "    }\n",
       "</style>\n",
       "<table border=\"1\" class=\"dataframe\">\n",
       "  <thead>\n",
       "    <tr style=\"text-align: right;\">\n",
       "      <th></th>\n",
       "      <th>cntry</th>\n",
       "      <th>idno</th>\n",
       "      <th>year</th>\n",
       "      <th>tvtot</th>\n",
       "      <th>happy</th>\n",
       "      <th>sclmeet</th>\n",
       "      <th>sclact</th>\n",
       "      <th>gndr</th>\n",
       "      <th>agea</th>\n",
       "      <th>partner</th>\n",
       "      <th>trust_fair_help</th>\n",
       "    </tr>\n",
       "  </thead>\n",
       "  <tbody>\n",
       "    <tr>\n",
       "      <th>0</th>\n",
       "      <td>CH</td>\n",
       "      <td>5.0</td>\n",
       "      <td>6</td>\n",
       "      <td>3.0</td>\n",
       "      <td>8.0</td>\n",
       "      <td>5.0</td>\n",
       "      <td>4.0</td>\n",
       "      <td>2.0</td>\n",
       "      <td>60.0</td>\n",
       "      <td>1.0</td>\n",
       "      <td>0.191246</td>\n",
       "    </tr>\n",
       "    <tr>\n",
       "      <th>1</th>\n",
       "      <td>CH</td>\n",
       "      <td>25.0</td>\n",
       "      <td>6</td>\n",
       "      <td>6.0</td>\n",
       "      <td>9.0</td>\n",
       "      <td>3.0</td>\n",
       "      <td>2.0</td>\n",
       "      <td>2.0</td>\n",
       "      <td>59.0</td>\n",
       "      <td>1.0</td>\n",
       "      <td>0.020453</td>\n",
       "    </tr>\n",
       "  </tbody>\n",
       "</table>\n",
       "</div>"
      ],
      "text/plain": [
       "  cntry  idno  year  tvtot  happy  sclmeet  sclact  gndr  agea  partner  \\\n",
       "0    CH   5.0     6    3.0    8.0      5.0     4.0   2.0  60.0      1.0   \n",
       "1    CH  25.0     6    6.0    9.0      3.0     2.0   2.0  59.0      1.0   \n",
       "\n",
       "   trust_fair_help  \n",
       "0         0.191246  \n",
       "1         0.020453  "
      ]
     },
     "execution_count": 16,
     "metadata": {},
     "output_type": "execute_result"
    }
   ],
   "source": [
    "features = df.drop(['ppltrst', 'pplfair', 'pplhlp'], axis=1)\n",
    "# features.head(2)"
   ]
  },
  {
   "cell_type": "markdown",
   "metadata": {},
   "source": [
    "### Run the model a third time, with new features and gridsearch for the best parameters"
   ]
  },
  {
   "cell_type": "code",
   "execution_count": 17,
   "metadata": {},
   "outputs": [],
   "source": [
    "# Definine outcome and predictors.\n",
    "# Set our outcome to 0 and 1.\n",
    "y = df['partner'] - 1\n",
    "X = df.loc[:, ~df.columns.isin(['partner', 'cntry', 'idno'])]\n",
    "\n",
    "# Make the categorical variable 'country' into dummies.\n",
    "X = pd.concat([X, pd.get_dummies(df['cntry'])], axis=1)\n",
    "\n",
    "# Create training and test sets.\n",
    "offset = int(X.shape[0] * 0.9)\n",
    "\n",
    "# Put 90% of the data in the training set.\n",
    "X_train, y_train = X[:offset], y[:offset]\n",
    "\n",
    "# And put 10% in the test set.\n",
    "X_test, y_test = X[offset:], y[offset:]"
   ]
  },
  {
   "cell_type": "code",
   "execution_count": 21,
   "metadata": {},
   "outputs": [
    {
     "data": {
      "text/plain": [
       "GridSearchCV(cv=5, error_score='raise',\n",
       "       estimator=GradientBoostingClassifier(criterion='friedman_mse', init=None,\n",
       "              learning_rate=0.1, loss='deviance', max_depth=3,\n",
       "              max_features=None, max_leaf_nodes=None,\n",
       "              min_impurity_decrease=0.0, min_impurity_split=None,\n",
       "              min_samples_leaf=1, min_samples_split=2,\n",
       "              min_weight_fraction_leaf=0.0, n_estimators=100,\n",
       "              presort='auto', random_state=None, subsample=1.0, verbose=0,\n",
       "              warm_start=False),\n",
       "       fit_params={}, iid=True, n_jobs=1,\n",
       "       param_grid={'n_estimators': array([ 44, 120, 196, 272, 348, 424, 500]), 'max_depth': [2, 3, 4, 5], 'learning_rate': [0.1, 0.05, 0.01]},\n",
       "       pre_dispatch='2*n_jobs', refit=True, scoring=None, verbose=0)"
      ]
     },
     "execution_count": 21,
     "metadata": {},
     "output_type": "execute_result"
    }
   ],
   "source": [
    "from sklearn.grid_search import GridSearchCV\n",
    "\n",
    "# use gridsearch for the best params\n",
    "params = {'n_estimators': np.arange(44,501,76),\n",
    "          'max_depth': [2,3,4,5],\n",
    "          'learning_rate': [0.1, 0.05, 0.01]}\n",
    "\n",
    "# Initialize and fit the model.\n",
    "gbc_grid = ensemble.GradientBoostingClassifier()\n",
    "\n",
    "grids = GridSearchCV(gbc_grid, params, cv=5)\n",
    "grids.fit(X_train,y_train)"
   ]
  },
  {
   "cell_type": "code",
   "execution_count": 22,
   "metadata": {},
   "outputs": [
    {
     "data": {
      "text/plain": [
       "([mean: 0.67540, std: 0.09361, params: {'learning_rate': 0.1, 'max_depth': 2, 'n_estimators': 44},\n",
       "  mean: 0.67062, std: 0.10671, params: {'learning_rate': 0.1, 'max_depth': 2, 'n_estimators': 120},\n",
       "  mean: 0.67089, std: 0.10678, params: {'learning_rate': 0.1, 'max_depth': 2, 'n_estimators': 196},\n",
       "  mean: 0.66926, std: 0.10475, params: {'learning_rate': 0.1, 'max_depth': 2, 'n_estimators': 272},\n",
       "  mean: 0.66994, std: 0.10560, params: {'learning_rate': 0.1, 'max_depth': 2, 'n_estimators': 348},\n",
       "  mean: 0.66926, std: 0.10505, params: {'learning_rate': 0.1, 'max_depth': 2, 'n_estimators': 424},\n",
       "  mean: 0.66858, std: 0.10540, params: {'learning_rate': 0.1, 'max_depth': 2, 'n_estimators': 500},\n",
       "  mean: 0.67117, std: 0.10579, params: {'learning_rate': 0.1, 'max_depth': 3, 'n_estimators': 44},\n",
       "  mean: 0.66858, std: 0.10423, params: {'learning_rate': 0.1, 'max_depth': 3, 'n_estimators': 120},\n",
       "  mean: 0.66830, std: 0.10355, params: {'learning_rate': 0.1, 'max_depth': 3, 'n_estimators': 196},\n",
       "  mean: 0.66721, std: 0.10248, params: {'learning_rate': 0.1, 'max_depth': 3, 'n_estimators': 272},\n",
       "  mean: 0.66544, std: 0.10343, params: {'learning_rate': 0.1, 'max_depth': 3, 'n_estimators': 348},\n",
       "  mean: 0.66544, std: 0.10307, params: {'learning_rate': 0.1, 'max_depth': 3, 'n_estimators': 424},\n",
       "  mean: 0.66503, std: 0.10260, params: {'learning_rate': 0.1, 'max_depth': 3, 'n_estimators': 500},\n",
       "  mean: 0.67430, std: 0.10803, params: {'learning_rate': 0.1, 'max_depth': 4, 'n_estimators': 44},\n",
       "  mean: 0.66776, std: 0.10343, params: {'learning_rate': 0.1, 'max_depth': 4, 'n_estimators': 120},\n",
       "  mean: 0.66394, std: 0.10043, params: {'learning_rate': 0.1, 'max_depth': 4, 'n_estimators': 196},\n",
       "  mean: 0.66230, std: 0.09985, params: {'learning_rate': 0.1, 'max_depth': 4, 'n_estimators': 272},\n",
       "  mean: 0.66039, std: 0.09840, params: {'learning_rate': 0.1, 'max_depth': 4, 'n_estimators': 348},\n",
       "  mean: 0.65712, std: 0.09713, params: {'learning_rate': 0.1, 'max_depth': 4, 'n_estimators': 424},\n",
       "  mean: 0.65698, std: 0.09799, params: {'learning_rate': 0.1, 'max_depth': 4, 'n_estimators': 500},\n",
       "  mean: 0.67335, std: 0.10457, params: {'learning_rate': 0.1, 'max_depth': 5, 'n_estimators': 44},\n",
       "  mean: 0.66435, std: 0.10202, params: {'learning_rate': 0.1, 'max_depth': 5, 'n_estimators': 120},\n",
       "  mean: 0.66189, std: 0.10098, params: {'learning_rate': 0.1, 'max_depth': 5, 'n_estimators': 196},\n",
       "  mean: 0.65807, std: 0.09755, params: {'learning_rate': 0.1, 'max_depth': 5, 'n_estimators': 272},\n",
       "  mean: 0.65644, std: 0.09722, params: {'learning_rate': 0.1, 'max_depth': 5, 'n_estimators': 348},\n",
       "  mean: 0.65221, std: 0.09391, params: {'learning_rate': 0.1, 'max_depth': 5, 'n_estimators': 424},\n",
       "  mean: 0.65535, std: 0.09535, params: {'learning_rate': 0.1, 'max_depth': 5, 'n_estimators': 500},\n",
       "  mean: 0.70990, std: 0.03843, params: {'learning_rate': 0.05, 'max_depth': 2, 'n_estimators': 44},\n",
       "  mean: 0.67089, std: 0.10205, params: {'learning_rate': 0.05, 'max_depth': 2, 'n_estimators': 120},\n",
       "  mean: 0.67008, std: 0.10643, params: {'learning_rate': 0.05, 'max_depth': 2, 'n_estimators': 196},\n",
       "  mean: 0.67103, std: 0.10715, params: {'learning_rate': 0.05, 'max_depth': 2, 'n_estimators': 272},\n",
       "  mean: 0.67130, std: 0.10752, params: {'learning_rate': 0.05, 'max_depth': 2, 'n_estimators': 348},\n",
       "  mean: 0.67171, std: 0.10704, params: {'learning_rate': 0.05, 'max_depth': 2, 'n_estimators': 424},\n",
       "  mean: 0.67062, std: 0.10603, params: {'learning_rate': 0.05, 'max_depth': 2, 'n_estimators': 500},\n",
       "  mean: 0.69763, std: 0.06305, params: {'learning_rate': 0.05, 'max_depth': 3, 'n_estimators': 44},\n",
       "  mean: 0.67199, std: 0.10689, params: {'learning_rate': 0.05, 'max_depth': 3, 'n_estimators': 120},\n",
       "  mean: 0.66871, std: 0.10454, params: {'learning_rate': 0.05, 'max_depth': 3, 'n_estimators': 196},\n",
       "  mean: 0.66830, std: 0.10388, params: {'learning_rate': 0.05, 'max_depth': 3, 'n_estimators': 272},\n",
       "  mean: 0.66926, std: 0.10418, params: {'learning_rate': 0.05, 'max_depth': 3, 'n_estimators': 348},\n",
       "  mean: 0.66871, std: 0.10347, params: {'learning_rate': 0.05, 'max_depth': 3, 'n_estimators': 424},\n",
       "  mean: 0.66694, std: 0.10349, params: {'learning_rate': 0.05, 'max_depth': 3, 'n_estimators': 500},\n",
       "  mean: 0.67744, std: 0.10469, params: {'learning_rate': 0.05, 'max_depth': 4, 'n_estimators': 44},\n",
       "  mean: 0.67158, std: 0.10589, params: {'learning_rate': 0.05, 'max_depth': 4, 'n_estimators': 120},\n",
       "  mean: 0.67062, std: 0.10453, params: {'learning_rate': 0.05, 'max_depth': 4, 'n_estimators': 196},\n",
       "  mean: 0.66817, std: 0.10270, params: {'learning_rate': 0.05, 'max_depth': 4, 'n_estimators': 272},\n",
       "  mean: 0.66762, std: 0.10349, params: {'learning_rate': 0.05, 'max_depth': 4, 'n_estimators': 348},\n",
       "  mean: 0.66394, std: 0.10104, params: {'learning_rate': 0.05, 'max_depth': 4, 'n_estimators': 424},\n",
       "  mean: 0.66394, std: 0.10019, params: {'learning_rate': 0.05, 'max_depth': 4, 'n_estimators': 500},\n",
       "  mean: 0.67853, std: 0.10486, params: {'learning_rate': 0.05, 'max_depth': 5, 'n_estimators': 44},\n",
       "  mean: 0.67049, std: 0.10437, params: {'learning_rate': 0.05, 'max_depth': 5, 'n_estimators': 120},\n",
       "  mean: 0.66844, std: 0.10356, params: {'learning_rate': 0.05, 'max_depth': 5, 'n_estimators': 196},\n",
       "  mean: 0.66271, std: 0.09943, params: {'learning_rate': 0.05, 'max_depth': 5, 'n_estimators': 272},\n",
       "  mean: 0.66230, std: 0.09902, params: {'learning_rate': 0.05, 'max_depth': 5, 'n_estimators': 348},\n",
       "  mean: 0.66189, std: 0.09969, params: {'learning_rate': 0.05, 'max_depth': 5, 'n_estimators': 424},\n",
       "  mean: 0.66230, std: 0.10105, params: {'learning_rate': 0.05, 'max_depth': 5, 'n_estimators': 500},\n",
       "  mean: 0.72040, std: 0.01007, params: {'learning_rate': 0.01, 'max_depth': 2, 'n_estimators': 44},\n",
       "  mean: 0.73200, std: 0.01081, params: {'learning_rate': 0.01, 'max_depth': 2, 'n_estimators': 120},\n",
       "  mean: 0.73295, std: 0.00838, params: {'learning_rate': 0.01, 'max_depth': 2, 'n_estimators': 196},\n",
       "  mean: 0.69722, std: 0.05433, params: {'learning_rate': 0.01, 'max_depth': 2, 'n_estimators': 272},\n",
       "  mean: 0.68931, std: 0.08263, params: {'learning_rate': 0.01, 'max_depth': 2, 'n_estimators': 348},\n",
       "  mean: 0.67499, std: 0.09410, params: {'learning_rate': 0.01, 'max_depth': 2, 'n_estimators': 424},\n",
       "  mean: 0.67280, std: 0.09827, params: {'learning_rate': 0.01, 'max_depth': 2, 'n_estimators': 500},\n",
       "  mean: 0.69858, std: 0.04117, params: {'learning_rate': 0.01, 'max_depth': 3, 'n_estimators': 44},\n",
       "  mean: 0.71754, std: 0.03701, params: {'learning_rate': 0.01, 'max_depth': 3, 'n_estimators': 120},\n",
       "  mean: 0.71195, std: 0.04303, params: {'learning_rate': 0.01, 'max_depth': 3, 'n_estimators': 196},\n",
       "  mean: 0.68031, std: 0.09478, params: {'learning_rate': 0.01, 'max_depth': 3, 'n_estimators': 272},\n",
       "  mean: 0.67417, std: 0.10648, params: {'learning_rate': 0.01, 'max_depth': 3, 'n_estimators': 348},\n",
       "  mean: 0.67239, std: 0.10689, params: {'learning_rate': 0.01, 'max_depth': 3, 'n_estimators': 424},\n",
       "  mean: 0.67158, std: 0.10691, params: {'learning_rate': 0.01, 'max_depth': 3, 'n_estimators': 500},\n",
       "  mean: 0.70308, std: 0.04189, params: {'learning_rate': 0.01, 'max_depth': 4, 'n_estimators': 44},\n",
       "  mean: 0.69926, std: 0.06152, params: {'learning_rate': 0.01, 'max_depth': 4, 'n_estimators': 120},\n",
       "  mean: 0.67662, std: 0.10397, params: {'learning_rate': 0.01, 'max_depth': 4, 'n_estimators': 196},\n",
       "  mean: 0.67730, std: 0.10355, params: {'learning_rate': 0.01, 'max_depth': 4, 'n_estimators': 272},\n",
       "  mean: 0.67730, std: 0.10684, params: {'learning_rate': 0.01, 'max_depth': 4, 'n_estimators': 348},\n",
       "  mean: 0.67458, std: 0.10721, params: {'learning_rate': 0.01, 'max_depth': 4, 'n_estimators': 424},\n",
       "  mean: 0.67376, std: 0.10744, params: {'learning_rate': 0.01, 'max_depth': 4, 'n_estimators': 500},\n",
       "  mean: 0.70786, std: 0.04002, params: {'learning_rate': 0.01, 'max_depth': 5, 'n_estimators': 44},\n",
       "  mean: 0.67526, std: 0.10473, params: {'learning_rate': 0.01, 'max_depth': 5, 'n_estimators': 120},\n",
       "  mean: 0.67690, std: 0.10488, params: {'learning_rate': 0.01, 'max_depth': 5, 'n_estimators': 196},\n",
       "  mean: 0.68003, std: 0.10579, params: {'learning_rate': 0.01, 'max_depth': 5, 'n_estimators': 272},\n",
       "  mean: 0.67949, std: 0.10748, params: {'learning_rate': 0.01, 'max_depth': 5, 'n_estimators': 348},\n",
       "  mean: 0.67649, std: 0.10693, params: {'learning_rate': 0.01, 'max_depth': 5, 'n_estimators': 424},\n",
       "  mean: 0.67321, std: 0.10583, params: {'learning_rate': 0.01, 'max_depth': 5, 'n_estimators': 500}],\n",
       " {'learning_rate': 0.01, 'max_depth': 2, 'n_estimators': 196},\n",
       " 0.7329514457174031)"
      ]
     },
     "execution_count": 22,
     "metadata": {},
     "output_type": "execute_result"
    }
   ],
   "source": [
    "grids.grid_scores_, grids.best_params_, grids.best_score_"
   ]
  },
  {
   "cell_type": "code",
   "execution_count": 24,
   "metadata": {},
   "outputs": [
    {
     "name": "stdout",
     "output_type": "stream",
     "text": [
      "Training set accuracy:\n",
      "Percent Type I errors: 0.028368794326241134\n",
      "Percent Type II errors: 0.22940534642662302\n",
      "\n",
      "Test set accuracy:\n",
      "Percent Type I errors: 0.04539877300613497\n",
      "Percent Type II errors: 0.22208588957055214\n"
     ]
    }
   ],
   "source": [
    "# Initiate and Train GBC\n",
    "gbc = ensemble.GradientBoostingClassifier(max_depth=2, n_estimators=196, learning_rate=0.01)\n",
    "gbc.fit(X_train, y_train)\n",
    "\n",
    "predict_train = gbc.predict(X_train)\n",
    "predict_test = gbc.predict(X_test)\n",
    "\n",
    "# Accuracy tables.\n",
    "table_train = pd.crosstab(y_train, predict_train, margins=True)\n",
    "table_test = pd.crosstab(y_test, predict_test, margins=True)\n",
    "\n",
    "train_tI_errors = table_train.loc[0.0,1.0] / table_train.loc['All','All']\n",
    "train_tII_errors = table_train.loc[1.0,0.0] / table_train.loc['All','All']\n",
    "\n",
    "test_tI_errors = table_test.loc[0.0,1.0]/table_test.loc['All','All']\n",
    "test_tII_errors = table_test.loc[1.0,0.0]/table_test.loc['All','All']\n",
    "\n",
    "print((\n",
    "    'Training set accuracy:\\n'\n",
    "    'Percent Type I errors: {}\\n'\n",
    "    'Percent Type II errors: {}\\n\\n'\n",
    "    'Test set accuracy:\\n'\n",
    "    'Percent Type I errors: {}\\n'\n",
    "    'Percent Type II errors: {}'\n",
    ").format(train_tI_errors, train_tII_errors, test_tI_errors, test_tII_errors))"
   ]
  },
  {
   "cell_type": "markdown",
   "metadata": {},
   "source": [
    "Now only the type I errors increased their accuracy with the validation set getting to about 95.5% accurate positive predictions. However, type II error increased and now there's only about 78% accurate for predicting people who don't live with a partner."
   ]
  },
  {
   "cell_type": "code",
   "execution_count": null,
   "metadata": {},
   "outputs": [],
   "source": []
  }
 ],
 "metadata": {
  "hide_input": false,
  "kernelspec": {
   "display_name": "Python 3",
   "language": "python",
   "name": "python3"
  },
  "language_info": {
   "codemirror_mode": {
    "name": "ipython",
    "version": 3
   },
   "file_extension": ".py",
   "mimetype": "text/x-python",
   "name": "python",
   "nbconvert_exporter": "python",
   "pygments_lexer": "ipython3",
   "version": "3.6.7"
  },
  "toc": {
   "colors": {
    "hover_highlight": "#DAA520",
    "running_highlight": "#FF0000",
    "selected_highlight": "#FFD700"
   },
   "moveMenuLeft": true,
   "nav_menu": {
    "height": "59px",
    "width": "252px"
   },
   "navigate_menu": true,
   "number_sections": true,
   "sideBar": true,
   "threshold": 4,
   "toc_cell": false,
   "toc_section_display": "block",
   "toc_window_display": false
  }
 },
 "nbformat": 4,
 "nbformat_minor": 2
}
