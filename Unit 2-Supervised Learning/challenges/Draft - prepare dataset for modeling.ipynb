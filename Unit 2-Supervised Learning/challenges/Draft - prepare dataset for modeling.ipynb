{
 "cells": [
  {
   "cell_type": "code",
   "execution_count": 1,
   "metadata": {},
   "outputs": [],
   "source": [
    "import pandas as pd\n",
    "import numpy as np\n",
    "import matplotlib.pyplot as plt\n",
    "import seaborn as sns\n",
    "import math\n",
    "import scipy.stats as stats\n",
    "from matplotlib.mlab import PCA as mlabPCA\n",
    "from sklearn import preprocessing\n",
    "from sklearn.preprocessing import StandardScaler\n",
    "from sklearn.decomposition import PCA "
   ]
  },
  {
   "cell_type": "code",
   "execution_count": 2,
   "metadata": {},
   "outputs": [
    {
     "data": {
      "text/html": [
       "<div>\n",
       "<style scoped>\n",
       "    .dataframe tbody tr th:only-of-type {\n",
       "        vertical-align: middle;\n",
       "    }\n",
       "\n",
       "    .dataframe tbody tr th {\n",
       "        vertical-align: top;\n",
       "    }\n",
       "\n",
       "    .dataframe thead th {\n",
       "        text-align: right;\n",
       "    }\n",
       "</style>\n",
       "<table border=\"1\" class=\"dataframe\">\n",
       "  <thead>\n",
       "    <tr style=\"text-align: right;\">\n",
       "      <th></th>\n",
       "      <th>User_ID</th>\n",
       "      <th>Product_ID</th>\n",
       "      <th>Gender</th>\n",
       "      <th>Age</th>\n",
       "      <th>Occupation</th>\n",
       "      <th>City_Category</th>\n",
       "      <th>Stay_In_Current_City_Years</th>\n",
       "      <th>Marital_Status</th>\n",
       "      <th>Product_Category_1</th>\n",
       "      <th>Product_Category_2</th>\n",
       "      <th>Product_Category_3</th>\n",
       "      <th>Purchase</th>\n",
       "    </tr>\n",
       "  </thead>\n",
       "  <tbody>\n",
       "    <tr>\n",
       "      <th>0</th>\n",
       "      <td>1000001</td>\n",
       "      <td>P00069042</td>\n",
       "      <td>F</td>\n",
       "      <td>0-17</td>\n",
       "      <td>10</td>\n",
       "      <td>A</td>\n",
       "      <td>2</td>\n",
       "      <td>0</td>\n",
       "      <td>3</td>\n",
       "      <td>NaN</td>\n",
       "      <td>NaN</td>\n",
       "      <td>8370</td>\n",
       "    </tr>\n",
       "    <tr>\n",
       "      <th>1</th>\n",
       "      <td>1000001</td>\n",
       "      <td>P00248942</td>\n",
       "      <td>F</td>\n",
       "      <td>0-17</td>\n",
       "      <td>10</td>\n",
       "      <td>A</td>\n",
       "      <td>2</td>\n",
       "      <td>0</td>\n",
       "      <td>1</td>\n",
       "      <td>6.0</td>\n",
       "      <td>14.0</td>\n",
       "      <td>15200</td>\n",
       "    </tr>\n",
       "    <tr>\n",
       "      <th>2</th>\n",
       "      <td>1000001</td>\n",
       "      <td>P00087842</td>\n",
       "      <td>F</td>\n",
       "      <td>0-17</td>\n",
       "      <td>10</td>\n",
       "      <td>A</td>\n",
       "      <td>2</td>\n",
       "      <td>0</td>\n",
       "      <td>12</td>\n",
       "      <td>NaN</td>\n",
       "      <td>NaN</td>\n",
       "      <td>1422</td>\n",
       "    </tr>\n",
       "    <tr>\n",
       "      <th>3</th>\n",
       "      <td>1000001</td>\n",
       "      <td>P00085442</td>\n",
       "      <td>F</td>\n",
       "      <td>0-17</td>\n",
       "      <td>10</td>\n",
       "      <td>A</td>\n",
       "      <td>2</td>\n",
       "      <td>0</td>\n",
       "      <td>12</td>\n",
       "      <td>14.0</td>\n",
       "      <td>NaN</td>\n",
       "      <td>1057</td>\n",
       "    </tr>\n",
       "    <tr>\n",
       "      <th>4</th>\n",
       "      <td>1000002</td>\n",
       "      <td>P00285442</td>\n",
       "      <td>M</td>\n",
       "      <td>55+</td>\n",
       "      <td>16</td>\n",
       "      <td>C</td>\n",
       "      <td>4+</td>\n",
       "      <td>0</td>\n",
       "      <td>8</td>\n",
       "      <td>NaN</td>\n",
       "      <td>NaN</td>\n",
       "      <td>7969</td>\n",
       "    </tr>\n",
       "  </tbody>\n",
       "</table>\n",
       "</div>"
      ],
      "text/plain": [
       "   User_ID Product_ID Gender   Age  Occupation City_Category  \\\n",
       "0  1000001  P00069042      F  0-17          10             A   \n",
       "1  1000001  P00248942      F  0-17          10             A   \n",
       "2  1000001  P00087842      F  0-17          10             A   \n",
       "3  1000001  P00085442      F  0-17          10             A   \n",
       "4  1000002  P00285442      M   55+          16             C   \n",
       "\n",
       "  Stay_In_Current_City_Years  Marital_Status  Product_Category_1  \\\n",
       "0                          2               0                   3   \n",
       "1                          2               0                   1   \n",
       "2                          2               0                  12   \n",
       "3                          2               0                  12   \n",
       "4                         4+               0                   8   \n",
       "\n",
       "   Product_Category_2  Product_Category_3  Purchase  \n",
       "0                 NaN                 NaN      8370  \n",
       "1                 6.0                14.0     15200  \n",
       "2                 NaN                 NaN      1422  \n",
       "3                14.0                 NaN      1057  \n",
       "4                 NaN                 NaN      7969  "
      ]
     },
     "execution_count": 2,
     "metadata": {},
     "output_type": "execute_result"
    }
   ],
   "source": [
    "sns.set_style(\"white\")\n",
    "\n",
    "df = pd.read_csv('BlackFriday.csv')\n",
    "df.head()"
   ]
  },
  {
   "cell_type": "code",
   "execution_count": 3,
   "metadata": {},
   "outputs": [
    {
     "name": "stdout",
     "output_type": "stream",
     "text": [
      "Index(['User_ID', 'Product_ID', 'Gender', 'Age', 'Occupation', 'City_Category',\n",
      "       'Stay_In_Current_City_Years', 'Marital_Status', 'Product_Category_1',\n",
      "       'Product_Category_2', 'Product_Category_3', 'Purchase'],\n",
      "      dtype='object')\n",
      "(537577, 12)\n",
      "User_ID                         int64\n",
      "Product_ID                     object\n",
      "Gender                         object\n",
      "Age                            object\n",
      "Occupation                      int64\n",
      "City_Category                  object\n",
      "Stay_In_Current_City_Years     object\n",
      "Marital_Status                  int64\n",
      "Product_Category_1              int64\n",
      "Product_Category_2            float64\n",
      "Product_Category_3            float64\n",
      "Purchase                        int64\n",
      "dtype: object\n"
     ]
    },
    {
     "data": {
      "text/html": [
       "<div>\n",
       "<style scoped>\n",
       "    .dataframe tbody tr th:only-of-type {\n",
       "        vertical-align: middle;\n",
       "    }\n",
       "\n",
       "    .dataframe tbody tr th {\n",
       "        vertical-align: top;\n",
       "    }\n",
       "\n",
       "    .dataframe thead th {\n",
       "        text-align: right;\n",
       "    }\n",
       "</style>\n",
       "<table border=\"1\" class=\"dataframe\">\n",
       "  <thead>\n",
       "    <tr style=\"text-align: right;\">\n",
       "      <th></th>\n",
       "      <th>User_ID</th>\n",
       "      <th>Occupation</th>\n",
       "      <th>Marital_Status</th>\n",
       "      <th>Product_Category_1</th>\n",
       "      <th>Product_Category_2</th>\n",
       "      <th>Product_Category_3</th>\n",
       "      <th>Purchase</th>\n",
       "    </tr>\n",
       "  </thead>\n",
       "  <tbody>\n",
       "    <tr>\n",
       "      <th>count</th>\n",
       "      <td>5.375770e+05</td>\n",
       "      <td>537577.00000</td>\n",
       "      <td>537577.000000</td>\n",
       "      <td>537577.000000</td>\n",
       "      <td>370591.000000</td>\n",
       "      <td>164278.000000</td>\n",
       "      <td>537577.000000</td>\n",
       "    </tr>\n",
       "    <tr>\n",
       "      <th>mean</th>\n",
       "      <td>1.002992e+06</td>\n",
       "      <td>8.08271</td>\n",
       "      <td>0.408797</td>\n",
       "      <td>5.295546</td>\n",
       "      <td>9.842144</td>\n",
       "      <td>12.669840</td>\n",
       "      <td>9333.859853</td>\n",
       "    </tr>\n",
       "    <tr>\n",
       "      <th>std</th>\n",
       "      <td>1.714393e+03</td>\n",
       "      <td>6.52412</td>\n",
       "      <td>0.491612</td>\n",
       "      <td>3.750701</td>\n",
       "      <td>5.087259</td>\n",
       "      <td>4.124341</td>\n",
       "      <td>4981.022133</td>\n",
       "    </tr>\n",
       "    <tr>\n",
       "      <th>min</th>\n",
       "      <td>1.000001e+06</td>\n",
       "      <td>0.00000</td>\n",
       "      <td>0.000000</td>\n",
       "      <td>1.000000</td>\n",
       "      <td>2.000000</td>\n",
       "      <td>3.000000</td>\n",
       "      <td>185.000000</td>\n",
       "    </tr>\n",
       "    <tr>\n",
       "      <th>25%</th>\n",
       "      <td>1.001495e+06</td>\n",
       "      <td>2.00000</td>\n",
       "      <td>0.000000</td>\n",
       "      <td>1.000000</td>\n",
       "      <td>5.000000</td>\n",
       "      <td>9.000000</td>\n",
       "      <td>5866.000000</td>\n",
       "    </tr>\n",
       "    <tr>\n",
       "      <th>50%</th>\n",
       "      <td>1.003031e+06</td>\n",
       "      <td>7.00000</td>\n",
       "      <td>0.000000</td>\n",
       "      <td>5.000000</td>\n",
       "      <td>9.000000</td>\n",
       "      <td>14.000000</td>\n",
       "      <td>8062.000000</td>\n",
       "    </tr>\n",
       "    <tr>\n",
       "      <th>75%</th>\n",
       "      <td>1.004417e+06</td>\n",
       "      <td>14.00000</td>\n",
       "      <td>1.000000</td>\n",
       "      <td>8.000000</td>\n",
       "      <td>15.000000</td>\n",
       "      <td>16.000000</td>\n",
       "      <td>12073.000000</td>\n",
       "    </tr>\n",
       "    <tr>\n",
       "      <th>max</th>\n",
       "      <td>1.006040e+06</td>\n",
       "      <td>20.00000</td>\n",
       "      <td>1.000000</td>\n",
       "      <td>18.000000</td>\n",
       "      <td>18.000000</td>\n",
       "      <td>18.000000</td>\n",
       "      <td>23961.000000</td>\n",
       "    </tr>\n",
       "  </tbody>\n",
       "</table>\n",
       "</div>"
      ],
      "text/plain": [
       "            User_ID    Occupation  Marital_Status  Product_Category_1  \\\n",
       "count  5.375770e+05  537577.00000   537577.000000       537577.000000   \n",
       "mean   1.002992e+06       8.08271        0.408797            5.295546   \n",
       "std    1.714393e+03       6.52412        0.491612            3.750701   \n",
       "min    1.000001e+06       0.00000        0.000000            1.000000   \n",
       "25%    1.001495e+06       2.00000        0.000000            1.000000   \n",
       "50%    1.003031e+06       7.00000        0.000000            5.000000   \n",
       "75%    1.004417e+06      14.00000        1.000000            8.000000   \n",
       "max    1.006040e+06      20.00000        1.000000           18.000000   \n",
       "\n",
       "       Product_Category_2  Product_Category_3       Purchase  \n",
       "count       370591.000000       164278.000000  537577.000000  \n",
       "mean             9.842144           12.669840    9333.859853  \n",
       "std              5.087259            4.124341    4981.022133  \n",
       "min              2.000000            3.000000     185.000000  \n",
       "25%              5.000000            9.000000    5866.000000  \n",
       "50%              9.000000           14.000000    8062.000000  \n",
       "75%             15.000000           16.000000   12073.000000  \n",
       "max             18.000000           18.000000   23961.000000  "
      ]
     },
     "execution_count": 3,
     "metadata": {},
     "output_type": "execute_result"
    }
   ],
   "source": [
    "print(df.columns)\n",
    "print(df.shape)\n",
    "print(df.dtypes)\n",
    "df.describe()"
   ]
  },
  {
   "cell_type": "markdown",
   "metadata": {},
   "source": [
    "#### Categorical data:\n",
    ">- User ID\n",
    "- Product ID\n",
    "- Gender\n",
    "- Occupation\n",
    "- City Category\n",
    "- Marital Status\n",
    "- Product Category 1\n",
    "- Product Category 2\n",
    "- Product Category 3\n",
    "    \n",
    "#### Continuous data: \n",
    ">- Age\n",
    "- Stay in current city (years)\n",
    "- Purchase"
   ]
  },
  {
   "cell_type": "code",
   "execution_count": 8,
   "metadata": {},
   "outputs": [],
   "source": [
    "df['Age'] = df['Age'].replace('0-17', 0)\n",
    "df['Age'] = df['Age'].replace('18-25', 1)\n",
    "df['Age'] = df['Age'].replace('26-35', 2)\n",
    "df['Age'] = df['Age'].replace('36-45', 3)\n",
    "df['Age'] = df['Age'].replace('46-50', 4)\n",
    "df['Age'] = df['Age'].replace('51-55', 5)\n",
    "df['Age'] = df['Age'].replace('55+', 6)\n",
    "\n",
    "df['Age'] = df['Age'].astype('int64')"
   ]
  },
  {
   "cell_type": "code",
   "execution_count": 10,
   "metadata": {},
   "outputs": [],
   "source": [
    "df['Stay_In_Current_City_Years'] = df['Stay_In_Current_City_Years'].map(lambda x: x.lstrip('+').rstrip('+'))"
   ]
  },
  {
   "cell_type": "code",
   "execution_count": 11,
   "metadata": {},
   "outputs": [],
   "source": [
    "df['Stay_In_Current_City_Years'] = df['Stay_In_Current_City_Years'].astype('int64')"
   ]
  },
  {
   "cell_type": "code",
   "execution_count": 4,
   "metadata": {},
   "outputs": [
    {
     "name": "stdout",
     "output_type": "stream",
     "text": [
      "0\n",
      "166986\n",
      "373299\n"
     ]
    }
   ],
   "source": [
    "print(df['Product_Category_1'].isnull().sum())\n",
    "print(df['Product_Category_2'].isnull().sum())\n",
    "print(df['Product_Category_3'].isnull().sum())"
   ]
  },
  {
   "cell_type": "code",
   "execution_count": 5,
   "metadata": {},
   "outputs": [],
   "source": [
    "# replace the null values with 0 because a customer doesn't have to buy products from all three categories.\n",
    "df['Product_Category_2'].fillna(0, inplace=True)\n",
    "df['Product_Category_3'].fillna(0, inplace=True)"
   ]
  },
  {
   "cell_type": "code",
   "execution_count": 6,
   "metadata": {},
   "outputs": [
    {
     "data": {
      "text/plain": [
       "User_ID                       0\n",
       "Product_ID                    0\n",
       "Gender                        0\n",
       "Age                           0\n",
       "Occupation                    0\n",
       "City_Category                 0\n",
       "Stay_In_Current_City_Years    0\n",
       "Marital_Status                0\n",
       "Product_Category_1            0\n",
       "Product_Category_2            0\n",
       "Product_Category_3            0\n",
       "Purchase                      0\n",
       "dtype: int64"
      ]
     },
     "execution_count": 6,
     "metadata": {},
     "output_type": "execute_result"
    }
   ],
   "source": [
    "df.isnull().sum()"
   ]
  },
  {
   "cell_type": "code",
   "execution_count": 7,
   "metadata": {},
   "outputs": [
    {
     "data": {
      "text/plain": [
       "User_ID                                                            371701398309\n",
       "Product_ID                    P00248942P00085442P00193542P00184942P00346142P...\n",
       "Gender                        FFMMMMMMFFFFMMMMMMMFFFFFFFFFFFFFFFMMMMMMMMMMMM...\n",
       "Age                           0-170-1726-3546-5046-5046-5026-3526-3551-5551-...\n",
       "Occupation                                                              3010452\n",
       "City_Category                 AAABBBAAAAAABCCCCCCBBBBBBBBBBBBCCCCCCCCCAAAAAA...\n",
       "Stay_In_Current_City_Years    22322211111114+4+4+0004+4+4+4+4+4+4+4+4+4+4+4+...\n",
       "Marital_Status                                                           150266\n",
       "Product_Category_1                                                      1570147\n",
       "Product_Category_2                                                  3.64741e+06\n",
       "Product_Category_3                                                  2.08138e+06\n",
       "Purchase                                                             3732568444\n",
       "dtype: object"
      ]
     },
     "execution_count": 7,
     "metadata": {},
     "output_type": "execute_result"
    }
   ],
   "source": [
    "df[(df['Product_Category_2']>0)].sum()"
   ]
  },
  {
   "cell_type": "code",
   "execution_count": 37,
   "metadata": {},
   "outputs": [],
   "source": [
    "# Take a subset of the data to make plots clearer.\n",
    "df_gender = df.loc[\n",
    "    ((df['Gender'] == 'M') | (df['Gender'] == 'F')),\n",
    "    ['Gender', 'Stay_In_Current_City_Years', 'Age', 'Product_Category_1', 'Product_Category_2', \n",
    "     'Product_Category_3', 'Purchase']\n",
    "]\n",
    "\n",
    "purchases = df.loc[\n",
    "    ((df['Gender'] == 'M') | (df['Gender'] == 'F')),\n",
    "    ['Gender', 'Purchase']\n",
    "]"
   ]
  },
  {
   "cell_type": "code",
   "execution_count": null,
   "metadata": {},
   "outputs": [],
   "source": [
    "# Declare that you want to make a scatterplot matrix.\n",
    "g = sns.PairGrid(df.dropna(), diag_sharey=False)\n",
    "# Scatterplot.\n",
    "g.map_upper(plt.scatter, alpha=.5)\n",
    "# Fit line summarizing the linear relationship of the two variables.\n",
    "g.map_lower(sns.regplot, scatter_kws=dict(alpha=0))\n",
    "# Give information about the univariate distributions of the variables.\n",
    "g.map_diag(sns.kdeplot, lw=3)\n",
    "plt.show()"
   ]
  },
  {
   "cell_type": "code",
   "execution_count": 45,
   "metadata": {},
   "outputs": [
    {
     "name": "stdout",
     "output_type": "stream",
     "text": [
      "                            Stay_In_Current_City_Years       Age  \\\n",
      "Stay_In_Current_City_Years                    1.000000 -0.004754   \n",
      "Age                                          -0.004754  1.000000   \n",
      "Product_Category_1                           -0.004182  0.061951   \n",
      "Product_Category_2                            0.001244  0.019723   \n",
      "Product_Category_3                            0.001992 -0.006922   \n",
      "Purchase                                      0.005470  0.017717   \n",
      "\n",
      "                            Product_Category_1  Product_Category_2  \\\n",
      "Stay_In_Current_City_Years           -0.004182            0.001244   \n",
      "Age                                   0.061951            0.019723   \n",
      "Product_Category_1                    1.000000           -0.040730   \n",
      "Product_Category_2                   -0.040730            1.000000   \n",
      "Product_Category_3                   -0.389048            0.090284   \n",
      "Purchase                             -0.314125            0.038395   \n",
      "\n",
      "                            Product_Category_3  Purchase  \n",
      "Stay_In_Current_City_Years            0.001992  0.005470  \n",
      "Age                                  -0.006922  0.017717  \n",
      "Product_Category_1                   -0.389048 -0.314125  \n",
      "Product_Category_2                    0.090284  0.038395  \n",
      "Product_Category_3                    1.000000  0.284120  \n",
      "Purchase                              0.284120  1.000000  \n"
     ]
    },
    {
     "data": {
      "image/png": "[encoded data removed]",
      "text/plain": [
       "<Figure size 864x648 with 2 Axes>"
      ]
     },
     "metadata": {},
     "output_type": "display_data"
    }
   ],
   "source": [
    "# Make the correlation matrix.\n",
    "corrmat = df_gender.corr()\n",
    "print(corrmat)\n",
    "\n",
    "# Set up the matplotlib figure.\n",
    "f, ax = plt.subplots(figsize=(12, 9))\n",
    "\n",
    "# Draw the heatmap using seaborn.\n",
    "sns.heatmap(corrmat, vmax=.8, square=True)\n",
    "plt.show()"
   ]
  },
  {
   "cell_type": "code",
   "execution_count": 39,
   "metadata": {},
   "outputs": [
    {
     "name": "stderr",
     "output_type": "stream",
     "text": [
      "C:\\Users\\AES\\Anaconda3\\lib\\site-packages\\seaborn\\axisgrid.py:230: UserWarning: The `size` paramter has been renamed to `height`; please update your code.\n",
      "  warnings.warn(msg, UserWarning)\n",
      "C:\\Users\\AES\\Anaconda3\\lib\\site-packages\\seaborn\\axisgrid.py:715: UserWarning: Using the boxplot function without specifying `order` is likely to produce an incorrect plot.\n",
      "  warnings.warn(warning)\n"
     ]
    },
    {
     "data": {
      "image/png": "[encoded data removed]",
      "text/plain": [
       "<Figure size 720x288 with 5 Axes>"
      ]
     },
     "metadata": {},
     "output_type": "display_data"
    },
    {
     "data": {
      "image/png": "[encoded data removed]",
      "text/plain": [
       "<Figure size 432x288 with 1 Axes>"
      ]
     },
     "metadata": {},
     "output_type": "display_data"
    },
    {
     "name": "stdout",
     "output_type": "stream",
     "text": [
      "             Age                                               \\\n",
      "           count      mean       std  min  25%  50%  75%  max   \n",
      "Gender                                                          \n",
      "F       132197.0  2.505208  1.384891  0.0  2.0  2.0  3.0  6.0   \n",
      "M       405380.0  2.491346  1.341864  0.0  2.0  2.0  3.0  6.0   \n",
      "\n",
      "       Product_Category_1           ...  Purchase           \\\n",
      "                    count      mean ...       75%      max   \n",
      "Gender                              ...                      \n",
      "F                132197.0  5.595445 ...   11436.0  23959.0   \n",
      "M                405380.0  5.197748 ...   12542.0  23961.0   \n",
      "\n",
      "       Stay_In_Current_City_Years                                               \n",
      "                            count      mean       std  min  25%  50%  75%  max  \n",
      "Gender                                                                          \n",
      "F                        132197.0  1.824693  1.254941  0.0  1.0  1.0  3.0  4.0  \n",
      "M                        405380.0  1.870795  1.300803  0.0  1.0  2.0  3.0  4.0  \n",
      "\n",
      "[2 rows x 48 columns]\n",
      "Stay_In_Current_City_Years\n",
      "Ttest_indResult(statistic=11.286498339990592, pvalue=1.5418888327532732e-29)\n",
      "Age\n",
      "Ttest_indResult(statistic=-3.235782507495587, pvalue=0.0012131711192314616)\n",
      "Product_Category_1\n",
      "Ttest_indResult(statistic=-33.5130663820011, pvalue=5.592110990409024e-246)\n",
      "Product_Category_2\n",
      "Ttest_indResult(statistic=-1.1582777157187356, pvalue=0.24675123685443165)\n",
      "Product_Category_3\n",
      "Ttest_indResult(statistic=26.27456410535367, pvalue=4.677799062676478e-152)\n",
      "Purchase\n",
      "Ttest_indResult(statistic=44.13462293864972, pvalue=0.0)\n"
     ]
    }
   ],
   "source": [
    "# Plot all the variables with boxplots for each country.\n",
    "\n",
    "# Restructure the data so we can use FacetGrid rather than making a boxplot\n",
    "# for each variable separately.\n",
    "df_long = df_gender[['Gender', 'Stay_In_Current_City_Years', 'Age', 'Product_Category_1', 'Product_Category_2', \n",
    "     'Product_Category_3']]\n",
    "df_long = pd.melt(df_long, id_vars=['Gender'])\n",
    "\n",
    "g = sns.FacetGrid(df_long, col=\"variable\", size=4, aspect=.5)\n",
    "g = g.map(sns.boxplot, \"Gender\", \"value\")\n",
    "plt.show()\n",
    "\n",
    "ax = sns.boxplot(x=df_gender['Purchase'], y=df_gender['Gender'])\n",
    "plt.show()\n",
    "\n",
    "# Descriptive statistics by group.\n",
    "print(df_gender.groupby('Gender').describe())\n",
    "\n",
    "# Test whether group differences are significant.\n",
    "for col in df_gender.loc[:,'Stay_In_Current_City_Years':'Purchase'].columns:\n",
    "    print(col)\n",
    "    print(stats.ttest_ind(\n",
    "        df_gender[df_gender['Gender'] == 'M'][col].dropna(),\n",
    "        df_gender[df_gender['Gender'] == 'F'][col].dropna()\n",
    "    ))"
   ]
  },
  {
   "cell_type": "code",
   "execution_count": 44,
   "metadata": {},
   "outputs": [
    {
     "data": {
      "image/png": "[encoded data removed]",
      "text/plain": [
       "<Figure size 432x288 with 1 Axes>"
      ]
     },
     "metadata": {},
     "output_type": "display_data"
    },
    {
     "name": "stdout",
     "output_type": "stream",
     "text": [
      "partner_cat  Married  Not Married\n",
      "Gender                           \n",
      "F              55223        76974\n",
      "M             164537       240843\n",
      "Power_divergenceResult(statistic=162247.2218175257, pvalue=0.0)\n"
     ]
    }
   ],
   "source": [
    "# Add a second categorical variable.\n",
    "df_2cat = df.loc[\n",
    "    ((df['Gender'] == 'M') | (df['Gender'] == 'F')),\n",
    "    ['Gender','Marital_Status']\n",
    "]\n",
    "\n",
    "# Create a text variable so that output is easier to interpret.\n",
    "df_2cat['partner_cat'] = None\n",
    "df_2cat.loc[df_2cat['Marital_Status'] == 1, 'partner_cat'] = 'Married'\n",
    "df_2cat.loc[df_2cat['Marital_Status'] == 0, 'partner_cat'] = 'Not Married'\n",
    "\n",
    "# Plot counts for each combination of levels.\n",
    "sns.countplot(y=\"Gender\", hue=\"partner_cat\", data=df_2cat, palette=\"husl\")\n",
    "plt.show()\n",
    "\n",
    "# Table of counts\n",
    "counttable = pd.crosstab(df_2cat['Gender'], df_2cat['partner_cat'])\n",
    "print(counttable)\n",
    "\n",
    "# Test will return a chi-square test statistic and a p-value. Like the t-test,\n",
    "# the chi-square is compared against a distribution (the chi-square\n",
    "# distribution) to determine whether the group size differences are large\n",
    "# enough to reflect differences in the population.\n",
    "print(stats.chisquare(counttable, axis=None))"
   ]
  },
  {
   "cell_type": "code",
   "execution_count": null,
   "metadata": {},
   "outputs": [],
   "source": []
  }
 ],
 "metadata": {
  "kernelspec": {
   "display_name": "Python 3",
   "language": "python",
   "name": "python3"
  },
  "language_info": {
   "codemirror_mode": {
    "name": "ipython",
    "version": 3
   },
   "file_extension": ".py",
   "mimetype": "text/x-python",
   "name": "python",
   "nbconvert_exporter": "python",
   "pygments_lexer": "ipython3",
   "version": "3.6.6"
  }
 },
 "nbformat": 4,
 "nbformat_minor": 2
}
