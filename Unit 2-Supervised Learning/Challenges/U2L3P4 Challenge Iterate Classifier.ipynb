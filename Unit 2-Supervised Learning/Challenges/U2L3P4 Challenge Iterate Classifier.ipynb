{
 "cells": [
  {
   "cell_type": "code",
   "execution_count": 1,
   "metadata": {},
   "outputs": [],
   "source": [
    "%matplotlib inline\n",
    "import numpy as np\n",
    "import pandas as pd\n",
    "import scipy\n",
    "import sklearn\n",
    "import matplotlib.pyplot as plt\n",
    "import seaborn as sns\n",
    "from sklearn.naive_bayes import BernoulliNB\n",
    "import re\n",
    "from collections import Counter"
   ]
  },
  {
   "cell_type": "code",
   "execution_count": 2,
   "metadata": {},
   "outputs": [
    {
     "data": {
      "text/html": [
       "<div>\n",
       "<style scoped>\n",
       "    .dataframe tbody tr th:only-of-type {\n",
       "        vertical-align: middle;\n",
       "    }\n",
       "\n",
       "    .dataframe tbody tr th {\n",
       "        vertical-align: top;\n",
       "    }\n",
       "\n",
       "    .dataframe thead th {\n",
       "        text-align: right;\n",
       "    }\n",
       "</style>\n",
       "<table border=\"1\" class=\"dataframe\">\n",
       "  <thead>\n",
       "    <tr style=\"text-align: right;\">\n",
       "      <th></th>\n",
       "      <th>sentence</th>\n",
       "      <th>score</th>\n",
       "    </tr>\n",
       "  </thead>\n",
       "  <tbody>\n",
       "    <tr>\n",
       "      <th>0</th>\n",
       "      <td>So there is no way for me to plug it in here i...</td>\n",
       "      <td>0</td>\n",
       "    </tr>\n",
       "    <tr>\n",
       "      <th>1</th>\n",
       "      <td>Good case, Excellent value.</td>\n",
       "      <td>1</td>\n",
       "    </tr>\n",
       "    <tr>\n",
       "      <th>2</th>\n",
       "      <td>Great for the jawbone.</td>\n",
       "      <td>1</td>\n",
       "    </tr>\n",
       "    <tr>\n",
       "      <th>3</th>\n",
       "      <td>Tied to charger for conversations lasting more...</td>\n",
       "      <td>0</td>\n",
       "    </tr>\n",
       "    <tr>\n",
       "      <th>4</th>\n",
       "      <td>The mic is great.</td>\n",
       "      <td>1</td>\n",
       "    </tr>\n",
       "  </tbody>\n",
       "</table>\n",
       "</div>"
      ],
      "text/plain": [
       "                                            sentence  score\n",
       "0  So there is no way for me to plug it in here i...      0\n",
       "1                        Good case, Excellent value.      1\n",
       "2                             Great for the jawbone.      1\n",
       "3  Tied to charger for conversations lasting more...      0\n",
       "4                                  The mic is great.      1"
      ]
     },
     "execution_count": 2,
     "metadata": {},
     "output_type": "execute_result"
    }
   ],
   "source": [
    "data_1 = ('amazon_cells_labelled.txt')\n",
    "data_2 = ('yelp_labelled.txt')\n",
    "txt_raw = pd.read_csv(data_1, delimiter= '\\t', header=None)\n",
    "txt_raw.columns = ['sentence', 'score'] # 1 = positive 0 = negative\n",
    "\n",
    "txt_raw.head()"
   ]
  },
  {
   "cell_type": "code",
   "execution_count": 3,
   "metadata": {},
   "outputs": [
    {
     "data": {
      "text/html": [
       "<div>\n",
       "<style scoped>\n",
       "    .dataframe tbody tr th:only-of-type {\n",
       "        vertical-align: middle;\n",
       "    }\n",
       "\n",
       "    .dataframe tbody tr th {\n",
       "        vertical-align: top;\n",
       "    }\n",
       "\n",
       "    .dataframe thead th {\n",
       "        text-align: right;\n",
       "    }\n",
       "</style>\n",
       "<table border=\"1\" class=\"dataframe\">\n",
       "  <thead>\n",
       "    <tr style=\"text-align: right;\">\n",
       "      <th></th>\n",
       "      <th>sentence</th>\n",
       "      <th>score</th>\n",
       "    </tr>\n",
       "  </thead>\n",
       "  <tbody>\n",
       "    <tr>\n",
       "      <th>1</th>\n",
       "      <td>Good case, Excellent value.</td>\n",
       "      <td>1</td>\n",
       "    </tr>\n",
       "    <tr>\n",
       "      <th>2</th>\n",
       "      <td>Great for the jawbone.</td>\n",
       "      <td>1</td>\n",
       "    </tr>\n",
       "    <tr>\n",
       "      <th>4</th>\n",
       "      <td>The mic is great.</td>\n",
       "      <td>1</td>\n",
       "    </tr>\n",
       "    <tr>\n",
       "      <th>7</th>\n",
       "      <td>If you are Razr owner...you must have this!</td>\n",
       "      <td>1</td>\n",
       "    </tr>\n",
       "    <tr>\n",
       "      <th>10</th>\n",
       "      <td>And the sound quality is great.</td>\n",
       "      <td>1</td>\n",
       "    </tr>\n",
       "    <tr>\n",
       "      <th>11</th>\n",
       "      <td>He was very impressed when going from the orig...</td>\n",
       "      <td>1</td>\n",
       "    </tr>\n",
       "    <tr>\n",
       "      <th>13</th>\n",
       "      <td>Very good quality though</td>\n",
       "      <td>1</td>\n",
       "    </tr>\n",
       "    <tr>\n",
       "      <th>15</th>\n",
       "      <td>Highly recommend for any one who has a blue to...</td>\n",
       "      <td>1</td>\n",
       "    </tr>\n",
       "    <tr>\n",
       "      <th>17</th>\n",
       "      <td>So Far So Good!.</td>\n",
       "      <td>1</td>\n",
       "    </tr>\n",
       "    <tr>\n",
       "      <th>18</th>\n",
       "      <td>Works great!.</td>\n",
       "      <td>1</td>\n",
       "    </tr>\n",
       "    <tr>\n",
       "      <th>21</th>\n",
       "      <td>I bought this to use with my Kindle Fire and a...</td>\n",
       "      <td>1</td>\n",
       "    </tr>\n",
       "    <tr>\n",
       "      <th>23</th>\n",
       "      <td>I have yet to run this new battery below two b...</td>\n",
       "      <td>1</td>\n",
       "    </tr>\n",
       "    <tr>\n",
       "      <th>25</th>\n",
       "      <td>Great Pocket PC / phone combination.</td>\n",
       "      <td>1</td>\n",
       "    </tr>\n",
       "    <tr>\n",
       "      <th>26</th>\n",
       "      <td>I've owned this phone for 7 months now and can...</td>\n",
       "      <td>1</td>\n",
       "    </tr>\n",
       "    <tr>\n",
       "      <th>31</th>\n",
       "      <td>This product is ideal for people like me whose...</td>\n",
       "      <td>1</td>\n",
       "    </tr>\n",
       "    <tr>\n",
       "      <th>34</th>\n",
       "      <td>Car charger as well as AC charger are included...</td>\n",
       "      <td>1</td>\n",
       "    </tr>\n",
       "    <tr>\n",
       "      <th>36</th>\n",
       "      <td>It has kept up very well.</td>\n",
       "      <td>1</td>\n",
       "    </tr>\n",
       "    <tr>\n",
       "      <th>38</th>\n",
       "      <td>The case is great and works fine with the 680.</td>\n",
       "      <td>1</td>\n",
       "    </tr>\n",
       "    <tr>\n",
       "      <th>40</th>\n",
       "      <td>It has a great camera thats 2MP, and the pics ...</td>\n",
       "      <td>1</td>\n",
       "    </tr>\n",
       "    <tr>\n",
       "      <th>42</th>\n",
       "      <td>Nice headset priced right.</td>\n",
       "      <td>1</td>\n",
       "    </tr>\n",
       "    <tr>\n",
       "      <th>44</th>\n",
       "      <td>Excellent bluetooth headset.</td>\n",
       "      <td>1</td>\n",
       "    </tr>\n",
       "    <tr>\n",
       "      <th>45</th>\n",
       "      <td>It has all the features I want</td>\n",
       "      <td>1</td>\n",
       "    </tr>\n",
       "    <tr>\n",
       "      <th>48</th>\n",
       "      <td>This case seems well made.</td>\n",
       "      <td>1</td>\n",
       "    </tr>\n",
       "    <tr>\n",
       "      <th>51</th>\n",
       "      <td>good protection and does not make phone too bu...</td>\n",
       "      <td>1</td>\n",
       "    </tr>\n",
       "    <tr>\n",
       "      <th>52</th>\n",
       "      <td>A usable keyboard actually turns a PDA into a ...</td>\n",
       "      <td>1</td>\n",
       "    </tr>\n",
       "    <tr>\n",
       "      <th>53</th>\n",
       "      <td>This phone is pretty sturdy and I've never had...</td>\n",
       "      <td>1</td>\n",
       "    </tr>\n",
       "    <tr>\n",
       "      <th>54</th>\n",
       "      <td>I love this thing!</td>\n",
       "      <td>1</td>\n",
       "    </tr>\n",
       "    <tr>\n",
       "      <th>55</th>\n",
       "      <td>Everything about it is fine and reasonable for...</td>\n",
       "      <td>1</td>\n",
       "    </tr>\n",
       "    <tr>\n",
       "      <th>57</th>\n",
       "      <td>I even dropped this phone into a stream and it...</td>\n",
       "      <td>1</td>\n",
       "    </tr>\n",
       "    <tr>\n",
       "      <th>58</th>\n",
       "      <td>I have been very happy with the 510 and have h...</td>\n",
       "      <td>1</td>\n",
       "    </tr>\n",
       "    <tr>\n",
       "      <th>...</th>\n",
       "      <td>...</td>\n",
       "      <td>...</td>\n",
       "    </tr>\n",
       "    <tr>\n",
       "      <th>924</th>\n",
       "      <td>Works good.</td>\n",
       "      <td>1</td>\n",
       "    </tr>\n",
       "    <tr>\n",
       "      <th>925</th>\n",
       "      <td>Motorola finally got the voice quality of a bl...</td>\n",
       "      <td>1</td>\n",
       "    </tr>\n",
       "    <tr>\n",
       "      <th>927</th>\n",
       "      <td>but it is great, i would really recommend it</td>\n",
       "      <td>1</td>\n",
       "    </tr>\n",
       "    <tr>\n",
       "      <th>934</th>\n",
       "      <td>You get extra minutes so that you can carry ou...</td>\n",
       "      <td>1</td>\n",
       "    </tr>\n",
       "    <tr>\n",
       "      <th>937</th>\n",
       "      <td>The headset fulfills my requirements so I am h...</td>\n",
       "      <td>1</td>\n",
       "    </tr>\n",
       "    <tr>\n",
       "      <th>938</th>\n",
       "      <td>Logitech Bluetooth Headset is a 10!.</td>\n",
       "      <td>1</td>\n",
       "    </tr>\n",
       "    <tr>\n",
       "      <th>939</th>\n",
       "      <td>I like the fact that it rests lightly against ...</td>\n",
       "      <td>1</td>\n",
       "    </tr>\n",
       "    <tr>\n",
       "      <th>940</th>\n",
       "      <td>A lot of websites have been rating this a very...</td>\n",
       "      <td>1</td>\n",
       "    </tr>\n",
       "    <tr>\n",
       "      <th>941</th>\n",
       "      <td>I have tried these cables with my computer and...</td>\n",
       "      <td>1</td>\n",
       "    </tr>\n",
       "    <tr>\n",
       "      <th>945</th>\n",
       "      <td>It is easy to turn on and off when you are in ...</td>\n",
       "      <td>1</td>\n",
       "    </tr>\n",
       "    <tr>\n",
       "      <th>946</th>\n",
       "      <td>I have had mine for about a year and this Chri...</td>\n",
       "      <td>1</td>\n",
       "    </tr>\n",
       "    <tr>\n",
       "      <th>947</th>\n",
       "      <td>Otherwise, easy to install and use, clear sound.</td>\n",
       "      <td>1</td>\n",
       "    </tr>\n",
       "    <tr>\n",
       "      <th>948</th>\n",
       "      <td>nice leather.</td>\n",
       "      <td>1</td>\n",
       "    </tr>\n",
       "    <tr>\n",
       "      <th>950</th>\n",
       "      <td>It is a joy to use.</td>\n",
       "      <td>1</td>\n",
       "    </tr>\n",
       "    <tr>\n",
       "      <th>952</th>\n",
       "      <td>Very satisifed with that.</td>\n",
       "      <td>1</td>\n",
       "    </tr>\n",
       "    <tr>\n",
       "      <th>954</th>\n",
       "      <td>This is the phone to get for 2005.... I just b...</td>\n",
       "      <td>1</td>\n",
       "    </tr>\n",
       "    <tr>\n",
       "      <th>956</th>\n",
       "      <td>Just reading on the specs alone makes you say ...</td>\n",
       "      <td>1</td>\n",
       "    </tr>\n",
       "    <tr>\n",
       "      <th>957</th>\n",
       "      <td>Love it.. Great armband.</td>\n",
       "      <td>1</td>\n",
       "    </tr>\n",
       "    <tr>\n",
       "      <th>958</th>\n",
       "      <td>I really like this product over the Motorola b...</td>\n",
       "      <td>1</td>\n",
       "    </tr>\n",
       "    <tr>\n",
       "      <th>960</th>\n",
       "      <td>I exchanged the sony ericson z500a for this an...</td>\n",
       "      <td>1</td>\n",
       "    </tr>\n",
       "    <tr>\n",
       "      <th>961</th>\n",
       "      <td>I was very impressed with the price of the cases.</td>\n",
       "      <td>1</td>\n",
       "    </tr>\n",
       "    <tr>\n",
       "      <th>962</th>\n",
       "      <td>Also makes it easier to hold on to.</td>\n",
       "      <td>1</td>\n",
       "    </tr>\n",
       "    <tr>\n",
       "      <th>963</th>\n",
       "      <td>I use this product in a motor control center w...</td>\n",
       "      <td>1</td>\n",
       "    </tr>\n",
       "    <tr>\n",
       "      <th>964</th>\n",
       "      <td>It's pretty easy.</td>\n",
       "      <td>1</td>\n",
       "    </tr>\n",
       "    <tr>\n",
       "      <th>967</th>\n",
       "      <td>Beautiful styling though.</td>\n",
       "      <td>1</td>\n",
       "    </tr>\n",
       "    <tr>\n",
       "      <th>971</th>\n",
       "      <td>Excellent product.</td>\n",
       "      <td>1</td>\n",
       "    </tr>\n",
       "    <tr>\n",
       "      <th>975</th>\n",
       "      <td>It is the best charger I have seen on the mark...</td>\n",
       "      <td>1</td>\n",
       "    </tr>\n",
       "    <tr>\n",
       "      <th>976</th>\n",
       "      <td>SWEETEST PHONE!!!</td>\n",
       "      <td>1</td>\n",
       "    </tr>\n",
       "    <tr>\n",
       "      <th>977</th>\n",
       "      <td>:-)Oh, the charger seems to work fine.</td>\n",
       "      <td>1</td>\n",
       "    </tr>\n",
       "    <tr>\n",
       "      <th>978</th>\n",
       "      <td>It fits so securely that the ear hook does not...</td>\n",
       "      <td>1</td>\n",
       "    </tr>\n",
       "  </tbody>\n",
       "</table>\n",
       "<p>500 rows × 2 columns</p>\n",
       "</div>"
      ],
      "text/plain": [
       "                                              sentence  score\n",
       "1                          Good case, Excellent value.      1\n",
       "2                               Great for the jawbone.      1\n",
       "4                                    The mic is great.      1\n",
       "7          If you are Razr owner...you must have this!      1\n",
       "10                     And the sound quality is great.      1\n",
       "11   He was very impressed when going from the orig...      1\n",
       "13                            Very good quality though      1\n",
       "15   Highly recommend for any one who has a blue to...      1\n",
       "17                                    So Far So Good!.      1\n",
       "18                                       Works great!.      1\n",
       "21   I bought this to use with my Kindle Fire and a...      1\n",
       "23   I have yet to run this new battery below two b...      1\n",
       "25                Great Pocket PC / phone combination.      1\n",
       "26   I've owned this phone for 7 months now and can...      1\n",
       "31   This product is ideal for people like me whose...      1\n",
       "34   Car charger as well as AC charger are included...      1\n",
       "36                           It has kept up very well.      1\n",
       "38      The case is great and works fine with the 680.      1\n",
       "40   It has a great camera thats 2MP, and the pics ...      1\n",
       "42                          Nice headset priced right.      1\n",
       "44                        Excellent bluetooth headset.      1\n",
       "45                      It has all the features I want      1\n",
       "48                          This case seems well made.      1\n",
       "51   good protection and does not make phone too bu...      1\n",
       "52   A usable keyboard actually turns a PDA into a ...      1\n",
       "53   This phone is pretty sturdy and I've never had...      1\n",
       "54                                  I love this thing!      1\n",
       "55   Everything about it is fine and reasonable for...      1\n",
       "57   I even dropped this phone into a stream and it...      1\n",
       "58   I have been very happy with the 510 and have h...      1\n",
       "..                                                 ...    ...\n",
       "924                                        Works good.      1\n",
       "925  Motorola finally got the voice quality of a bl...      1\n",
       "927       but it is great, i would really recommend it      1\n",
       "934  You get extra minutes so that you can carry ou...      1\n",
       "937  The headset fulfills my requirements so I am h...      1\n",
       "938               Logitech Bluetooth Headset is a 10!.      1\n",
       "939  I like the fact that it rests lightly against ...      1\n",
       "940  A lot of websites have been rating this a very...      1\n",
       "941  I have tried these cables with my computer and...      1\n",
       "945  It is easy to turn on and off when you are in ...      1\n",
       "946  I have had mine for about a year and this Chri...      1\n",
       "947   Otherwise, easy to install and use, clear sound.      1\n",
       "948                                      nice leather.      1\n",
       "950                                It is a joy to use.      1\n",
       "952                          Very satisifed with that.      1\n",
       "954  This is the phone to get for 2005.... I just b...      1\n",
       "956  Just reading on the specs alone makes you say ...      1\n",
       "957                           Love it.. Great armband.      1\n",
       "958  I really like this product over the Motorola b...      1\n",
       "960  I exchanged the sony ericson z500a for this an...      1\n",
       "961  I was very impressed with the price of the cases.      1\n",
       "962                Also makes it easier to hold on to.      1\n",
       "963  I use this product in a motor control center w...      1\n",
       "964                                  It's pretty easy.      1\n",
       "967                          Beautiful styling though.      1\n",
       "971                                 Excellent product.      1\n",
       "975  It is the best charger I have seen on the mark...      1\n",
       "976                                  SWEETEST PHONE!!!      1\n",
       "977             :-)Oh, the charger seems to work fine.      1\n",
       "978  It fits so securely that the ear hook does not...      1\n",
       "\n",
       "[500 rows x 2 columns]"
      ]
     },
     "execution_count": 3,
     "metadata": {},
     "output_type": "execute_result"
    }
   ],
   "source": [
    "positive = (txt_raw['score'] == 1)\n",
    "txt_raw[positive]"
   ]
  },
  {
   "cell_type": "code",
   "execution_count": 4,
   "metadata": {},
   "outputs": [],
   "source": [
    "keywords = ['good', 'great', 'excellent', 'must have', 'love', 'recommend', 'best', 'stylish', 'comfort', 'pleased', \n",
    "            'highly', 'definitely', 'amazing', 'well', 'easier', 'like', 'satisfied', 'joy', 'nice', 'loved', \n",
    "           'easy', '10', 'fulfills', 'recommended', 'impressed', 'works', 'reasonable', 'well', 'fine']\n",
    "\n",
    "for key in keywords:\n",
    "    # Note that we add spaces around the key so that we're getting the word,\n",
    "    # not just pattern matching.\n",
    "    txt_raw[str(key)] = txt_raw.sentence.str.contains(\n",
    "        ' ' + str(key) + ' ',\n",
    "        case=False\n",
    "    )"
   ]
  },
  {
   "cell_type": "code",
   "execution_count": 5,
   "metadata": {},
   "outputs": [
    {
     "data": {
      "text/plain": [
       "<matplotlib.axes._subplots.AxesSubplot at 0x10b2a85f8>"
      ]
     },
     "execution_count": 5,
     "metadata": {},
     "output_type": "execute_result"
    },
    {
     "data": {
      "image/png": "[encoded data removed]",
      "text/plain": [
       "<Figure size 432x288 with 2 Axes>"
      ]
     },
     "metadata": {
      "needs_background": "light"
     },
     "output_type": "display_data"
    }
   ],
   "source": [
    "sns.heatmap(txt_raw.corr())"
   ]
  },
  {
   "cell_type": "code",
   "execution_count": 6,
   "metadata": {},
   "outputs": [],
   "source": [
    "data = txt_raw[keywords]\n",
    "target = positive"
   ]
  },
  {
   "cell_type": "code",
   "execution_count": 7,
   "metadata": {},
   "outputs": [
    {
     "name": "stdout",
     "output_type": "stream",
     "text": [
      "Number of mislabeled points out of a total 1000 points : 336\n",
      "Accuracy : 66.4%\n"
     ]
    }
   ],
   "source": [
    "# Our data is binary / boolean, so we're importing the Bernoulli classifier.\n",
    "from sklearn.naive_bayes import BernoulliNB\n",
    "\n",
    "# Instantiate our model and store it in a new variable.\n",
    "bnb = BernoulliNB()\n",
    "\n",
    "# Fit our model to the data.\n",
    "bnb.fit(data, target)\n",
    "\n",
    "# Classify, storing the result in a new variable.\n",
    "y_pred = bnb.predict(data)\n",
    "\n",
    "# Display our results.\n",
    "print(\"Number of mislabeled points out of a total {} points : {}\".format(\n",
    "    data.shape[0],\n",
    "    (target != y_pred).sum()\n",
    "))\n",
    "\n",
    "print(\"Accuracy : {}%\".format(\n",
    "    bnb.score(data, target) * 100\n",
    "))"
   ]
  },
  {
   "cell_type": "markdown",
   "metadata": {},
   "source": [
    "### Adding a confusion matrix for the first dataset"
   ]
  },
  {
   "cell_type": "code",
   "execution_count": 10,
   "metadata": {},
   "outputs": [
    {
     "data": {
      "text/plain": [
       "array([[464,  36],\n",
       "       [300, 200]])"
      ]
     },
     "execution_count": 10,
     "metadata": {},
     "output_type": "execute_result"
    }
   ],
   "source": [
    "from sklearn.metrics import confusion_matrix\n",
    "confusion_matrix(target,y_pred)"
   ]
  },
  {
   "cell_type": "code",
   "execution_count": 11,
   "metadata": {},
   "outputs": [],
   "source": [
    "# Build your confusion matrix and calculate sensitivity and specificity here.\n",
    "\n",
    "    \n",
    "def evaluate(dataframe, target, predicted):\n",
    "    hits = (target == predicted).sum()\n",
    "    misses = (target != predicted).sum()\n",
    "    accuracy = (hits / dataframe.shape[0]) * 100\n",
    "    \n",
    "    \"\"\"Manually create confusion matrix by comparing predictions with answers.\"\"\"\n",
    "    # initialize counts\n",
    "    TP = 0 # Positive review (1) predicted as Positive\n",
    "    TN = 0 # Negative review (0) predicted as Negative\n",
    "    FP = 0 # Negative review (0) predicted as Positive (1)\n",
    "    FN = 0 # Positive review (1) predicted as Negative (0)\n",
    "    \n",
    "    x = 0\n",
    "    while x < len(target):\n",
    "        if target[x] == 0 and predicted[x] == 0:  # True Negative\n",
    "            TN += 1\n",
    "        if target[x] == 0 and predicted[x] == 1:  # False Positive\n",
    "            FP += 1\n",
    "        if target[x] == 1 and predicted[x] == 1:  # True Positive\n",
    "            TP += 1\n",
    "        if target[x] == 1 and predicted[x] == 0:  # False Negative\n",
    "            FN += 1\n",
    "        x += 1\n",
    "    \n",
    "    # make confusion matrix from counts\n",
    "    cm = [[TP, FN],[FP, TN]]\n",
    "    \n",
    "    con_mat = np.array([['','Positive','Negative'], #columns are predictions\n",
    "                ['Positive',TP,FN], \n",
    "                ['Negative',FP,TN]])\n",
    "                \n",
    "    df_confusion = pd.DataFrame(data=con_mat[1:,1:],\n",
    "                                index=con_mat[1:,0],\n",
    "                                columns=con_mat[0,1:])\n",
    "\n",
    "    \"\"\"Manually calculate sensetivity and specificity\"\"\"\n",
    "    # calculate sensitivity and specificity\n",
    "    sensitivity = TP / (TP + FN)\n",
    "    specificity = TN / (TN + FP)\n",
    "    \n",
    "    \n",
    "    # Display evaluation metrics with output dictionary\n",
    "    output = {'':df_confusion,\n",
    "              'Total datapoints (n)':dataframe.shape[0],\n",
    "              'Mislabeled Points':misses,\n",
    "              'Accuracy':accuracy,\n",
    "              'Type I':FP,\n",
    "              'Type II':FN,\n",
    "              'Sensitivity':sensitivity,\n",
    "              'Specificity':specificity}\n",
    "    \n",
    "    return output"
   ]
  },
  {
   "cell_type": "code",
   "execution_count": 12,
   "metadata": {},
   "outputs": [
    {
     "data": {
      "text/plain": [
       "{'':          Positive Negative\n",
       " Positive      200      300\n",
       " Negative       36      464,\n",
       " 'Total datapoints (n)': 1000,\n",
       " 'Mislabeled Points': 336,\n",
       " 'Accuracy': 66.4,\n",
       " 'Type I': 36,\n",
       " 'Type II': 300,\n",
       " 'Sensitivity': 0.4,\n",
       " 'Specificity': 0.928}"
      ]
     },
     "execution_count": 12,
     "metadata": {},
     "output_type": "execute_result"
    }
   ],
   "source": [
    "evaluate(data, target, y_pred)"
   ]
  },
  {
   "cell_type": "markdown",
   "metadata": {},
   "source": [
    "### Cross validation to check for accuracy across multiple test groups"
   ]
  },
  {
   "cell_type": "code",
   "execution_count": 13,
   "metadata": {},
   "outputs": [
    {
     "data": {
      "text/plain": [
       "array([0.7 , 0.65, 0.65, 0.66, 0.69, 0.6 , 0.69, 0.63, 0.67, 0.61])"
      ]
     },
     "execution_count": 13,
     "metadata": {},
     "output_type": "execute_result"
    }
   ],
   "source": [
    "# Cross validation using sklearn\n",
    "from sklearn.model_selection import cross_val_score\n",
    "cross_val_score(bnb, data, target, cv=10)"
   ]
  },
  {
   "cell_type": "markdown",
   "metadata": {},
   "source": [
    "#### Some features are causing a lot of variation so I'll do some modifications"
   ]
  },
  {
   "cell_type": "markdown",
   "metadata": {},
   "source": [
    "## 2. Modify and run model a second time"
   ]
  },
  {
   "cell_type": "code",
   "execution_count": 14,
   "metadata": {},
   "outputs": [],
   "source": [
    "# Reset the dataframe\n",
    "txt_raw = pd.read_csv(data_1, delimiter= '\\t', header=None)\n",
    "txt_raw.columns = ['sentence', 'score'] # 1 = positive 0 = negative"
   ]
  },
  {
   "cell_type": "markdown",
   "metadata": {},
   "source": [
    "### Clean the text data and re-run model"
   ]
  },
  {
   "cell_type": "code",
   "execution_count": 15,
   "metadata": {},
   "outputs": [],
   "source": [
    "# Remove punctuation and non-alphanumeric characters, then lowercase all text\n",
    "txt_raw['sentence'] = txt_raw['sentence'].apply(lambda x: re.sub('-',' ', str(x))) # separate hyphenated words\n",
    "txt_raw['sentence'] = txt_raw['sentence'].apply(lambda x: re.sub('[^\\w\\s\\d]','', str(x))) # strip non-alphanumeric characters\n",
    "txt_raw['sentence'] = txt_raw['sentence'].str.lower() # convert all to lowercase"
   ]
  },
  {
   "cell_type": "code",
   "execution_count": 16,
   "metadata": {},
   "outputs": [],
   "source": [
    "#Keeping the same keywords\n",
    "keywords2 = ['good', 'great', 'excellent', 'must have', 'love', 'recommend', 'best', 'stylish', 'comfort', 'pleased', \n",
    "            'highly', 'definitely', 'amazing', 'well', 'easier', 'like', 'satisfied', 'joy', 'nice', 'loved', \n",
    "           'easy', '10', 'fulfills', 'recommended', 'impressed', 'works', 'reasonable', 'well', 'fine']\n",
    "\n",
    "#adding more regex to find the keywords\n",
    "for key in keywords2:\n",
    "    # Note that we add spaces around the key so that we're getting the word,\n",
    "    # not just pattern matching.\n",
    "    txt_raw[str(key)] = txt_raw.sentence.str.contains(\n",
    "        ' ' + str(key) + ' ',\n",
    "        case=False\n",
    "    )"
   ]
  },
  {
   "cell_type": "code",
   "execution_count": 17,
   "metadata": {},
   "outputs": [],
   "source": [
    "positive = (txt_raw['score'] == 1)"
   ]
  },
  {
   "cell_type": "code",
   "execution_count": 18,
   "metadata": {},
   "outputs": [
    {
     "data": {
      "text/plain": [
       "<matplotlib.axes._subplots.AxesSubplot at 0x1a1c93ca90>"
      ]
     },
     "execution_count": 18,
     "metadata": {},
     "output_type": "execute_result"
    },
    {
     "data": {
      "image/png": "[encoded data removed]",
      "text/plain": [
       "<Figure size 432x288 with 2 Axes>"
      ]
     },
     "metadata": {
      "needs_background": "light"
     },
     "output_type": "display_data"
    }
   ],
   "source": [
    "sns.heatmap(txt_raw.corr())"
   ]
  },
  {
   "cell_type": "code",
   "execution_count": 19,
   "metadata": {},
   "outputs": [],
   "source": [
    "data = txt_raw[keywords]\n",
    "target = positive\n",
    "\n",
    "# Our data is binary / boolean, so we're importing the Bernoulli classifier.\n",
    "from sklearn.naive_bayes import BernoulliNB\n",
    "\n",
    "# Instantiate our model and store it in a new variable.\n",
    "bnb = BernoulliNB()\n",
    "\n",
    "# Fit our model to the data.\n",
    "bnb.fit(data, target)\n",
    "\n",
    "# Classify, storing the result in a new variable.\n",
    "y_pred = bnb.predict(data)"
   ]
  },
  {
   "cell_type": "code",
   "execution_count": 20,
   "metadata": {},
   "outputs": [
    {
     "data": {
      "text/plain": [
       "{'':          Positive Negative\n",
       " Positive      193      307\n",
       " Negative       33      467,\n",
       " 'Total datapoints (n)': 1000,\n",
       " 'Mislabeled Points': 340,\n",
       " 'Accuracy': 66.0,\n",
       " 'Type I': 33,\n",
       " 'Type II': 307,\n",
       " 'Sensitivity': 0.386,\n",
       " 'Specificity': 0.934}"
      ]
     },
     "execution_count": 20,
     "metadata": {},
     "output_type": "execute_result"
    }
   ],
   "source": [
    "evaluate(data, target, y_pred)"
   ]
  },
  {
   "cell_type": "code",
   "execution_count": 21,
   "metadata": {},
   "outputs": [
    {
     "data": {
      "text/plain": [
       "array([0.69, 0.66, 0.66, 0.64, 0.68, 0.6 , 0.67, 0.64, 0.68, 0.6 ])"
      ]
     },
     "execution_count": 21,
     "metadata": {},
     "output_type": "execute_result"
    }
   ],
   "source": [
    "cross_val_score(bnb, data, target, cv=10)"
   ]
  },
  {
   "cell_type": "markdown",
   "metadata": {},
   "source": [
    "> With simple text cleaning, this second run actually performed worse on the positive reviews, but improved the detection of negative reviews both by small amounts.\n",
    "\n",
    "> The cross validation scores show that the variance is slightly more consistent"
   ]
  },
  {
   "cell_type": "markdown",
   "metadata": {},
   "source": [
    "## 3. Modify and run model a third time"
   ]
  },
  {
   "cell_type": "code",
   "execution_count": 22,
   "metadata": {},
   "outputs": [],
   "source": [
    "# create a dataframe containing counts of each word in both positive and negative reviews \n",
    "words = pd.DataFrame()\n",
    "\n",
    "# Create a list of all unique words\n",
    "all_words = []\n",
    "for rev in txt_raw['sentence']:\n",
    "    for word in rev.split():\n",
    "        all_words.append(word)        \n",
    "all_words = set(all_words)\n",
    "\n",
    "# Retrieve counts of each word for positive reviews\n",
    "pos_words = []\n",
    "for rev in txt_raw['sentence'].loc[txt_raw['score'] == 1]:\n",
    "    for word in rev.split():\n",
    "        pos_words.append(word)   \n",
    "pos_counts = Counter(pos_words)\n",
    "\n",
    "# Retrieve counts of each word for negative reviews\n",
    "neg_words = []\n",
    "for rev in txt_raw['sentence'].loc[txt_raw['score'] == 0]:\n",
    "    for word in rev.split():\n",
    "        neg_words.append(word)         \n",
    "neg_counts = Counter(neg_words)"
   ]
  },
  {
   "cell_type": "code",
   "execution_count": 23,
   "metadata": {},
   "outputs": [],
   "source": [
    "# Create a dataframe summarizing words by their frequencies in each type of review\n",
    "words['word'] = list(all_words)\n",
    "words = words.set_index('word')\n",
    "\n",
    "words['pos_count'] = 0\n",
    "for word in words.index:\n",
    "    if word in pos_counts:\n",
    "        words.at[word, 'pos_count'] = pos_counts[word]\n",
    "\n",
    "words['neg_count'] = 0\n",
    "for word in words.index:\n",
    "    if word in neg_counts:\n",
    "        words.at[word, 'neg_count'] = neg_counts[word]\n",
    "\n",
    "words['total_count'] = words['pos_count'] + words['neg_count']\n",
    "        \n",
    "words['is_positive'] = 0\n",
    "words.loc[words['neg_count'] < words['pos_count'], 'is_positive'] = 1\n",
    "\n",
    "words['delta'] = abs(words['pos_count'] - words['neg_count'])\n",
    "\n",
    "words['scaled_delta'] = words['delta'] / words['total_count']"
   ]
  },
  {
   "cell_type": "markdown",
   "metadata": {},
   "source": [
    "#### Dataframe of unique words summary\n",
    "\n",
    "> Trying to find the most popular words and see if using them in my keyword list will make the model better"
   ]
  },
  {
   "cell_type": "code",
   "execution_count": 24,
   "metadata": {},
   "outputs": [
    {
     "data": {
      "text/html": [
       "<div>\n",
       "<style scoped>\n",
       "    .dataframe tbody tr th:only-of-type {\n",
       "        vertical-align: middle;\n",
       "    }\n",
       "\n",
       "    .dataframe tbody tr th {\n",
       "        vertical-align: top;\n",
       "    }\n",
       "\n",
       "    .dataframe thead th {\n",
       "        text-align: right;\n",
       "    }\n",
       "</style>\n",
       "<table border=\"1\" class=\"dataframe\">\n",
       "  <thead>\n",
       "    <tr style=\"text-align: right;\">\n",
       "      <th></th>\n",
       "      <th>pos_count</th>\n",
       "      <th>neg_count</th>\n",
       "      <th>total_count</th>\n",
       "      <th>is_positive</th>\n",
       "      <th>delta</th>\n",
       "      <th>scaled_delta</th>\n",
       "    </tr>\n",
       "    <tr>\n",
       "      <th>word</th>\n",
       "      <th></th>\n",
       "      <th></th>\n",
       "      <th></th>\n",
       "      <th></th>\n",
       "      <th></th>\n",
       "      <th></th>\n",
       "    </tr>\n",
       "  </thead>\n",
       "  <tbody>\n",
       "    <tr>\n",
       "      <th>although</th>\n",
       "      <td>0</td>\n",
       "      <td>2</td>\n",
       "      <td>2</td>\n",
       "      <td>0</td>\n",
       "      <td>2</td>\n",
       "      <td>1.000000</td>\n",
       "    </tr>\n",
       "    <tr>\n",
       "      <th>avoid</th>\n",
       "      <td>1</td>\n",
       "      <td>2</td>\n",
       "      <td>3</td>\n",
       "      <td>0</td>\n",
       "      <td>1</td>\n",
       "      <td>0.333333</td>\n",
       "    </tr>\n",
       "    <tr>\n",
       "      <th>unacceptableunless</th>\n",
       "      <td>0</td>\n",
       "      <td>1</td>\n",
       "      <td>1</td>\n",
       "      <td>0</td>\n",
       "      <td>1</td>\n",
       "      <td>1.000000</td>\n",
       "    </tr>\n",
       "    <tr>\n",
       "      <th>resolution</th>\n",
       "      <td>0</td>\n",
       "      <td>2</td>\n",
       "      <td>2</td>\n",
       "      <td>0</td>\n",
       "      <td>2</td>\n",
       "      <td>1.000000</td>\n",
       "    </tr>\n",
       "    <tr>\n",
       "      <th>8</th>\n",
       "      <td>0</td>\n",
       "      <td>1</td>\n",
       "      <td>1</td>\n",
       "      <td>0</td>\n",
       "      <td>1</td>\n",
       "      <td>1.000000</td>\n",
       "    </tr>\n",
       "    <tr>\n",
       "      <th>bar</th>\n",
       "      <td>1</td>\n",
       "      <td>1</td>\n",
       "      <td>2</td>\n",
       "      <td>0</td>\n",
       "      <td>0</td>\n",
       "      <td>0.000000</td>\n",
       "    </tr>\n",
       "    <tr>\n",
       "      <th>range</th>\n",
       "      <td>5</td>\n",
       "      <td>0</td>\n",
       "      <td>5</td>\n",
       "      <td>1</td>\n",
       "      <td>5</td>\n",
       "      <td>1.000000</td>\n",
       "    </tr>\n",
       "    <tr>\n",
       "      <th>goesthe</th>\n",
       "      <td>0</td>\n",
       "      <td>1</td>\n",
       "      <td>1</td>\n",
       "      <td>0</td>\n",
       "      <td>1</td>\n",
       "      <td>1.000000</td>\n",
       "    </tr>\n",
       "    <tr>\n",
       "      <th>only</th>\n",
       "      <td>5</td>\n",
       "      <td>17</td>\n",
       "      <td>22</td>\n",
       "      <td>0</td>\n",
       "      <td>12</td>\n",
       "      <td>0.545455</td>\n",
       "    </tr>\n",
       "    <tr>\n",
       "      <th>hour</th>\n",
       "      <td>2</td>\n",
       "      <td>0</td>\n",
       "      <td>2</td>\n",
       "      <td>1</td>\n",
       "      <td>2</td>\n",
       "      <td>1.000000</td>\n",
       "    </tr>\n",
       "    <tr>\n",
       "      <th>3o</th>\n",
       "      <td>0</td>\n",
       "      <td>1</td>\n",
       "      <td>1</td>\n",
       "      <td>0</td>\n",
       "      <td>1</td>\n",
       "      <td>1.000000</td>\n",
       "    </tr>\n",
       "    <tr>\n",
       "      <th>research</th>\n",
       "      <td>1</td>\n",
       "      <td>0</td>\n",
       "      <td>1</td>\n",
       "      <td>1</td>\n",
       "      <td>1</td>\n",
       "      <td>1.000000</td>\n",
       "    </tr>\n",
       "    <tr>\n",
       "      <th>510</th>\n",
       "      <td>2</td>\n",
       "      <td>1</td>\n",
       "      <td>3</td>\n",
       "      <td>1</td>\n",
       "      <td>1</td>\n",
       "      <td>0.333333</td>\n",
       "    </tr>\n",
       "    <tr>\n",
       "      <th>others</th>\n",
       "      <td>4</td>\n",
       "      <td>1</td>\n",
       "      <td>5</td>\n",
       "      <td>1</td>\n",
       "      <td>3</td>\n",
       "      <td>0.600000</td>\n",
       "    </tr>\n",
       "    <tr>\n",
       "      <th>replace</th>\n",
       "      <td>2</td>\n",
       "      <td>2</td>\n",
       "      <td>4</td>\n",
       "      <td>0</td>\n",
       "      <td>0</td>\n",
       "      <td>0.000000</td>\n",
       "    </tr>\n",
       "    <tr>\n",
       "      <th>hook</th>\n",
       "      <td>1</td>\n",
       "      <td>0</td>\n",
       "      <td>1</td>\n",
       "      <td>1</td>\n",
       "      <td>1</td>\n",
       "      <td>1.000000</td>\n",
       "    </tr>\n",
       "    <tr>\n",
       "      <th>person</th>\n",
       "      <td>0</td>\n",
       "      <td>2</td>\n",
       "      <td>2</td>\n",
       "      <td>0</td>\n",
       "      <td>2</td>\n",
       "      <td>1.000000</td>\n",
       "    </tr>\n",
       "    <tr>\n",
       "      <th>significantly</th>\n",
       "      <td>1</td>\n",
       "      <td>0</td>\n",
       "      <td>1</td>\n",
       "      <td>1</td>\n",
       "      <td>1</td>\n",
       "      <td>1.000000</td>\n",
       "    </tr>\n",
       "    <tr>\n",
       "      <th>without</th>\n",
       "      <td>7</td>\n",
       "      <td>1</td>\n",
       "      <td>8</td>\n",
       "      <td>1</td>\n",
       "      <td>6</td>\n",
       "      <td>0.750000</td>\n",
       "    </tr>\n",
       "    <tr>\n",
       "      <th>cradle</th>\n",
       "      <td>0</td>\n",
       "      <td>1</td>\n",
       "      <td>1</td>\n",
       "      <td>0</td>\n",
       "      <td>1</td>\n",
       "      <td>1.000000</td>\n",
       "    </tr>\n",
       "    <tr>\n",
       "      <th>deffinitely</th>\n",
       "      <td>1</td>\n",
       "      <td>0</td>\n",
       "      <td>1</td>\n",
       "      <td>1</td>\n",
       "      <td>1</td>\n",
       "      <td>1.000000</td>\n",
       "    </tr>\n",
       "    <tr>\n",
       "      <th>wake</th>\n",
       "      <td>0</td>\n",
       "      <td>1</td>\n",
       "      <td>1</td>\n",
       "      <td>0</td>\n",
       "      <td>1</td>\n",
       "      <td>1.000000</td>\n",
       "    </tr>\n",
       "    <tr>\n",
       "      <th>under</th>\n",
       "      <td>2</td>\n",
       "      <td>1</td>\n",
       "      <td>3</td>\n",
       "      <td>1</td>\n",
       "      <td>1</td>\n",
       "      <td>0.333333</td>\n",
       "    </tr>\n",
       "    <tr>\n",
       "      <th>earset</th>\n",
       "      <td>1</td>\n",
       "      <td>0</td>\n",
       "      <td>1</td>\n",
       "      <td>1</td>\n",
       "      <td>1</td>\n",
       "      <td>1.000000</td>\n",
       "    </tr>\n",
       "    <tr>\n",
       "      <th>detachable</th>\n",
       "      <td>1</td>\n",
       "      <td>0</td>\n",
       "      <td>1</td>\n",
       "      <td>1</td>\n",
       "      <td>1</td>\n",
       "      <td>1.000000</td>\n",
       "    </tr>\n",
       "    <tr>\n",
       "      <th>motorola</th>\n",
       "      <td>6</td>\n",
       "      <td>5</td>\n",
       "      <td>11</td>\n",
       "      <td>1</td>\n",
       "      <td>1</td>\n",
       "      <td>0.090909</td>\n",
       "    </tr>\n",
       "    <tr>\n",
       "      <th>means</th>\n",
       "      <td>0</td>\n",
       "      <td>1</td>\n",
       "      <td>1</td>\n",
       "      <td>0</td>\n",
       "      <td>1</td>\n",
       "      <td>1.000000</td>\n",
       "    </tr>\n",
       "    <tr>\n",
       "      <th>strong</th>\n",
       "      <td>3</td>\n",
       "      <td>2</td>\n",
       "      <td>5</td>\n",
       "      <td>1</td>\n",
       "      <td>1</td>\n",
       "      <td>0.200000</td>\n",
       "    </tr>\n",
       "    <tr>\n",
       "      <th>online</th>\n",
       "      <td>0</td>\n",
       "      <td>1</td>\n",
       "      <td>1</td>\n",
       "      <td>0</td>\n",
       "      <td>1</td>\n",
       "      <td>1.000000</td>\n",
       "    </tr>\n",
       "    <tr>\n",
       "      <th>had</th>\n",
       "      <td>21</td>\n",
       "      <td>27</td>\n",
       "      <td>48</td>\n",
       "      <td>0</td>\n",
       "      <td>6</td>\n",
       "      <td>0.125000</td>\n",
       "    </tr>\n",
       "    <tr>\n",
       "      <th>...</th>\n",
       "      <td>...</td>\n",
       "      <td>...</td>\n",
       "      <td>...</td>\n",
       "      <td>...</td>\n",
       "      <td>...</td>\n",
       "      <td>...</td>\n",
       "    </tr>\n",
       "    <tr>\n",
       "      <th>paired</th>\n",
       "      <td>2</td>\n",
       "      <td>0</td>\n",
       "      <td>2</td>\n",
       "      <td>1</td>\n",
       "      <td>2</td>\n",
       "      <td>1.000000</td>\n",
       "    </tr>\n",
       "    <tr>\n",
       "      <th>bt50</th>\n",
       "      <td>0</td>\n",
       "      <td>1</td>\n",
       "      <td>1</td>\n",
       "      <td>0</td>\n",
       "      <td>1</td>\n",
       "      <td>1.000000</td>\n",
       "    </tr>\n",
       "    <tr>\n",
       "      <th>slid</th>\n",
       "      <td>0</td>\n",
       "      <td>1</td>\n",
       "      <td>1</td>\n",
       "      <td>0</td>\n",
       "      <td>1</td>\n",
       "      <td>1.000000</td>\n",
       "    </tr>\n",
       "    <tr>\n",
       "      <th>again</th>\n",
       "      <td>7</td>\n",
       "      <td>5</td>\n",
       "      <td>12</td>\n",
       "      <td>1</td>\n",
       "      <td>2</td>\n",
       "      <td>0.166667</td>\n",
       "    </tr>\n",
       "    <tr>\n",
       "      <th>texas</th>\n",
       "      <td>0</td>\n",
       "      <td>1</td>\n",
       "      <td>1</td>\n",
       "      <td>0</td>\n",
       "      <td>1</td>\n",
       "      <td>1.000000</td>\n",
       "    </tr>\n",
       "    <tr>\n",
       "      <th>contacted</th>\n",
       "      <td>0</td>\n",
       "      <td>1</td>\n",
       "      <td>1</td>\n",
       "      <td>0</td>\n",
       "      <td>1</td>\n",
       "      <td>1.000000</td>\n",
       "    </tr>\n",
       "    <tr>\n",
       "      <th>than</th>\n",
       "      <td>19</td>\n",
       "      <td>9</td>\n",
       "      <td>28</td>\n",
       "      <td>1</td>\n",
       "      <td>10</td>\n",
       "      <td>0.357143</td>\n",
       "    </tr>\n",
       "    <tr>\n",
       "      <th>me</th>\n",
       "      <td>8</td>\n",
       "      <td>20</td>\n",
       "      <td>28</td>\n",
       "      <td>0</td>\n",
       "      <td>12</td>\n",
       "      <td>0.428571</td>\n",
       "    </tr>\n",
       "    <tr>\n",
       "      <th>upstairs</th>\n",
       "      <td>0</td>\n",
       "      <td>1</td>\n",
       "      <td>1</td>\n",
       "      <td>0</td>\n",
       "      <td>1</td>\n",
       "      <td>1.000000</td>\n",
       "    </tr>\n",
       "    <tr>\n",
       "      <th>all</th>\n",
       "      <td>20</td>\n",
       "      <td>21</td>\n",
       "      <td>41</td>\n",
       "      <td>0</td>\n",
       "      <td>1</td>\n",
       "      <td>0.024390</td>\n",
       "    </tr>\n",
       "    <tr>\n",
       "      <th>utterly</th>\n",
       "      <td>0</td>\n",
       "      <td>1</td>\n",
       "      <td>1</td>\n",
       "      <td>0</td>\n",
       "      <td>1</td>\n",
       "      <td>1.000000</td>\n",
       "    </tr>\n",
       "    <tr>\n",
       "      <th>those</th>\n",
       "      <td>3</td>\n",
       "      <td>1</td>\n",
       "      <td>4</td>\n",
       "      <td>1</td>\n",
       "      <td>2</td>\n",
       "      <td>0.500000</td>\n",
       "    </tr>\n",
       "    <tr>\n",
       "      <th>fabulous</th>\n",
       "      <td>1</td>\n",
       "      <td>0</td>\n",
       "      <td>1</td>\n",
       "      <td>1</td>\n",
       "      <td>1</td>\n",
       "      <td>1.000000</td>\n",
       "    </tr>\n",
       "    <tr>\n",
       "      <th>try</th>\n",
       "      <td>1</td>\n",
       "      <td>2</td>\n",
       "      <td>3</td>\n",
       "      <td>0</td>\n",
       "      <td>1</td>\n",
       "      <td>0.333333</td>\n",
       "    </tr>\n",
       "    <tr>\n",
       "      <th>misleading</th>\n",
       "      <td>0</td>\n",
       "      <td>1</td>\n",
       "      <td>1</td>\n",
       "      <td>0</td>\n",
       "      <td>1</td>\n",
       "      <td>1.000000</td>\n",
       "    </tr>\n",
       "    <tr>\n",
       "      <th>through</th>\n",
       "      <td>2</td>\n",
       "      <td>1</td>\n",
       "      <td>3</td>\n",
       "      <td>1</td>\n",
       "      <td>1</td>\n",
       "      <td>0.333333</td>\n",
       "    </tr>\n",
       "    <tr>\n",
       "      <th>mother</th>\n",
       "      <td>0</td>\n",
       "      <td>1</td>\n",
       "      <td>1</td>\n",
       "      <td>0</td>\n",
       "      <td>1</td>\n",
       "      <td>1.000000</td>\n",
       "    </tr>\n",
       "    <tr>\n",
       "      <th>plenty</th>\n",
       "      <td>1</td>\n",
       "      <td>0</td>\n",
       "      <td>1</td>\n",
       "      <td>1</td>\n",
       "      <td>1</td>\n",
       "      <td>1.000000</td>\n",
       "    </tr>\n",
       "    <tr>\n",
       "      <th>land</th>\n",
       "      <td>1</td>\n",
       "      <td>0</td>\n",
       "      <td>1</td>\n",
       "      <td>1</td>\n",
       "      <td>1</td>\n",
       "      <td>1.000000</td>\n",
       "    </tr>\n",
       "    <tr>\n",
       "      <th>shouldnt</th>\n",
       "      <td>0</td>\n",
       "      <td>1</td>\n",
       "      <td>1</td>\n",
       "      <td>0</td>\n",
       "      <td>1</td>\n",
       "      <td>1.000000</td>\n",
       "    </tr>\n",
       "    <tr>\n",
       "      <th>shifting</th>\n",
       "      <td>1</td>\n",
       "      <td>0</td>\n",
       "      <td>1</td>\n",
       "      <td>1</td>\n",
       "      <td>1</td>\n",
       "      <td>1.000000</td>\n",
       "    </tr>\n",
       "    <tr>\n",
       "      <th>5</th>\n",
       "      <td>1</td>\n",
       "      <td>7</td>\n",
       "      <td>8</td>\n",
       "      <td>0</td>\n",
       "      <td>6</td>\n",
       "      <td>0.750000</td>\n",
       "    </tr>\n",
       "    <tr>\n",
       "      <th>sketchy</th>\n",
       "      <td>1</td>\n",
       "      <td>0</td>\n",
       "      <td>1</td>\n",
       "      <td>1</td>\n",
       "      <td>1</td>\n",
       "      <td>1.000000</td>\n",
       "    </tr>\n",
       "    <tr>\n",
       "      <th>wirefly</th>\n",
       "      <td>0</td>\n",
       "      <td>1</td>\n",
       "      <td>1</td>\n",
       "      <td>0</td>\n",
       "      <td>1</td>\n",
       "      <td>1.000000</td>\n",
       "    </tr>\n",
       "    <tr>\n",
       "      <th>screens</th>\n",
       "      <td>0</td>\n",
       "      <td>1</td>\n",
       "      <td>1</td>\n",
       "      <td>0</td>\n",
       "      <td>1</td>\n",
       "      <td>1.000000</td>\n",
       "    </tr>\n",
       "    <tr>\n",
       "      <th>we</th>\n",
       "      <td>2</td>\n",
       "      <td>5</td>\n",
       "      <td>7</td>\n",
       "      <td>0</td>\n",
       "      <td>3</td>\n",
       "      <td>0.428571</td>\n",
       "    </tr>\n",
       "    <tr>\n",
       "      <th>situations1</th>\n",
       "      <td>1</td>\n",
       "      <td>0</td>\n",
       "      <td>1</td>\n",
       "      <td>1</td>\n",
       "      <td>1</td>\n",
       "      <td>1.000000</td>\n",
       "    </tr>\n",
       "    <tr>\n",
       "      <th>angle</th>\n",
       "      <td>0</td>\n",
       "      <td>1</td>\n",
       "      <td>1</td>\n",
       "      <td>0</td>\n",
       "      <td>1</td>\n",
       "      <td>1.000000</td>\n",
       "    </tr>\n",
       "    <tr>\n",
       "      <th>cheaply</th>\n",
       "      <td>0</td>\n",
       "      <td>1</td>\n",
       "      <td>1</td>\n",
       "      <td>0</td>\n",
       "      <td>1</td>\n",
       "      <td>1.000000</td>\n",
       "    </tr>\n",
       "    <tr>\n",
       "      <th>removing</th>\n",
       "      <td>1</td>\n",
       "      <td>0</td>\n",
       "      <td>1</td>\n",
       "      <td>1</td>\n",
       "      <td>1</td>\n",
       "      <td>1.000000</td>\n",
       "    </tr>\n",
       "  </tbody>\n",
       "</table>\n",
       "<p>1898 rows × 6 columns</p>\n",
       "</div>"
      ],
      "text/plain": [
       "                    pos_count  neg_count  total_count  is_positive  delta  \\\n",
       "word                                                                        \n",
       "although                    0          2            2            0      2   \n",
       "avoid                       1          2            3            0      1   \n",
       "unacceptableunless          0          1            1            0      1   \n",
       "resolution                  0          2            2            0      2   \n",
       "8                           0          1            1            0      1   \n",
       "bar                         1          1            2            0      0   \n",
       "range                       5          0            5            1      5   \n",
       "goesthe                     0          1            1            0      1   \n",
       "only                        5         17           22            0     12   \n",
       "hour                        2          0            2            1      2   \n",
       "3o                          0          1            1            0      1   \n",
       "research                    1          0            1            1      1   \n",
       "510                         2          1            3            1      1   \n",
       "others                      4          1            5            1      3   \n",
       "replace                     2          2            4            0      0   \n",
       "hook                        1          0            1            1      1   \n",
       "person                      0          2            2            0      2   \n",
       "significantly               1          0            1            1      1   \n",
       "without                     7          1            8            1      6   \n",
       "cradle                      0          1            1            0      1   \n",
       "deffinitely                 1          0            1            1      1   \n",
       "wake                        0          1            1            0      1   \n",
       "under                       2          1            3            1      1   \n",
       "earset                      1          0            1            1      1   \n",
       "detachable                  1          0            1            1      1   \n",
       "motorola                    6          5           11            1      1   \n",
       "means                       0          1            1            0      1   \n",
       "strong                      3          2            5            1      1   \n",
       "online                      0          1            1            0      1   \n",
       "had                        21         27           48            0      6   \n",
       "...                       ...        ...          ...          ...    ...   \n",
       "paired                      2          0            2            1      2   \n",
       "bt50                        0          1            1            0      1   \n",
       "slid                        0          1            1            0      1   \n",
       "again                       7          5           12            1      2   \n",
       "texas                       0          1            1            0      1   \n",
       "contacted                   0          1            1            0      1   \n",
       "than                       19          9           28            1     10   \n",
       "me                          8         20           28            0     12   \n",
       "upstairs                    0          1            1            0      1   \n",
       "all                        20         21           41            0      1   \n",
       "utterly                     0          1            1            0      1   \n",
       "those                       3          1            4            1      2   \n",
       "fabulous                    1          0            1            1      1   \n",
       "try                         1          2            3            0      1   \n",
       "misleading                  0          1            1            0      1   \n",
       "through                     2          1            3            1      1   \n",
       "mother                      0          1            1            0      1   \n",
       "plenty                      1          0            1            1      1   \n",
       "land                        1          0            1            1      1   \n",
       "shouldnt                    0          1            1            0      1   \n",
       "shifting                    1          0            1            1      1   \n",
       "5                           1          7            8            0      6   \n",
       "sketchy                     1          0            1            1      1   \n",
       "wirefly                     0          1            1            0      1   \n",
       "screens                     0          1            1            0      1   \n",
       "we                          2          5            7            0      3   \n",
       "situations1                 1          0            1            1      1   \n",
       "angle                       0          1            1            0      1   \n",
       "cheaply                     0          1            1            0      1   \n",
       "removing                    1          0            1            1      1   \n",
       "\n",
       "                    scaled_delta  \n",
       "word                              \n",
       "although                1.000000  \n",
       "avoid                   0.333333  \n",
       "unacceptableunless      1.000000  \n",
       "resolution              1.000000  \n",
       "8                       1.000000  \n",
       "bar                     0.000000  \n",
       "range                   1.000000  \n",
       "goesthe                 1.000000  \n",
       "only                    0.545455  \n",
       "hour                    1.000000  \n",
       "3o                      1.000000  \n",
       "research                1.000000  \n",
       "510                     0.333333  \n",
       "others                  0.600000  \n",
       "replace                 0.000000  \n",
       "hook                    1.000000  \n",
       "person                  1.000000  \n",
       "significantly           1.000000  \n",
       "without                 0.750000  \n",
       "cradle                  1.000000  \n",
       "deffinitely             1.000000  \n",
       "wake                    1.000000  \n",
       "under                   0.333333  \n",
       "earset                  1.000000  \n",
       "detachable              1.000000  \n",
       "motorola                0.090909  \n",
       "means                   1.000000  \n",
       "strong                  0.200000  \n",
       "online                  1.000000  \n",
       "had                     0.125000  \n",
       "...                          ...  \n",
       "paired                  1.000000  \n",
       "bt50                    1.000000  \n",
       "slid                    1.000000  \n",
       "again                   0.166667  \n",
       "texas                   1.000000  \n",
       "contacted               1.000000  \n",
       "than                    0.357143  \n",
       "me                      0.428571  \n",
       "upstairs                1.000000  \n",
       "all                     0.024390  \n",
       "utterly                 1.000000  \n",
       "those                   0.500000  \n",
       "fabulous                1.000000  \n",
       "try                     0.333333  \n",
       "misleading              1.000000  \n",
       "through                 0.333333  \n",
       "mother                  1.000000  \n",
       "plenty                  1.000000  \n",
       "land                    1.000000  \n",
       "shouldnt                1.000000  \n",
       "shifting                1.000000  \n",
       "5                       0.750000  \n",
       "sketchy                 1.000000  \n",
       "wirefly                 1.000000  \n",
       "screens                 1.000000  \n",
       "we                      0.428571  \n",
       "situations1             1.000000  \n",
       "angle                   1.000000  \n",
       "cheaply                 1.000000  \n",
       "removing                1.000000  \n",
       "\n",
       "[1898 rows x 6 columns]"
      ]
     },
     "execution_count": 24,
     "metadata": {},
     "output_type": "execute_result"
    }
   ],
   "source": [
    "words"
   ]
  },
  {
   "cell_type": "code",
   "execution_count": 25,
   "metadata": {},
   "outputs": [
    {
     "data": {
      "text/html": [
       "<div>\n",
       "<style scoped>\n",
       "    .dataframe tbody tr th:only-of-type {\n",
       "        vertical-align: middle;\n",
       "    }\n",
       "\n",
       "    .dataframe tbody tr th {\n",
       "        vertical-align: top;\n",
       "    }\n",
       "\n",
       "    .dataframe thead th {\n",
       "        text-align: right;\n",
       "    }\n",
       "</style>\n",
       "<table border=\"1\" class=\"dataframe\">\n",
       "  <thead>\n",
       "    <tr style=\"text-align: right;\">\n",
       "      <th></th>\n",
       "      <th>pos_count</th>\n",
       "      <th>neg_count</th>\n",
       "      <th>total_count</th>\n",
       "      <th>is_positive</th>\n",
       "      <th>delta</th>\n",
       "      <th>scaled_delta</th>\n",
       "    </tr>\n",
       "  </thead>\n",
       "  <tbody>\n",
       "    <tr>\n",
       "      <th>count</th>\n",
       "      <td>1898.000000</td>\n",
       "      <td>1898.000000</td>\n",
       "      <td>1898.000000</td>\n",
       "      <td>1898.000000</td>\n",
       "      <td>1898.000000</td>\n",
       "      <td>1898.00000</td>\n",
       "    </tr>\n",
       "    <tr>\n",
       "      <th>mean</th>\n",
       "      <td>2.606428</td>\n",
       "      <td>2.783983</td>\n",
       "      <td>5.390411</td>\n",
       "      <td>0.412013</td>\n",
       "      <td>2.092202</td>\n",
       "      <td>0.79774</td>\n",
       "    </tr>\n",
       "    <tr>\n",
       "      <th>std</th>\n",
       "      <td>11.371315</td>\n",
       "      <td>11.356945</td>\n",
       "      <td>22.155245</td>\n",
       "      <td>0.492327</td>\n",
       "      <td>4.622882</td>\n",
       "      <td>0.34708</td>\n",
       "    </tr>\n",
       "    <tr>\n",
       "      <th>min</th>\n",
       "      <td>0.000000</td>\n",
       "      <td>0.000000</td>\n",
       "      <td>1.000000</td>\n",
       "      <td>0.000000</td>\n",
       "      <td>0.000000</td>\n",
       "      <td>0.00000</td>\n",
       "    </tr>\n",
       "    <tr>\n",
       "      <th>25%</th>\n",
       "      <td>0.000000</td>\n",
       "      <td>0.000000</td>\n",
       "      <td>1.000000</td>\n",
       "      <td>0.000000</td>\n",
       "      <td>1.000000</td>\n",
       "      <td>0.60000</td>\n",
       "    </tr>\n",
       "    <tr>\n",
       "      <th>50%</th>\n",
       "      <td>1.000000</td>\n",
       "      <td>1.000000</td>\n",
       "      <td>1.000000</td>\n",
       "      <td>0.000000</td>\n",
       "      <td>1.000000</td>\n",
       "      <td>1.00000</td>\n",
       "    </tr>\n",
       "    <tr>\n",
       "      <th>75%</th>\n",
       "      <td>1.000000</td>\n",
       "      <td>2.000000</td>\n",
       "      <td>3.000000</td>\n",
       "      <td>1.000000</td>\n",
       "      <td>2.000000</td>\n",
       "      <td>1.00000</td>\n",
       "    </tr>\n",
       "    <tr>\n",
       "      <th>max</th>\n",
       "      <td>237.000000</td>\n",
       "      <td>277.000000</td>\n",
       "      <td>514.000000</td>\n",
       "      <td>1.000000</td>\n",
       "      <td>87.000000</td>\n",
       "      <td>1.00000</td>\n",
       "    </tr>\n",
       "  </tbody>\n",
       "</table>\n",
       "</div>"
      ],
      "text/plain": [
       "         pos_count    neg_count  total_count  is_positive        delta  \\\n",
       "count  1898.000000  1898.000000  1898.000000  1898.000000  1898.000000   \n",
       "mean      2.606428     2.783983     5.390411     0.412013     2.092202   \n",
       "std      11.371315    11.356945    22.155245     0.492327     4.622882   \n",
       "min       0.000000     0.000000     1.000000     0.000000     0.000000   \n",
       "25%       0.000000     0.000000     1.000000     0.000000     1.000000   \n",
       "50%       1.000000     1.000000     1.000000     0.000000     1.000000   \n",
       "75%       1.000000     2.000000     3.000000     1.000000     2.000000   \n",
       "max     237.000000   277.000000   514.000000     1.000000    87.000000   \n",
       "\n",
       "       scaled_delta  \n",
       "count    1898.00000  \n",
       "mean        0.79774  \n",
       "std         0.34708  \n",
       "min         0.00000  \n",
       "25%         0.60000  \n",
       "50%         1.00000  \n",
       "75%         1.00000  \n",
       "max         1.00000  "
      ]
     },
     "execution_count": 25,
     "metadata": {},
     "output_type": "execute_result"
    }
   ],
   "source": [
    "words.describe()"
   ]
  },
  {
   "cell_type": "code",
   "execution_count": 26,
   "metadata": {},
   "outputs": [],
   "source": [
    "# Reset the dataframe\n",
    "txt_raw = pd.read_csv(data_1, delimiter= '\\t', header=None)\n",
    "txt_raw.columns = ['sentence', 'score'] # 1 = positive 0 = negative\n",
    "\n",
    "positive = (txt_raw['score'] == 1)"
   ]
  },
  {
   "cell_type": "code",
   "execution_count": 27,
   "metadata": {},
   "outputs": [
    {
     "name": "stdout",
     "output_type": "stream",
     "text": [
      "['without', 'highly', 'love', 'excellent', 'both', 'jabra', 'great', 'happy', 'works', 'fine', 'price', 'best', 'fits', 'years', 'pretty', 'perfectly', 'nice']\n"
     ]
    }
   ],
   "source": [
    "#Choosing keywords by weighted score\n",
    "keywords3 = []\n",
    "keywords3 = list(words.loc[((words['pos_count']) > (words['neg_count'])) & (words['total_count'] > 5) & \n",
    "                           (words['scaled_delta'] > .7)].index)\n",
    "\n",
    "print(keywords3)"
   ]
  },
  {
   "cell_type": "code",
   "execution_count": 28,
   "metadata": {},
   "outputs": [],
   "source": [
    "#adding more regex to find the keywords\n",
    "for key in keywords3:\n",
    "    # Note that we add spaces around the key so that we're getting the word,\n",
    "    # not just pattern matching.\n",
    "    txt_raw[str(key)] = txt_raw.sentence.str.contains(\n",
    "        ' ' + str(key) + ' ',\n",
    "        case=False\n",
    "    )"
   ]
  },
  {
   "cell_type": "code",
   "execution_count": 29,
   "metadata": {},
   "outputs": [
    {
     "data": {
      "text/plain": [
       "<matplotlib.axes._subplots.AxesSubplot at 0x1a1cb110f0>"
      ]
     },
     "execution_count": 29,
     "metadata": {},
     "output_type": "execute_result"
    },
    {
     "data": {
      "image/png": "[encoded data removed]",
      "text/plain": [
       "<Figure size 432x288 with 2 Axes>"
      ]
     },
     "metadata": {
      "needs_background": "light"
     },
     "output_type": "display_data"
    }
   ],
   "source": [
    "sns.heatmap(txt_raw.corr())"
   ]
  },
  {
   "cell_type": "code",
   "execution_count": 30,
   "metadata": {},
   "outputs": [],
   "source": [
    "data = txt_raw[keywords3]\n",
    "target = positive\n",
    "\n",
    "# Our data is binary / boolean, so we're importing the Bernoulli classifier.\n",
    "from sklearn.naive_bayes import BernoulliNB\n",
    "\n",
    "# Instantiate our model and store it in a new variable.\n",
    "bnb = BernoulliNB()\n",
    "\n",
    "# Fit our model to the data.\n",
    "bnb.fit(data, target)\n",
    "\n",
    "# Classify, storing the result in a new variable.\n",
    "y_pred = bnb.predict(data)"
   ]
  },
  {
   "cell_type": "code",
   "execution_count": 31,
   "metadata": {},
   "outputs": [
    {
     "data": {
      "text/plain": [
       "{'':          Positive Negative\n",
       " Positive      156      344\n",
       " Negative        9      491,\n",
       " 'Total datapoints (n)': 1000,\n",
       " 'Mislabeled Points': 353,\n",
       " 'Accuracy': 64.7,\n",
       " 'Type I': 9,\n",
       " 'Type II': 344,\n",
       " 'Sensitivity': 0.312,\n",
       " 'Specificity': 0.982}"
      ]
     },
     "execution_count": 31,
     "metadata": {},
     "output_type": "execute_result"
    }
   ],
   "source": [
    "evaluate(data, target, y_pred)"
   ]
  },
  {
   "cell_type": "code",
   "execution_count": 32,
   "metadata": {},
   "outputs": [
    {
     "data": {
      "text/plain": [
       "array([0.66, 0.63, 0.64, 0.65, 0.7 , 0.59, 0.69, 0.67, 0.63, 0.6 ])"
      ]
     },
     "execution_count": 32,
     "metadata": {},
     "output_type": "execute_result"
    }
   ],
   "source": [
    "cross_val_score(bnb, data, target, cv=10)"
   ]
  },
  {
   "cell_type": "markdown",
   "metadata": {},
   "source": [
    "> Further text manipulation has improved detecting negative reviews, but worsened type two errors."
   ]
  },
  {
   "cell_type": "markdown",
   "metadata": {},
   "source": [
    "### 4. Combine Regex and Dataframe of Words to run a fourth model"
   ]
  },
  {
   "cell_type": "code",
   "execution_count": 33,
   "metadata": {},
   "outputs": [],
   "source": [
    "# Reset the dataframe\n",
    "txt_raw = pd.read_csv(data_1, delimiter= '\\t', header=None)\n",
    "txt_raw.columns = ['sentence', 'score'] # 1 = positive 0 = negative\n",
    "\n",
    "positive = (txt_raw['score'] == 1)"
   ]
  },
  {
   "cell_type": "code",
   "execution_count": 34,
   "metadata": {},
   "outputs": [],
   "source": [
    "# Remove punctuation and non-alphanumeric characters, then lowercase all text\n",
    "txt_raw['sentence'] = txt_raw['sentence'].apply(lambda x: re.sub('-',' ', str(x))) # separate hyphenated words\n",
    "txt_raw['sentence'] = txt_raw['sentence'].apply(lambda x: re.sub('[^\\w\\s\\d]','', str(x))) # strip non-alphanumeric characters\n",
    "txt_raw['sentence'] = txt_raw['sentence'].str.lower() # convert all to lowercase"
   ]
  },
  {
   "cell_type": "code",
   "execution_count": 35,
   "metadata": {},
   "outputs": [],
   "source": [
    "#created a new worsd dataframe\n",
    "words2 = pd.DataFrame()\n",
    "\n",
    "#import stopwords from nltk to remove stopwords from reviews\n",
    "from nltk.corpus import stopwords \n",
    "stop_words = set(stopwords.words('english'))\n",
    "\n",
    "# Create a list of all unique words and remove stop words\n",
    "all_words2 = []\n",
    "for rev in txt_raw['sentence']:\n",
    "    for word in rev.split():\n",
    "        if word not in stop_words:\n",
    "            all_words2.append(word)        \n",
    "all_words2 = set(all_words2)\n",
    "\n",
    "# Retrieve counts of each word for positive reviews\n",
    "pos_words = []\n",
    "for rev in txt_raw['sentence'].loc[txt_raw['score'] == 1]:\n",
    "    for word in rev.split():\n",
    "        pos_words.append(word)   \n",
    "pos_counts = Counter(pos_words)\n",
    "\n",
    "# Retrieve counts of each word for negative reviews\n",
    "neg_words = []\n",
    "for rev in txt_raw['sentence'].loc[txt_raw['score'] == 0]:\n",
    "    for word in rev.split():\n",
    "        neg_words.append(word)         \n",
    "neg_counts = Counter(neg_words)"
   ]
  },
  {
   "cell_type": "code",
   "execution_count": 36,
   "metadata": {},
   "outputs": [],
   "source": [
    "# Create a dataframe summarizing words by their frequencies in each type of review\n",
    "words2['word'] = list(all_words2)\n",
    "words2 = words2.set_index('word')\n",
    "\n",
    "words2['pos_count'] = 0\n",
    "for word in words2.index:\n",
    "    if word in pos_counts:\n",
    "        words2.at[word, 'pos_count'] = pos_counts[word]\n",
    "\n",
    "words2['neg_count'] = 0\n",
    "for word in words2.index:\n",
    "    if word in neg_counts:\n",
    "        words2.at[word, 'neg_count'] = neg_counts[word]\n",
    "\n",
    "words2['total_count'] = words2['pos_count'] + words2['neg_count']\n",
    "        \n",
    "words2['is_positive'] = 0\n",
    "words2.loc[words2['neg_count'] < words2['pos_count'], 'is_positive'] = 1\n",
    "\n",
    "words2['delta'] = abs(words2['pos_count'] - words2['neg_count'])\n",
    "\n",
    "words2['scaled_delta'] = words2['delta'] / words2['total_count']"
   ]
  },
  {
   "cell_type": "code",
   "execution_count": 37,
   "metadata": {},
   "outputs": [
    {
     "name": "stdout",
     "output_type": "stream",
     "text": [
      "['range', 'without', 'seller', 'highly', 'love', 'free', 'excellent', 'comfortably', 'seems', 'jabra', 'great', 'happy', 'leather', 'definitely', 'works', 'fine', 'awesome', 'price', 'best', 'fits', 'fast', 'keyboard', 'pleased', 'family', 'years', 'cases', 'sturdy', 'pretty', 'perfectly', 'order', 'value', 'charm', 'satisfied', 'nice']\n"
     ]
    }
   ],
   "source": [
    "keywords4 = []\n",
    "keywords4 = list(words2.loc[((words2['pos_count']) > (words2['neg_count'])) & (words2['total_count'] > 3) & \n",
    "                           (words2['scaled_delta'] > .7)].index)\n",
    "\n",
    "print(keywords4)"
   ]
  },
  {
   "cell_type": "code",
   "execution_count": 38,
   "metadata": {},
   "outputs": [],
   "source": [
    "#regex on the keywords\n",
    "for key in keywords4:\n",
    "    # Note that we add spaces around the key so that we're getting the word,\n",
    "    # not just pattern matching.\n",
    "    txt_raw[str(key)] = txt_raw.sentence.str.contains(\n",
    "        ' ' + str(key) + ' ',\n",
    "        case=False\n",
    "    )"
   ]
  },
  {
   "cell_type": "code",
   "execution_count": 39,
   "metadata": {},
   "outputs": [
    {
     "data": {
      "text/plain": [
       "<matplotlib.axes._subplots.AxesSubplot at 0x1a1cac90b8>"
      ]
     },
     "execution_count": 39,
     "metadata": {},
     "output_type": "execute_result"
    },
    {
     "data": {
      "image/png": "[encoded data removed]",
      "text/plain": [
       "<Figure size 432x288 with 2 Axes>"
      ]
     },
     "metadata": {
      "needs_background": "light"
     },
     "output_type": "display_data"
    }
   ],
   "source": [
    "sns.heatmap(txt_raw.corr())"
   ]
  },
  {
   "cell_type": "code",
   "execution_count": 40,
   "metadata": {},
   "outputs": [],
   "source": [
    "data = txt_raw[keywords4]\n",
    "target = positive\n",
    "\n",
    "# Our data is binary / boolean, so we're importing the Bernoulli classifier.\n",
    "# from sklearn.naive_bayes import BernoulliNB\n",
    "\n",
    "# Instantiate our model and store it in a new variable.\n",
    "bnb = BernoulliNB()\n",
    "\n",
    "# Fit our model to the data.\n",
    "bnb.fit(data, target)\n",
    "\n",
    "# Classify, storing the result in a new variable.\n",
    "y_pred = bnb.predict(data)"
   ]
  },
  {
   "cell_type": "code",
   "execution_count": 41,
   "metadata": {},
   "outputs": [
    {
     "data": {
      "text/plain": [
       "{'':          Positive Negative\n",
       " Positive      201      299\n",
       " Negative       14      486,\n",
       " 'Total datapoints (n)': 1000,\n",
       " 'Mislabeled Points': 313,\n",
       " 'Accuracy': 68.7,\n",
       " 'Type I': 14,\n",
       " 'Type II': 299,\n",
       " 'Sensitivity': 0.402,\n",
       " 'Specificity': 0.972}"
      ]
     },
     "execution_count": 41,
     "metadata": {},
     "output_type": "execute_result"
    }
   ],
   "source": [
    "evaluate(data, target, y_pred)"
   ]
  },
  {
   "cell_type": "code",
   "execution_count": 42,
   "metadata": {},
   "outputs": [
    {
     "data": {
      "text/plain": [
       "array([0.69, 0.67, 0.67, 0.68, 0.74, 0.64, 0.72, 0.7 , 0.69, 0.62])"
      ]
     },
     "execution_count": 42,
     "metadata": {},
     "output_type": "execute_result"
    }
   ],
   "source": [
    "cross_val_score(bnb, data, target, cv=10)"
   ]
  },
  {
   "cell_type": "code",
   "execution_count": 43,
   "metadata": {},
   "outputs": [
    {
     "data": {
      "text/plain": [
       "0.6819999999999999"
      ]
     },
     "execution_count": 43,
     "metadata": {},
     "output_type": "execute_result"
    }
   ],
   "source": [
    "scores = cross_val_score(bnb, data, target, cv=10)\n",
    "scores.mean()"
   ]
  },
  {
   "cell_type": "markdown",
   "metadata": {},
   "source": [
    "> The first and this model (#4) have had the most success. The fourth model has increased accuracy from 66.4% to 68.7%, but there are still issues with correctly identifying positive comments."
   ]
  },
  {
   "cell_type": "markdown",
   "metadata": {},
   "source": [
    "### 5. Run the last model again but with more keywords deemed important"
   ]
  },
  {
   "cell_type": "markdown",
   "metadata": {},
   "source": [
    "> I'll first try and see which words are being misclassified the most"
   ]
  },
  {
   "cell_type": "code",
   "execution_count": 58,
   "metadata": {},
   "outputs": [
    {
     "name": "stdout",
     "output_type": "stream",
     "text": [
      "range 4 0\n",
      "without 7 1\n",
      "clear 7 2\n",
      "seller 1 0\n",
      "highly 7 1\n",
      "love 16 0\n",
      "free 5 0\n",
      "excellent 9 0\n",
      "easy 10 3\n",
      "good 41 12\n",
      "comfortably 3 0\n",
      "seems 4 0\n",
      "well 19 4\n",
      "jabra 6 1\n",
      "great 37 3\n",
      "working 9 0\n",
      "happy 11 1\n",
      "leather 3 0\n",
      "definitely 4 0\n",
      "priced 4 1\n",
      "works 32 1\n",
      "fine 7 1\n",
      "awesome 2 0\n",
      "price 11 1\n",
      "best 15 2\n",
      "fits 9 1\n",
      "fast 2 0\n",
      "keyboard 3 0\n",
      "pleased 4 0\n",
      "family 1 0\n",
      "years 7 1\n",
      "cases 3 0\n",
      "sturdy 4 0\n",
      "pretty 8 0\n",
      "perfectly 2 0\n",
      "order 4 0\n",
      "hands 4 1\n",
      "value 1 0\n",
      "charm 4 0\n",
      "comfortable 9 3\n",
      "satisfied 3 0\n",
      "nice 12 0\n"
     ]
    }
   ],
   "source": [
    "# Comparing each feature with true positive against false negatives\n",
    "for col in txt_raw.columns[2:]:\n",
    "    print(col, txt_raw.loc[(txt_raw[\"score\"] == True) & (txt_raw[col] == True), col].sum(),\n",
    "          txt_raw.loc[(txt_raw[\"score\"] == False) & (txt_raw[col] == True), col].sum())"
   ]
  },
  {
   "cell_type": "markdown",
   "metadata": {},
   "source": [
    "> #### The words that performed the worst are<br>\n",
    ">> comfortable (fn:3) and well (fn:4)"
   ]
  },
  {
   "cell_type": "code",
   "execution_count": 45,
   "metadata": {},
   "outputs": [
    {
     "data": {
      "text/plain": [
       "pos_count       92.000000\n",
       "neg_count        5.000000\n",
       "total_count     97.000000\n",
       "is_positive      1.000000\n",
       "delta           87.000000\n",
       "scaled_delta     0.896907\n",
       "Name: great, dtype: float64"
      ]
     },
     "execution_count": 45,
     "metadata": {},
     "output_type": "execute_result"
    }
   ],
   "source": [
    "words2.loc['great']"
   ]
  },
  {
   "cell_type": "code",
   "execution_count": 46,
   "metadata": {},
   "outputs": [
    {
     "data": {
      "text/plain": [
       "pos_count       46.000000\n",
       "neg_count        1.000000\n",
       "total_count     47.000000\n",
       "is_positive      1.000000\n",
       "delta           45.000000\n",
       "scaled_delta     0.957447\n",
       "Name: works, dtype: float64"
      ]
     },
     "execution_count": 46,
     "metadata": {},
     "output_type": "execute_result"
    }
   ],
   "source": [
    "words2.loc['works']"
   ]
  },
  {
   "cell_type": "markdown",
   "metadata": {},
   "source": [
    "#### I'll run the same model as in the fourth run with keywords of weighted importance .6 and without the keywords 'great' and 'works'."
   ]
  },
  {
   "cell_type": "code",
   "execution_count": 47,
   "metadata": {},
   "outputs": [],
   "source": [
    "# Reset the dataframe\n",
    "txt_raw = pd.read_csv(data_1, delimiter= '\\t', header=None)\n",
    "txt_raw.columns = ['sentence', 'score'] # 1 = positive 0 = negative\n",
    "\n",
    "positive = (txt_raw['score'] == 1)"
   ]
  },
  {
   "cell_type": "code",
   "execution_count": 48,
   "metadata": {},
   "outputs": [],
   "source": [
    "# Remove punctuation and non-alphanumeric characters, then lowercase all text\n",
    "txt_raw['sentence'] = txt_raw['sentence'].apply(lambda x: re.sub('-',' ', str(x))) # separate hyphenated words\n",
    "txt_raw['sentence'] = txt_raw['sentence'].apply(lambda x: re.sub('[^\\w\\s\\d]','', str(x))) # strip non-alphanumeric characters\n",
    "txt_raw['sentence'] = txt_raw['sentence'].str.lower() # convert all to lowercase"
   ]
  },
  {
   "cell_type": "code",
   "execution_count": 49,
   "metadata": {},
   "outputs": [
    {
     "name": "stdout",
     "output_type": "stream",
     "text": [
      "['range', 'without', 'clear', 'seller', 'highly', 'love', 'free', 'excellent', 'easy', 'good', 'comfortably', 'seems', 'well', 'jabra', 'great', 'working', 'happy', 'leather', 'definitely', 'priced', 'works', 'fine', 'awesome', 'price', 'best', 'fits', 'fast', 'keyboard', 'pleased', 'family', 'years', 'cases', 'sturdy', 'pretty', 'perfectly', 'order', 'hands', 'value', 'charm', 'comfortable', 'satisfied', 'nice']\n"
     ]
    }
   ],
   "source": [
    "keywords5 = []\n",
    "keywords5 = list(words2.loc[((words2['pos_count']) > (words2['neg_count'])) & (words2['total_count'] > 3) & \n",
    "                           (words2['scaled_delta'] > .6)].index)\n",
    "\n",
    "print(keywords5)"
   ]
  },
  {
   "cell_type": "code",
   "execution_count": 50,
   "metadata": {},
   "outputs": [
    {
     "name": "stdout",
     "output_type": "stream",
     "text": [
      "['range', 'without', 'clear', 'seller', 'highly', 'love', 'free', 'excellent', 'easy', 'good', 'comfortably', 'seems', 'well', 'jabra', 'great', 'working', 'happy', 'leather', 'definitely', 'priced', 'works', 'fine', 'awesome', 'price', 'best', 'fits', 'fast', 'keyboard', 'pleased', 'family', 'years', 'cases', 'sturdy', 'pretty', 'perfectly', 'order', 'hands', 'value', 'charm', 'comfortable', 'satisfied', 'nice']\n"
     ]
    }
   ],
   "source": [
    "#keywords5.remove('great')\n",
    "#keywords5.remove('works')\n",
    "print(keywords5)"
   ]
  },
  {
   "cell_type": "code",
   "execution_count": 51,
   "metadata": {},
   "outputs": [],
   "source": [
    "#regex on the keywords\n",
    "for key in keywords5:\n",
    "    # Note that we add spaces around the key so that we're getting the word,\n",
    "    # not just pattern matching.\n",
    "    txt_raw[str(key)] = txt_raw.sentence.str.contains(\n",
    "        ' ' + str(key) + ' ',\n",
    "        case=False\n",
    "    )"
   ]
  },
  {
   "cell_type": "code",
   "execution_count": 52,
   "metadata": {},
   "outputs": [
    {
     "data": {
      "text/plain": [
       "<matplotlib.axes._subplots.AxesSubplot at 0x1a1cac8438>"
      ]
     },
     "execution_count": 52,
     "metadata": {},
     "output_type": "execute_result"
    },
    {
     "data": {
      "image/png": "[encoded data removed]",
      "text/plain": [
       "<Figure size 1080x1152 with 2 Axes>"
      ]
     },
     "metadata": {
      "needs_background": "light"
     },
     "output_type": "display_data"
    }
   ],
   "source": [
    "plt.figure(figsize=(15, 16))\n",
    "sns.heatmap(txt_raw.corr())"
   ]
  },
  {
   "cell_type": "markdown",
   "metadata": {},
   "source": [
    "> #### Hands and Free have a high correlation to each other, so consider removing"
   ]
  },
  {
   "cell_type": "code",
   "execution_count": 53,
   "metadata": {},
   "outputs": [
    {
     "name": "stdout",
     "output_type": "stream",
     "text": [
      "['range', 'without', 'clear', 'seller', 'highly', 'love', 'free', 'excellent', 'easy', 'good', 'comfortably', 'seems', 'well', 'jabra', 'great', 'working', 'happy', 'leather', 'definitely', 'priced', 'works', 'fine', 'awesome', 'price', 'best', 'fits', 'fast', 'keyboard', 'pleased', 'family', 'years', 'cases', 'sturdy', 'pretty', 'perfectly', 'order', 'value', 'charm', 'comfortable', 'satisfied', 'nice']\n"
     ]
    }
   ],
   "source": [
    "keywords5.remove('hands')\n",
    "print(keywords5)"
   ]
  },
  {
   "cell_type": "code",
   "execution_count": 54,
   "metadata": {},
   "outputs": [],
   "source": [
    "data = txt_raw[keywords5]\n",
    "target = positive\n",
    "\n",
    "# Our data is binary / boolean, so we're importing the Bernoulli classifier.\n",
    "# from sklearn.naive_bayes import BernoulliNB\n",
    "\n",
    "# Instantiate our model and store it in a new variable.\n",
    "bnb = BernoulliNB()\n",
    "\n",
    "# Fit our model to the data.\n",
    "bnb.fit(data, target)\n",
    "\n",
    "# Classify, storing the result in a new variable.\n",
    "y_pred = bnb.predict(data)"
   ]
  },
  {
   "cell_type": "code",
   "execution_count": 55,
   "metadata": {},
   "outputs": [
    {
     "data": {
      "text/plain": [
       "{'':          Positive Negative\n",
       " Positive      250      250\n",
       " Negative       37      463,\n",
       " 'Total datapoints (n)': 1000,\n",
       " 'Mislabeled Points': 287,\n",
       " 'Accuracy': 71.3,\n",
       " 'Type I': 37,\n",
       " 'Type II': 250,\n",
       " 'Sensitivity': 0.5,\n",
       " 'Specificity': 0.926}"
      ]
     },
     "execution_count": 55,
     "metadata": {},
     "output_type": "execute_result"
    }
   ],
   "source": [
    "evaluate(data, target, y_pred)"
   ]
  },
  {
   "cell_type": "code",
   "execution_count": 56,
   "metadata": {},
   "outputs": [
    {
     "data": {
      "text/plain": [
       "array([0.72, 0.7 , 0.72, 0.68, 0.76, 0.67, 0.73, 0.71, 0.71, 0.68])"
      ]
     },
     "execution_count": 56,
     "metadata": {},
     "output_type": "execute_result"
    }
   ],
   "source": [
    "cross_val_score(bnb, data, target, cv=10)"
   ]
  },
  {
   "cell_type": "code",
   "execution_count": 57,
   "metadata": {},
   "outputs": [
    {
     "data": {
      "text/plain": [
       "0.708"
      ]
     },
     "execution_count": 57,
     "metadata": {},
     "output_type": "execute_result"
    }
   ],
   "source": [
    "scores2 = cross_val_score(bnb, data, target, cv=10)\n",
    "scores2.mean()"
   ]
  },
  {
   "cell_type": "markdown",
   "metadata": {},
   "source": [
    "> There is signifacntly less variance in this model (cross validation), but it performed exactly the same in detecting negative reviews as model two which is a poorer performance than models 3 and 4. <br>\n",
    "For positive reviews this has the best performance with sensitivity at 41.2%."
   ]
  },
  {
   "cell_type": "markdown",
   "metadata": {},
   "source": [
    "### Wrap up evaluations\n",
    "    -Do any of your classifiers seem to overfit?\n",
    "    -Which seem to perform the best? Why?\n",
    "    -Which features seemed to be most impactful to performance?\n",
    "    \n",
    "    \n",
    "1. I don't think there was any overfitting because the accuracy never made it above 75% for any model. <br>\n",
    "2. I would say that model 5 performed the best because of there was less variance between each cross validation score, and even though it didn't perform the best with negative reviews, the fifth model did the best at detecting positive reviews, which was the goal.<br>\n",
    "3. The keywords included in the final model (5) were the most impactful. The words love good and great are the highest ranking."
   ]
  },
  {
   "cell_type": "code",
   "execution_count": null,
   "metadata": {},
   "outputs": [],
   "source": []
  }
 ],
 "metadata": {
  "kernelspec": {
   "display_name": "Python 3",
   "language": "python",
   "name": "python3"
  },
  "language_info": {
   "codemirror_mode": {
    "name": "ipython",
    "version": 3
   },
   "file_extension": ".py",
   "mimetype": "text/x-python",
   "name": "python",
   "nbconvert_exporter": "python",
   "pygments_lexer": "ipython3",
   "version": "3.6.6"
  }
 },
 "nbformat": 4,
 "nbformat_minor": 2
}
