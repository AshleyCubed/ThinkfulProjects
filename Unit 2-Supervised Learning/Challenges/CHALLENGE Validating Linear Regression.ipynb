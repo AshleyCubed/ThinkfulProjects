{
 "cells": [
  {
   "cell_type": "markdown",
   "metadata": {},
   "source": [
    "<div style=\"text-align: right\"> AE Simpson </div><br>\n",
    "\n",
    "# Challenge: make your own regression model\n",
    "> You've already gotten started by prepping the FBI:UCR Crime dataset in a previous assignment.<br>\n",
    "Using this data, build a regression model to predict property crimes. You can use the features you prepared in the previous assignment, new features of your own choosing, or a combination. The goal here is prediction rather than understanding mechanisms, so the focus is on creating a model that explains a lot of variance."
   ]
  },
  {
   "cell_type": "code",
   "execution_count": 1,
   "metadata": {},
   "outputs": [],
   "source": [
    "#Imports\n",
    "import math\n",
    "import warnings\n",
    "import numpy as np\n",
    "import pandas as pd\n",
    "\n",
    "from sklearn import linear_model\n",
    "import statsmodels.api as sm\n",
    "import statsmodels.formula.api as smf\n",
    "\n",
    "#Plotting\n",
    "from IPython.display import display\n",
    "from matplotlib import pyplot as plt\n",
    "import seaborn as sns\n",
    "sns.set(style=\"whitegrid\")\n",
    "%matplotlib inline\n",
    "pd.options.display.float_format = '{:.3f}'.format\n",
    "\n",
    "\n",
    "# Suppress annoying harmless error.\n",
    "warnings.filterwarnings(\n",
    "    action=\"ignore\",\n",
    "    module=\"scipy\",\n",
    "    message=\"^internal gelsd\"\n",
    ")"
   ]
  },
  {
   "cell_type": "code",
   "execution_count": 2,
   "metadata": {},
   "outputs": [
    {
     "data": {
      "text/html": [
       "<div>\n",
       "<style scoped>\n",
       "    .dataframe tbody tr th:only-of-type {\n",
       "        vertical-align: middle;\n",
       "    }\n",
       "\n",
       "    .dataframe tbody tr th {\n",
       "        vertical-align: top;\n",
       "    }\n",
       "\n",
       "    .dataframe thead th {\n",
       "        text-align: right;\n",
       "    }\n",
       "</style>\n",
       "<table border=\"1\" class=\"dataframe\">\n",
       "  <thead>\n",
       "    <tr style=\"text-align: right;\">\n",
       "      <th></th>\n",
       "      <th>city</th>\n",
       "      <th>population</th>\n",
       "      <th>Robbery</th>\n",
       "      <th>Murder</th>\n",
       "      <th>Propertycrime</th>\n",
       "      <th>Violent</th>\n",
       "      <th>Burglary</th>\n",
       "      <th>Motor_Theft</th>\n",
       "      <th>Assault</th>\n",
       "    </tr>\n",
       "  </thead>\n",
       "  <tbody>\n",
       "    <tr>\n",
       "      <th>0</th>\n",
       "      <td>Adams Village</td>\n",
       "      <td>1861.000</td>\n",
       "      <td>0.000</td>\n",
       "      <td>0.000</td>\n",
       "      <td>12.000</td>\n",
       "      <td>0.000</td>\n",
       "      <td>2.000</td>\n",
       "      <td>0.000</td>\n",
       "      <td>0.000</td>\n",
       "    </tr>\n",
       "    <tr>\n",
       "      <th>1</th>\n",
       "      <td>Addison Town and Village</td>\n",
       "      <td>2577.000</td>\n",
       "      <td>0.000</td>\n",
       "      <td>0.000</td>\n",
       "      <td>24.000</td>\n",
       "      <td>3.000</td>\n",
       "      <td>3.000</td>\n",
       "      <td>1.000</td>\n",
       "      <td>3.000</td>\n",
       "    </tr>\n",
       "    <tr>\n",
       "      <th>2</th>\n",
       "      <td>Akron Village</td>\n",
       "      <td>2846.000</td>\n",
       "      <td>0.000</td>\n",
       "      <td>0.000</td>\n",
       "      <td>16.000</td>\n",
       "      <td>3.000</td>\n",
       "      <td>1.000</td>\n",
       "      <td>0.000</td>\n",
       "      <td>3.000</td>\n",
       "    </tr>\n",
       "    <tr>\n",
       "      <th>3</th>\n",
       "      <td>Albany</td>\n",
       "      <td>97956.000</td>\n",
       "      <td>227.000</td>\n",
       "      <td>8.000</td>\n",
       "      <td>4090.000</td>\n",
       "      <td>791.000</td>\n",
       "      <td>705.000</td>\n",
       "      <td>142.000</td>\n",
       "      <td>526.000</td>\n",
       "    </tr>\n",
       "    <tr>\n",
       "      <th>4</th>\n",
       "      <td>Albion Village</td>\n",
       "      <td>6388.000</td>\n",
       "      <td>4.000</td>\n",
       "      <td>0.000</td>\n",
       "      <td>223.000</td>\n",
       "      <td>23.000</td>\n",
       "      <td>53.000</td>\n",
       "      <td>5.000</td>\n",
       "      <td>16.000</td>\n",
       "    </tr>\n",
       "  </tbody>\n",
       "</table>\n",
       "</div>"
      ],
      "text/plain": [
       "                       city  population  Robbery  Murder  Propertycrime  \\\n",
       "0             Adams Village    1861.000    0.000   0.000         12.000   \n",
       "1  Addison Town and Village    2577.000    0.000   0.000         24.000   \n",
       "2             Akron Village    2846.000    0.000   0.000         16.000   \n",
       "3                    Albany   97956.000  227.000   8.000       4090.000   \n",
       "4            Albion Village    6388.000    4.000   0.000        223.000   \n",
       "\n",
       "   Violent  Burglary  Motor_Theft  Assault  \n",
       "0    0.000     2.000        0.000    0.000  \n",
       "1    3.000     3.000        1.000    3.000  \n",
       "2    3.000     1.000        0.000    3.000  \n",
       "3  791.000   705.000      142.000  526.000  \n",
       "4   23.000    53.000        5.000   16.000  "
      ]
     },
     "execution_count": 2,
     "metadata": {},
     "output_type": "execute_result"
    }
   ],
   "source": [
    "crime_feats = pd.read_csv('crime_model_2013.csv')\n",
    "crime_feats.head()"
   ]
  },
  {
   "cell_type": "code",
   "execution_count": 3,
   "metadata": {},
   "outputs": [
    {
     "name": "stdout",
     "output_type": "stream",
     "text": [
      "\n",
      "Coefficients: \n",
      " Intercept     -22.637\n",
      "population      0.010\n",
      "Robbery       -14.213\n",
      "Murder          3.989\n",
      "Violent         7.833\n",
      "Burglary        3.738\n",
      "Motor_Theft     4.287\n",
      "Assault        -7.304\n",
      "dtype: float64\n",
      "\n",
      "P-Values: \n",
      " Intercept     0.017\n",
      "population    0.000\n",
      "Robbery       0.000\n",
      "Murder        0.749\n",
      "Violent       0.030\n",
      "Burglary      0.000\n",
      "Motor_Theft   0.001\n",
      "Assault       0.057\n",
      "dtype: float64\n",
      "\n",
      "R-squared: \n",
      " 0.9334594976341679\n"
     ]
    }
   ],
   "source": [
    "# Instantiate and fit our model.\n",
    "regr = linear_model.LinearRegression()\n",
    "Y = crime_feats['Propertycrime'].values.reshape(-1, 1)\n",
    "#X = crime_feats[['population', 'Robbery', 'Murder', 'Violent', 'Burglary', 'Motor_Theft', 'Assault']]\n",
    "linear_formula = 'Y ~ population+Robbery+Murder+Violent+Burglary+Motor_Theft+Assault'\n",
    "\n",
    "# Fit the model to our data using the formula.\n",
    "lm = smf.ols(formula=linear_formula, data=crime_feats).fit()\n",
    "\n",
    "\n",
    "# Inspect the results.\n",
    "print('\\nCoefficients: \\n', lm.params)\n",
    "print('\\nP-Values: \\n', lm.pvalues)\n",
    "print('\\nR-squared: \\n', lm.rsquared)"
   ]
  },
  {
   "cell_type": "markdown",
   "metadata": {},
   "source": [
    "The p-value for murder is greater than .05, so I'm going to drop it, and re-fit the model"
   ]
  },
  {
   "cell_type": "code",
   "execution_count": 4,
   "metadata": {},
   "outputs": [
    {
     "data": {
      "text/html": [
       "<table class=\"simpletable\">\n",
       "<caption>OLS Regression Results</caption>\n",
       "<tr>\n",
       "  <th>Dep. Variable:</th>            <td>Y</td>        <th>  R-squared:         </th> <td>   0.933</td> \n",
       "</tr>\n",
       "<tr>\n",
       "  <th>Model:</th>                   <td>OLS</td>       <th>  Adj. R-squared:    </th> <td>   0.932</td> \n",
       "</tr>\n",
       "<tr>\n",
       "  <th>Method:</th>             <td>Least Squares</td>  <th>  F-statistic:       </th> <td>   787.7</td> \n",
       "</tr>\n",
       "<tr>\n",
       "  <th>Date:</th>             <td>Sat, 22 Dec 2018</td> <th>  Prob (F-statistic):</th> <td>6.50e-195</td>\n",
       "</tr>\n",
       "<tr>\n",
       "  <th>Time:</th>                 <td>10:27:54</td>     <th>  Log-Likelihood:    </th> <td> -2169.5</td> \n",
       "</tr>\n",
       "<tr>\n",
       "  <th>No. Observations:</th>      <td>   344</td>      <th>  AIC:               </th> <td>   4353.</td> \n",
       "</tr>\n",
       "<tr>\n",
       "  <th>Df Residuals:</th>          <td>   337</td>      <th>  BIC:               </th> <td>   4380.</td> \n",
       "</tr>\n",
       "<tr>\n",
       "  <th>Df Model:</th>              <td>     6</td>      <th>                     </th>     <td> </td>    \n",
       "</tr>\n",
       "<tr>\n",
       "  <th>Covariance Type:</th>      <td>nonrobust</td>    <th>                     </th>     <td> </td>    \n",
       "</tr>\n",
       "</table>\n",
       "<table class=\"simpletable\">\n",
       "<tr>\n",
       "       <td></td>          <th>coef</th>     <th>std err</th>      <th>t</th>      <th>P>|t|</th>  <th>[0.025</th>    <th>0.975]</th>  \n",
       "</tr>\n",
       "<tr>\n",
       "  <th>Intercept</th>   <td>  -22.5080</td> <td>    9.379</td> <td>   -2.400</td> <td> 0.017</td> <td>  -40.957</td> <td>   -4.059</td>\n",
       "</tr>\n",
       "<tr>\n",
       "  <th>population</th>  <td>    0.0097</td> <td>    0.001</td> <td>   16.026</td> <td> 0.000</td> <td>    0.009</td> <td>    0.011</td>\n",
       "</tr>\n",
       "<tr>\n",
       "  <th>Robbery</th>     <td>  -14.6963</td> <td>    3.213</td> <td>   -4.574</td> <td> 0.000</td> <td>  -21.017</td> <td>   -8.376</td>\n",
       "</tr>\n",
       "<tr>\n",
       "  <th>Violent</th>     <td>    8.4244</td> <td>    3.077</td> <td>    2.738</td> <td> 0.007</td> <td>    2.372</td> <td>   14.476</td>\n",
       "</tr>\n",
       "<tr>\n",
       "  <th>Burglary</th>    <td>    3.7315</td> <td>    0.178</td> <td>   20.926</td> <td> 0.000</td> <td>    3.381</td> <td>    4.082</td>\n",
       "</tr>\n",
       "<tr>\n",
       "  <th>Motor_Theft</th> <td>    4.2587</td> <td>    1.247</td> <td>    3.414</td> <td> 0.001</td> <td>    1.805</td> <td>    6.713</td>\n",
       "</tr>\n",
       "<tr>\n",
       "  <th>Assault</th>     <td>   -7.9168</td> <td>    3.303</td> <td>   -2.397</td> <td> 0.017</td> <td>  -14.413</td> <td>   -1.421</td>\n",
       "</tr>\n",
       "</table>\n",
       "<table class=\"simpletable\">\n",
       "<tr>\n",
       "  <th>Omnibus:</th>       <td>78.869</td> <th>  Durbin-Watson:     </th> <td>   2.039</td> \n",
       "</tr>\n",
       "<tr>\n",
       "  <th>Prob(Omnibus):</th> <td> 0.000</td> <th>  Jarque-Bera (JB):  </th> <td> 999.166</td> \n",
       "</tr>\n",
       "<tr>\n",
       "  <th>Skew:</th>          <td> 0.513</td> <th>  Prob(JB):          </th> <td>1.08e-217</td>\n",
       "</tr>\n",
       "<tr>\n",
       "  <th>Kurtosis:</th>      <td>11.286</td> <th>  Cond. No.          </th> <td>3.21e+04</td> \n",
       "</tr>\n",
       "</table><br/><br/>Warnings:<br/>[1] Standard Errors assume that the covariance matrix of the errors is correctly specified.<br/>[2] The condition number is large, 3.21e+04. This might indicate that there are<br/>strong multicollinearity or other numerical problems."
      ],
      "text/plain": [
       "<class 'statsmodels.iolib.summary.Summary'>\n",
       "\"\"\"\n",
       "                            OLS Regression Results                            \n",
       "==============================================================================\n",
       "Dep. Variable:                      Y   R-squared:                       0.933\n",
       "Model:                            OLS   Adj. R-squared:                  0.932\n",
       "Method:                 Least Squares   F-statistic:                     787.7\n",
       "Date:                Sat, 22 Dec 2018   Prob (F-statistic):          6.50e-195\n",
       "Time:                        10:27:54   Log-Likelihood:                -2169.5\n",
       "No. Observations:                 344   AIC:                             4353.\n",
       "Df Residuals:                     337   BIC:                             4380.\n",
       "Df Model:                           6                                         \n",
       "Covariance Type:            nonrobust                                         \n",
       "===============================================================================\n",
       "                  coef    std err          t      P>|t|      [0.025      0.975]\n",
       "-------------------------------------------------------------------------------\n",
       "Intercept     -22.5080      9.379     -2.400      0.017     -40.957      -4.059\n",
       "population      0.0097      0.001     16.026      0.000       0.009       0.011\n",
       "Robbery       -14.6963      3.213     -4.574      0.000     -21.017      -8.376\n",
       "Violent         8.4244      3.077      2.738      0.007       2.372      14.476\n",
       "Burglary        3.7315      0.178     20.926      0.000       3.381       4.082\n",
       "Motor_Theft     4.2587      1.247      3.414      0.001       1.805       6.713\n",
       "Assault        -7.9168      3.303     -2.397      0.017     -14.413      -1.421\n",
       "==============================================================================\n",
       "Omnibus:                       78.869   Durbin-Watson:                   2.039\n",
       "Prob(Omnibus):                  0.000   Jarque-Bera (JB):              999.166\n",
       "Skew:                           0.513   Prob(JB):                    1.08e-217\n",
       "Kurtosis:                      11.286   Cond. No.                     3.21e+04\n",
       "==============================================================================\n",
       "\n",
       "Warnings:\n",
       "[1] Standard Errors assume that the covariance matrix of the errors is correctly specified.\n",
       "[2] The condition number is large, 3.21e+04. This might indicate that there are\n",
       "strong multicollinearity or other numerical problems.\n",
       "\"\"\""
      ]
     },
     "execution_count": 4,
     "metadata": {},
     "output_type": "execute_result"
    }
   ],
   "source": [
    "linear_formula = 'Y ~ population+Robbery+Violent+Burglary+Motor_Theft+Assault'\n",
    "\n",
    "# Fit the model to our data using the formula.\n",
    "lm = smf.ols(formula=linear_formula, data=crime_feats).fit()\n",
    "\n",
    "lm.summary()"
   ]
  },
  {
   "cell_type": "code",
   "execution_count": 5,
   "metadata": {},
   "outputs": [
    {
     "data": {
      "image/png": "[encoded data removed]",
      "text/plain": [
       "<Figure size 432x288 with 2 Axes>"
      ]
     },
     "metadata": {
      "needs_background": "light"
     },
     "output_type": "display_data"
    }
   ],
   "source": [
    "sns.heatmap(crime_feats.corr(), annot=True)\n",
    "plt.show()"
   ]
  },
  {
   "cell_type": "markdown",
   "metadata": {},
   "source": [
    "I'll remove assult because it's highly correlated to violent crimes, then robbery, and lastly motor vehicle theft."
   ]
  },
  {
   "cell_type": "code",
   "execution_count": 9,
   "metadata": {},
   "outputs": [
    {
     "data": {
      "text/html": [
       "<table class=\"simpletable\">\n",
       "<caption>OLS Regression Results</caption>\n",
       "<tr>\n",
       "  <th>Dep. Variable:</th>            <td>Y</td>        <th>  R-squared:         </th> <td>   0.932</td> \n",
       "</tr>\n",
       "<tr>\n",
       "  <th>Model:</th>                   <td>OLS</td>       <th>  Adj. R-squared:    </th> <td>   0.931</td> \n",
       "</tr>\n",
       "<tr>\n",
       "  <th>Method:</th>             <td>Least Squares</td>  <th>  F-statistic:       </th> <td>   931.0</td> \n",
       "</tr>\n",
       "<tr>\n",
       "  <th>Date:</th>             <td>Sat, 22 Dec 2018</td> <th>  Prob (F-statistic):</th> <td>3.49e-195</td>\n",
       "</tr>\n",
       "<tr>\n",
       "  <th>Time:</th>                 <td>10:28:57</td>     <th>  Log-Likelihood:    </th> <td> -2172.4</td> \n",
       "</tr>\n",
       "<tr>\n",
       "  <th>No. Observations:</th>      <td>   344</td>      <th>  AIC:               </th> <td>   4357.</td> \n",
       "</tr>\n",
       "<tr>\n",
       "  <th>Df Residuals:</th>          <td>   338</td>      <th>  BIC:               </th> <td>   4380.</td> \n",
       "</tr>\n",
       "<tr>\n",
       "  <th>Df Model:</th>              <td>     5</td>      <th>                     </th>     <td> </td>    \n",
       "</tr>\n",
       "<tr>\n",
       "  <th>Covariance Type:</th>      <td>nonrobust</td>    <th>                     </th>     <td> </td>    \n",
       "</tr>\n",
       "</table>\n",
       "<table class=\"simpletable\">\n",
       "<tr>\n",
       "       <td></td>          <th>coef</th>     <th>std err</th>      <th>t</th>      <th>P>|t|</th>  <th>[0.025</th>    <th>0.975]</th>  \n",
       "</tr>\n",
       "<tr>\n",
       "  <th>Intercept</th>   <td>  -21.9763</td> <td>    9.442</td> <td>   -2.327</td> <td> 0.021</td> <td>  -40.549</td> <td>   -3.403</td>\n",
       "</tr>\n",
       "<tr>\n",
       "  <th>population</th>  <td>    0.0099</td> <td>    0.001</td> <td>   16.223</td> <td> 0.000</td> <td>    0.009</td> <td>    0.011</td>\n",
       "</tr>\n",
       "<tr>\n",
       "  <th>Robbery</th>     <td>   -7.7396</td> <td>    1.389</td> <td>   -5.572</td> <td> 0.000</td> <td>  -10.472</td> <td>   -5.007</td>\n",
       "</tr>\n",
       "<tr>\n",
       "  <th>Violent</th>     <td>    1.1375</td> <td>    0.479</td> <td>    2.373</td> <td> 0.018</td> <td>    0.195</td> <td>    2.080</td>\n",
       "</tr>\n",
       "<tr>\n",
       "  <th>Burglary</th>    <td>    3.8814</td> <td>    0.168</td> <td>   23.080</td> <td> 0.000</td> <td>    3.551</td> <td>    4.212</td>\n",
       "</tr>\n",
       "<tr>\n",
       "  <th>Motor_Theft</th> <td>    3.7961</td> <td>    1.241</td> <td>    3.059</td> <td> 0.002</td> <td>    1.355</td> <td>    6.237</td>\n",
       "</tr>\n",
       "</table>\n",
       "<table class=\"simpletable\">\n",
       "<tr>\n",
       "  <th>Omnibus:</th>       <td>71.860</td> <th>  Durbin-Watson:     </th> <td>   1.999</td> \n",
       "</tr>\n",
       "<tr>\n",
       "  <th>Prob(Omnibus):</th> <td> 0.000</td> <th>  Jarque-Bera (JB):  </th> <td> 754.849</td> \n",
       "</tr>\n",
       "<tr>\n",
       "  <th>Skew:</th>          <td> 0.484</td> <th>  Prob(JB):          </th> <td>1.22e-164</td>\n",
       "</tr>\n",
       "<tr>\n",
       "  <th>Kurtosis:</th>      <td>10.192</td> <th>  Cond. No.          </th> <td>3.21e+04</td> \n",
       "</tr>\n",
       "</table><br/><br/>Warnings:<br/>[1] Standard Errors assume that the covariance matrix of the errors is correctly specified.<br/>[2] The condition number is large, 3.21e+04. This might indicate that there are<br/>strong multicollinearity or other numerical problems."
      ],
      "text/plain": [
       "<class 'statsmodels.iolib.summary.Summary'>\n",
       "\"\"\"\n",
       "                            OLS Regression Results                            \n",
       "==============================================================================\n",
       "Dep. Variable:                      Y   R-squared:                       0.932\n",
       "Model:                            OLS   Adj. R-squared:                  0.931\n",
       "Method:                 Least Squares   F-statistic:                     931.0\n",
       "Date:                Sat, 22 Dec 2018   Prob (F-statistic):          3.49e-195\n",
       "Time:                        10:28:57   Log-Likelihood:                -2172.4\n",
       "No. Observations:                 344   AIC:                             4357.\n",
       "Df Residuals:                     338   BIC:                             4380.\n",
       "Df Model:                           5                                         \n",
       "Covariance Type:            nonrobust                                         \n",
       "===============================================================================\n",
       "                  coef    std err          t      P>|t|      [0.025      0.975]\n",
       "-------------------------------------------------------------------------------\n",
       "Intercept     -21.9763      9.442     -2.327      0.021     -40.549      -3.403\n",
       "population      0.0099      0.001     16.223      0.000       0.009       0.011\n",
       "Robbery        -7.7396      1.389     -5.572      0.000     -10.472      -5.007\n",
       "Violent         1.1375      0.479      2.373      0.018       0.195       2.080\n",
       "Burglary        3.8814      0.168     23.080      0.000       3.551       4.212\n",
       "Motor_Theft     3.7961      1.241      3.059      0.002       1.355       6.237\n",
       "==============================================================================\n",
       "Omnibus:                       71.860   Durbin-Watson:                   1.999\n",
       "Prob(Omnibus):                  0.000   Jarque-Bera (JB):              754.849\n",
       "Skew:                           0.484   Prob(JB):                    1.22e-164\n",
       "Kurtosis:                      10.192   Cond. No.                     3.21e+04\n",
       "==============================================================================\n",
       "\n",
       "Warnings:\n",
       "[1] Standard Errors assume that the covariance matrix of the errors is correctly specified.\n",
       "[2] The condition number is large, 3.21e+04. This might indicate that there are\n",
       "strong multicollinearity or other numerical problems.\n",
       "\"\"\""
      ]
     },
     "execution_count": 9,
     "metadata": {},
     "output_type": "execute_result"
    }
   ],
   "source": [
    "linear_formula = 'Y ~ population+Robbery+Violent+Burglary+Motor_Theft'\n",
    "\n",
    "# Fit the model to our data using the formula.\n",
    "lm = smf.ols(formula=linear_formula, data=crime_feats).fit()\n",
    "\n",
    "lm.summary()"
   ]
  },
  {
   "cell_type": "markdown",
   "metadata": {},
   "source": [
    "### Build Model\n",
    "\n",
    "I used Stats Models to look at the parameters, but I will use Sklearn's Grid Search to actually train and cross validate the model."
   ]
  },
  {
   "cell_type": "code",
   "execution_count": 6,
   "metadata": {},
   "outputs": [
    {
     "name": "stderr",
     "output_type": "stream",
     "text": [
      "/Users/research/anaconda3/lib/python3.6/site-packages/sklearn/cross_validation.py:41: DeprecationWarning: This module was deprecated in version 0.18 in favor of the model_selection module into which all the refactored classes and functions are moved. Also note that the interface of the new CV iterators are different from that of this module. This module will be removed in 0.20.\n",
      "  \"This module will be removed in 0.20.\", DeprecationWarning)\n",
      "/Users/research/anaconda3/lib/python3.6/site-packages/sklearn/grid_search.py:42: DeprecationWarning: This module was deprecated in version 0.18 in favor of the model_selection module into which all the refactored classes and functions are moved. This module will be removed in 0.20.\n",
      "  DeprecationWarning)\n"
     ]
    },
    {
     "data": {
      "text/plain": [
       "GridSearchCV(cv=3, error_score='raise',\n",
       "       estimator=LinearRegression(copy_X=True, fit_intercept=True, n_jobs=1, normalize=False),\n",
       "       fit_params={}, iid=True, n_jobs=1,\n",
       "       param_grid={'normalize': [True, False]}, pre_dispatch='2*n_jobs',\n",
       "       refit=True, scoring='r2', verbose=0)"
      ]
     },
     "execution_count": 6,
     "metadata": {},
     "output_type": "execute_result"
    }
   ],
   "source": [
    "#Sklearn\n",
    "\n",
    "from sklearn.grid_search import GridSearchCV\n",
    "\n",
    "# Instantiate and fit our model.\n",
    "#regr = linear_model.LinearRegression()\n",
    "\n",
    "parameters = {'normalize':[True,False]}\n",
    "\n",
    "#Note for regression problems have to do different scoreing methods:\n",
    "grid = GridSearchCV(regr, parameters, scoring='r2', cv=3, verbose=0)\n",
    "\n",
    "\n",
    "#population, violent_crime, robbery, burglary, motor_theft, aggravated_assault\n",
    "Y = crime_feats['Propertycrime'].values.reshape(-1, 1)\n",
    "X = crime_feats[['population', 'Robbery', 'Violent', 'Burglary', 'Motor_Theft']]\n",
    "\n",
    "#Fit the Data\n",
    "grid.fit(X, Y)"
   ]
  },
  {
   "cell_type": "code",
   "execution_count": 7,
   "metadata": {},
   "outputs": [
    {
     "name": "stdout",
     "output_type": "stream",
     "text": [
      "Model r2: \n",
      " 0.9323042129434027\n"
     ]
    }
   ],
   "source": [
    "#Get the R2 score. \n",
    "print(\"Model r2: \\n\", grid.score(X, Y))"
   ]
  },
  {
   "cell_type": "markdown",
   "metadata": {},
   "source": [
    "### Now I'll test the model on new data (same year, different state).\n",
    "\n",
    "Note: This dataset has already been cleaned and is ready for a model to be run"
   ]
  },
  {
   "cell_type": "code",
   "execution_count": 8,
   "metadata": {},
   "outputs": [
    {
     "data": {
      "text/html": [
       "<div>\n",
       "<style scoped>\n",
       "    .dataframe tbody tr th:only-of-type {\n",
       "        vertical-align: middle;\n",
       "    }\n",
       "\n",
       "    .dataframe tbody tr th {\n",
       "        vertical-align: top;\n",
       "    }\n",
       "\n",
       "    .dataframe thead th {\n",
       "        text-align: right;\n",
       "    }\n",
       "</style>\n",
       "<table border=\"1\" class=\"dataframe\">\n",
       "  <thead>\n",
       "    <tr style=\"text-align: right;\">\n",
       "      <th></th>\n",
       "      <th>city</th>\n",
       "      <th>property_crime</th>\n",
       "      <th>Population</th>\n",
       "      <th>Robbery</th>\n",
       "      <th>Murder</th>\n",
       "      <th>Violent</th>\n",
       "      <th>Burglary</th>\n",
       "      <th>Motor_Theft</th>\n",
       "      <th>Assult</th>\n",
       "    </tr>\n",
       "  </thead>\n",
       "  <tbody>\n",
       "    <tr>\n",
       "      <th>0</th>\n",
       "      <td>Addison</td>\n",
       "      <td>640.000</td>\n",
       "      <td>37378.000</td>\n",
       "      <td>5.000</td>\n",
       "      <td>1.000</td>\n",
       "      <td>40.000</td>\n",
       "      <td>97.000</td>\n",
       "      <td>16.000</td>\n",
       "      <td>26.000</td>\n",
       "    </tr>\n",
       "    <tr>\n",
       "      <th>1</th>\n",
       "      <td>Albany</td>\n",
       "      <td>5.000</td>\n",
       "      <td>878.000</td>\n",
       "      <td>0.000</td>\n",
       "      <td>0.000</td>\n",
       "      <td>0.000</td>\n",
       "      <td>0.000</td>\n",
       "      <td>0.000</td>\n",
       "      <td>0.000</td>\n",
       "    </tr>\n",
       "    <tr>\n",
       "      <th>2</th>\n",
       "      <td>Albers</td>\n",
       "      <td>0.000</td>\n",
       "      <td>1187.000</td>\n",
       "      <td>0.000</td>\n",
       "      <td>0.000</td>\n",
       "      <td>0.000</td>\n",
       "      <td>0.000</td>\n",
       "      <td>0.000</td>\n",
       "      <td>0.000</td>\n",
       "    </tr>\n",
       "    <tr>\n",
       "      <th>3</th>\n",
       "      <td>Albion</td>\n",
       "      <td>33.000</td>\n",
       "      <td>1975.000</td>\n",
       "      <td>0.000</td>\n",
       "      <td>0.000</td>\n",
       "      <td>0.000</td>\n",
       "      <td>8.000</td>\n",
       "      <td>3.000</td>\n",
       "      <td>0.000</td>\n",
       "    </tr>\n",
       "    <tr>\n",
       "      <th>4</th>\n",
       "      <td>Algonquin</td>\n",
       "      <td>519.000</td>\n",
       "      <td>29980.000</td>\n",
       "      <td>2.000</td>\n",
       "      <td>0.000</td>\n",
       "      <td>18.000</td>\n",
       "      <td>33.000</td>\n",
       "      <td>11.000</td>\n",
       "      <td>13.000</td>\n",
       "    </tr>\n",
       "  </tbody>\n",
       "</table>\n",
       "</div>"
      ],
      "text/plain": [
       "        city  property_crime  Population  Robbery  Murder  Violent  Burglary  \\\n",
       "0    Addison         640.000   37378.000    5.000   1.000   40.000    97.000   \n",
       "1     Albany           5.000     878.000    0.000   0.000    0.000     0.000   \n",
       "2     Albers           0.000    1187.000    0.000   0.000    0.000     0.000   \n",
       "3     Albion          33.000    1975.000    0.000   0.000    0.000     8.000   \n",
       "4  Algonquin         519.000   29980.000    2.000   0.000   18.000    33.000   \n",
       "\n",
       "   Motor_Theft  Assult  \n",
       "0       16.000  26.000  \n",
       "1        0.000   0.000  \n",
       "2        0.000   0.000  \n",
       "3        3.000   0.000  \n",
       "4       11.000  13.000  "
      ]
     },
     "execution_count": 8,
     "metadata": {},
     "output_type": "execute_result"
    }
   ],
   "source": [
    "test_data = pd.read_csv('ill_test.csv')\n",
    "test_data.head()"
   ]
  },
  {
   "cell_type": "code",
   "execution_count": 10,
   "metadata": {},
   "outputs": [
    {
     "name": "stdout",
     "output_type": "stream",
     "text": [
      "<class 'pandas.core.frame.DataFrame'>\n",
      "RangeIndex: 501 entries, 0 to 500\n",
      "Data columns (total 9 columns):\n",
      "city              501 non-null object\n",
      "property_crime    501 non-null float64\n",
      "Population        501 non-null float64\n",
      "Robbery           501 non-null float64\n",
      "Murder            501 non-null float64\n",
      "Violent           501 non-null float64\n",
      "Burglary          501 non-null float64\n",
      "Motor_Theft       501 non-null float64\n",
      "Assult            501 non-null float64\n",
      "dtypes: float64(8), object(1)\n",
      "memory usage: 35.3+ KB\n"
     ]
    }
   ],
   "source": [
    "test_data.info()"
   ]
  },
  {
   "cell_type": "code",
   "execution_count": 13,
   "metadata": {},
   "outputs": [
    {
     "data": {
      "text/plain": [
       "GridSearchCV(cv=3, error_score='raise',\n",
       "       estimator=LinearRegression(copy_X=True, fit_intercept=True, n_jobs=1, normalize=False),\n",
       "       fit_params={}, iid=True, n_jobs=1,\n",
       "       param_grid={'normalize': [True, False]}, pre_dispatch='2*n_jobs',\n",
       "       refit=True, scoring='r2', verbose=0)"
      ]
     },
     "execution_count": 13,
     "metadata": {},
     "output_type": "execute_result"
    }
   ],
   "source": [
    "# Putting the new data through the model\n",
    "Y2 = test_data['property_crime'].values.reshape(-1, 1)\n",
    "X2 = test_data[['Population','Violent', 'Robbery','Burglary',\n",
    "              'Motor_Theft']]\n",
    "\n",
    "#Fit the Data\n",
    "grid.fit(X2, Y2)"
   ]
  },
  {
   "cell_type": "code",
   "execution_count": 14,
   "metadata": {},
   "outputs": [
    {
     "name": "stdout",
     "output_type": "stream",
     "text": [
      "Model r2: \n",
      " 0.9314558425479208\n"
     ]
    }
   ],
   "source": [
    "#Get the R2 score of the new data\n",
    "print(\"Model r2: \\n\", grid.score(X2, Y2))"
   ]
  },
  {
   "cell_type": "markdown",
   "metadata": {},
   "source": [
    "This shows the model works and explains variance within the new data well without overfitting."
   ]
  },
  {
   "cell_type": "code",
   "execution_count": null,
   "metadata": {},
   "outputs": [],
   "source": []
  }
 ],
 "metadata": {
  "kernelspec": {
   "display_name": "Python 3",
   "language": "python",
   "name": "python3"
  },
  "language_info": {
   "codemirror_mode": {
    "name": "ipython",
    "version": 3
   },
   "file_extension": ".py",
   "mimetype": "text/x-python",
   "name": "python",
   "nbconvert_exporter": "python",
   "pygments_lexer": "ipython3",
   "version": "3.6.6"
  }
 },
 "nbformat": 4,
 "nbformat_minor": 2
}
