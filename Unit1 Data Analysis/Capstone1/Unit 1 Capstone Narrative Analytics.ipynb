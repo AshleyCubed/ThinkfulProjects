{
 "cells": [
  {
   "cell_type": "markdown",
   "metadata": {},
   "source": [
    "# Unit 1 Capstone\n",
    "<div style=\"text-align: right\"> AE Simpson </div>\n",
    "\n",
    "## The main component of this capstone is a research proposal. Using the data set you selected, propose and outline an experiment plan. The plan should consist of three key components:\n",
    "> - Analysis that highlights your experimental hypothesis.\n",
    "> - A rollout plan showing how you would implement and rollout the experiment.\n",
    "> - An evaluation plan showing what constitutes success in this experiment.\n",
    "___\n",
    "\n",
    "## The Data\n",
    "> The City of Chicago provides a considerable amount of open data for its citizens to explore.\n",
    "As a commuter, I've chosen to focus on data for <b>the Chicago Transit Authority (CTA) public train system (also known as the ‘L’ trains).</b> \n",
    "\n",
    "> This dataset lists monthly station entry averages, by day type (Weekday, Saturday or Sunday/Holiday), as well as monthly totals, beginning in 2001 up to June of 2018. Direct source (https://data.cityofchicago.org/Transportation/CTA-Ridership-L-Station-Entries-Monthly-Day-Type-A/t2rn-p8d7).\n",
    "Since this dataset is focused on individual stops, <a href=\"https://en.wikipedia.org/wiki/List_of_Chicago_%22L%22_stations\"\n",
    "    title=\"With a Title\">here is a link</a> showing the 8 lines, a breakdown of which are the most popular lines, and which lines pass through each stop (since some stops have multiple lines). Below is an SVG image of the entire CTA 'L' line routes. \n",
    "    \n",
    "<img src=\"https://upload.wikimedia.org/wikipedia/commons/8/88/Chicago_L_diagram_sb.svg\">\n",
    "    \n",
    "___"
   ]
  },
  {
   "cell_type": "code",
   "execution_count": 1,
   "metadata": {},
   "outputs": [
    {
     "data": {
      "text/html": [
       "<script>\n",
       "code_show=true; \n",
       "function code_toggle() {\n",
       " if (code_show){\n",
       " $('div.input').hide();\n",
       " } else {\n",
       " $('div.input').show();\n",
       " }\n",
       " code_show = !code_show\n",
       "} \n",
       "$( document ).ready(code_toggle);\n",
       "</script>\n",
       "<i>The raw code for this IPython notebook is by default hidden for easier reading.\n",
       "To toggle on/off the raw code, click <a href=\"javascript:code_toggle()\">here</a></i>."
      ],
      "text/plain": [
       "<IPython.core.display.HTML object>"
      ]
     },
     "execution_count": 1,
     "metadata": {},
     "output_type": "execute_result"
    }
   ],
   "source": [
    "# Make code toggle-able for easier review.\n",
    "from IPython.display import HTML\n",
    "\n",
    "HTML('''<script>\n",
    "code_show=true; \n",
    "function code_toggle() {\n",
    " if (code_show){\n",
    " $('div.input').hide();\n",
    " } else {\n",
    " $('div.input').show();\n",
    " }\n",
    " code_show = !code_show\n",
    "} \n",
    "$( document ).ready(code_toggle);\n",
    "</script>\n",
    "<i>The raw code for this IPython notebook is by default hidden for easier reading.\n",
    "To toggle on/off the raw code, click <a href=\"javascript:code_toggle()\">here</a></i>.''')"
   ]
  },
  {
   "cell_type": "markdown",
   "metadata": {},
   "source": [
    "## Data Analysis"
   ]
  },
  {
   "cell_type": "code",
   "execution_count": 2,
   "metadata": {},
   "outputs": [],
   "source": [
    "import numpy as np\n",
    "import pandas as pd\n",
    "import matplotlib.pyplot as plt\n",
    "import seaborn as sns\n",
    "import re\n",
    "%matplotlib inline\n",
    "# %matplotlib notebook\n",
    "import scipy.stats"
   ]
  },
  {
   "cell_type": "code",
   "execution_count": 3,
   "metadata": {},
   "outputs": [
    {
     "data": {
      "text/html": [
       "<div>\n",
       "<style scoped>\n",
       "    .dataframe tbody tr th:only-of-type {\n",
       "        vertical-align: middle;\n",
       "    }\n",
       "\n",
       "    .dataframe tbody tr th {\n",
       "        vertical-align: top;\n",
       "    }\n",
       "\n",
       "    .dataframe thead th {\n",
       "        text-align: right;\n",
       "    }\n",
       "</style>\n",
       "<table border=\"1\" class=\"dataframe\">\n",
       "  <thead>\n",
       "    <tr style=\"text-align: right;\">\n",
       "      <th></th>\n",
       "      <th>station_id</th>\n",
       "      <th>stationame</th>\n",
       "      <th>month_beginning</th>\n",
       "      <th>avg_weekday_rides</th>\n",
       "      <th>avg_saturday_rides</th>\n",
       "      <th>avg_sunday-holiday_rides</th>\n",
       "      <th>monthtotal</th>\n",
       "    </tr>\n",
       "  </thead>\n",
       "  <tbody>\n",
       "    <tr>\n",
       "      <th>0</th>\n",
       "      <td>40900</td>\n",
       "      <td>Howard</td>\n",
       "      <td>01/01/2001</td>\n",
       "      <td>6233.9</td>\n",
       "      <td>3814.5</td>\n",
       "      <td>2408.6</td>\n",
       "      <td>164447</td>\n",
       "    </tr>\n",
       "    <tr>\n",
       "      <th>1</th>\n",
       "      <td>41190</td>\n",
       "      <td>Jarvis</td>\n",
       "      <td>01/01/2001</td>\n",
       "      <td>1489.1</td>\n",
       "      <td>1054.0</td>\n",
       "      <td>718.0</td>\n",
       "      <td>40567</td>\n",
       "    </tr>\n",
       "  </tbody>\n",
       "</table>\n",
       "</div>"
      ],
      "text/plain": [
       "   station_id stationame month_beginning  avg_weekday_rides  \\\n",
       "0       40900     Howard      01/01/2001             6233.9   \n",
       "1       41190     Jarvis      01/01/2001             1489.1   \n",
       "\n",
       "   avg_saturday_rides  avg_sunday-holiday_rides  monthtotal  \n",
       "0              3814.5                    2408.6      164447  \n",
       "1              1054.0                     718.0       40567  "
      ]
     },
     "execution_count": 3,
     "metadata": {},
     "output_type": "execute_result"
    }
   ],
   "source": [
    "# See what the data looks like\n",
    "df = pd.read_csv('CTA_-_Ridership_-__L__Station_Entries_-_Monthly_Day-Type_Averages___Totals.csv')\n",
    "df.head(2)"
   ]
  },
  {
   "cell_type": "markdown",
   "metadata": {},
   "source": [
    "#### Now that we can see what the data looks like, below I'm going to get information on the data like types and retrieve statistical data like averages."
   ]
  },
  {
   "cell_type": "code",
   "execution_count": 4,
   "metadata": {},
   "outputs": [
    {
     "name": "stdout",
     "output_type": "stream",
     "text": [
      "Index(['station_id', 'stationame', 'month_beginning', 'avg_weekday_rides',\n",
      "       'avg_saturday_rides', 'avg_sunday-holiday_rides', 'monthtotal'],\n",
      "      dtype='object')\n",
      "(29892, 7)\n",
      "station_id                    int64\n",
      "stationame                   object\n",
      "month_beginning              object\n",
      "avg_weekday_rides           float64\n",
      "avg_saturday_rides          float64\n",
      "avg_sunday-holiday_rides    float64\n",
      "monthtotal                    int64\n",
      "dtype: object\n"
     ]
    },
    {
     "data": {
      "text/html": [
       "<div>\n",
       "<style scoped>\n",
       "    .dataframe tbody tr th:only-of-type {\n",
       "        vertical-align: middle;\n",
       "    }\n",
       "\n",
       "    .dataframe tbody tr th {\n",
       "        vertical-align: top;\n",
       "    }\n",
       "\n",
       "    .dataframe thead th {\n",
       "        text-align: right;\n",
       "    }\n",
       "</style>\n",
       "<table border=\"1\" class=\"dataframe\">\n",
       "  <thead>\n",
       "    <tr style=\"text-align: right;\">\n",
       "      <th></th>\n",
       "      <th>station_id</th>\n",
       "      <th>avg_weekday_rides</th>\n",
       "      <th>avg_saturday_rides</th>\n",
       "      <th>avg_sunday-holiday_rides</th>\n",
       "      <th>monthtotal</th>\n",
       "    </tr>\n",
       "  </thead>\n",
       "  <tbody>\n",
       "    <tr>\n",
       "      <th>count</th>\n",
       "      <td>29892.000000</td>\n",
       "      <td>29892.000000</td>\n",
       "      <td>29892.000000</td>\n",
       "      <td>29892.000000</td>\n",
       "      <td>29892.000000</td>\n",
       "    </tr>\n",
       "    <tr>\n",
       "      <th>mean</th>\n",
       "      <td>40761.534190</td>\n",
       "      <td>3899.328964</td>\n",
       "      <td>2269.072598</td>\n",
       "      <td>1648.830366</td>\n",
       "      <td>100694.130670</td>\n",
       "    </tr>\n",
       "    <tr>\n",
       "      <th>std</th>\n",
       "      <td>445.912457</td>\n",
       "      <td>3336.978522</td>\n",
       "      <td>2292.767695</td>\n",
       "      <td>1790.051933</td>\n",
       "      <td>87401.214216</td>\n",
       "    </tr>\n",
       "    <tr>\n",
       "      <th>min</th>\n",
       "      <td>40010.000000</td>\n",
       "      <td>0.000000</td>\n",
       "      <td>0.000000</td>\n",
       "      <td>0.000000</td>\n",
       "      <td>0.000000</td>\n",
       "    </tr>\n",
       "    <tr>\n",
       "      <th>25%</th>\n",
       "      <td>40370.000000</td>\n",
       "      <td>1466.950000</td>\n",
       "      <td>816.200000</td>\n",
       "      <td>555.800000</td>\n",
       "      <td>37899.500000</td>\n",
       "    </tr>\n",
       "    <tr>\n",
       "      <th>50%</th>\n",
       "      <td>40750.000000</td>\n",
       "      <td>2958.100000</td>\n",
       "      <td>1475.400000</td>\n",
       "      <td>1021.900000</td>\n",
       "      <td>74995.000000</td>\n",
       "    </tr>\n",
       "    <tr>\n",
       "      <th>75%</th>\n",
       "      <td>41150.000000</td>\n",
       "      <td>5115.825000</td>\n",
       "      <td>2914.800000</td>\n",
       "      <td>2052.325000</td>\n",
       "      <td>132291.750000</td>\n",
       "    </tr>\n",
       "    <tr>\n",
       "      <th>max</th>\n",
       "      <td>41700.000000</td>\n",
       "      <td>24041.400000</td>\n",
       "      <td>19171.300000</td>\n",
       "      <td>15982.000000</td>\n",
       "      <td>670496.000000</td>\n",
       "    </tr>\n",
       "  </tbody>\n",
       "</table>\n",
       "</div>"
      ],
      "text/plain": [
       "         station_id  avg_weekday_rides  avg_saturday_rides  \\\n",
       "count  29892.000000       29892.000000        29892.000000   \n",
       "mean   40761.534190        3899.328964         2269.072598   \n",
       "std      445.912457        3336.978522         2292.767695   \n",
       "min    40010.000000           0.000000            0.000000   \n",
       "25%    40370.000000        1466.950000          816.200000   \n",
       "50%    40750.000000        2958.100000         1475.400000   \n",
       "75%    41150.000000        5115.825000         2914.800000   \n",
       "max    41700.000000       24041.400000        19171.300000   \n",
       "\n",
       "       avg_sunday-holiday_rides     monthtotal  \n",
       "count              29892.000000   29892.000000  \n",
       "mean                1648.830366  100694.130670  \n",
       "std                 1790.051933   87401.214216  \n",
       "min                    0.000000       0.000000  \n",
       "25%                  555.800000   37899.500000  \n",
       "50%                 1021.900000   74995.000000  \n",
       "75%                 2052.325000  132291.750000  \n",
       "max                15982.000000  670496.000000  "
      ]
     },
     "execution_count": 4,
     "metadata": {},
     "output_type": "execute_result"
    }
   ],
   "source": [
    "print(df.columns)\n",
    "print(df.shape)\n",
    "print(df.dtypes)\n",
    "df.describe()"
   ]
  },
  {
   "cell_type": "code",
   "execution_count": 5,
   "metadata": {},
   "outputs": [
    {
     "data": {
      "text/plain": [
       "148"
      ]
     },
     "execution_count": 5,
     "metadata": {},
     "output_type": "execute_result"
    }
   ],
   "source": [
    "df['stationame'].nunique()"
   ]
  },
  {
   "cell_type": "code",
   "execution_count": 6,
   "metadata": {},
   "outputs": [
    {
     "data": {
      "text/html": [
       "<div>\n",
       "<style scoped>\n",
       "    .dataframe tbody tr th:only-of-type {\n",
       "        vertical-align: middle;\n",
       "    }\n",
       "\n",
       "    .dataframe tbody tr th {\n",
       "        vertical-align: top;\n",
       "    }\n",
       "\n",
       "    .dataframe thead th {\n",
       "        text-align: right;\n",
       "    }\n",
       "</style>\n",
       "<table border=\"1\" class=\"dataframe\">\n",
       "  <thead>\n",
       "    <tr style=\"text-align: right;\">\n",
       "      <th></th>\n",
       "      <th>station_id</th>\n",
       "      <th>stationame</th>\n",
       "      <th>month_beginning</th>\n",
       "      <th>avg_weekday_rides</th>\n",
       "      <th>avg_saturday_rides</th>\n",
       "      <th>avg_sunday-holiday_rides</th>\n",
       "      <th>monthtotal</th>\n",
       "      <th>date_time</th>\n",
       "      <th>year</th>\n",
       "    </tr>\n",
       "  </thead>\n",
       "  <tbody>\n",
       "    <tr>\n",
       "      <th>0</th>\n",
       "      <td>40900</td>\n",
       "      <td>Howard</td>\n",
       "      <td>01/01/2001</td>\n",
       "      <td>6233.9</td>\n",
       "      <td>3814.5</td>\n",
       "      <td>2408.6</td>\n",
       "      <td>164447</td>\n",
       "      <td>2001-01-01</td>\n",
       "      <td>2001</td>\n",
       "    </tr>\n",
       "    <tr>\n",
       "      <th>1</th>\n",
       "      <td>41190</td>\n",
       "      <td>Jarvis</td>\n",
       "      <td>01/01/2001</td>\n",
       "      <td>1489.1</td>\n",
       "      <td>1054.0</td>\n",
       "      <td>718.0</td>\n",
       "      <td>40567</td>\n",
       "      <td>2001-01-01</td>\n",
       "      <td>2001</td>\n",
       "    </tr>\n",
       "  </tbody>\n",
       "</table>\n",
       "</div>"
      ],
      "text/plain": [
       "   station_id stationame month_beginning  avg_weekday_rides  \\\n",
       "0       40900     Howard      01/01/2001             6233.9   \n",
       "1       41190     Jarvis      01/01/2001             1489.1   \n",
       "\n",
       "   avg_saturday_rides  avg_sunday-holiday_rides  monthtotal  date_time  year  \n",
       "0              3814.5                    2408.6      164447 2001-01-01  2001  \n",
       "1              1054.0                     718.0       40567 2001-01-01  2001  "
      ]
     },
     "execution_count": 6,
     "metadata": {},
     "output_type": "execute_result"
    }
   ],
   "source": [
    "df['date_time'] = pd.to_datetime(df['month_beginning'])\n",
    "df['year'] = df['date_time'].dt.year\n",
    "df.head(2)"
   ]
  },
  {
   "cell_type": "code",
   "execution_count": 7,
   "metadata": {},
   "outputs": [
    {
     "data": {
      "text/plain": [
       "Text(0.5, 1.0, 'Weekly Rides 2001 - 2018')"
      ]
     },
     "execution_count": 7,
     "metadata": {},
     "output_type": "execute_result"
    },
    {
     "data": {
      "image/png": "[encoded data removed]",
      "text/plain": [
       "<Figure size 432x288 with 1 Axes>"
      ]
     },
     "metadata": {
      "needs_background": "light"
     },
     "output_type": "display_data"
    }
   ],
   "source": [
    "# df.plot(x='year', y='monthtotal')\n",
    "# plt.legend('Riders')\n",
    "# plt.xlabel('Years')\n",
    "# plt.ylabel('Number of Riders')\n",
    "# plt.title('Monthly Averages')\n",
    "\n",
    "ax = df.plot(x ='date_time', y='avg_weekday_rides')\n",
    "plt.legend('Riders')\n",
    "plt.xlabel('Years')\n",
    "plt.ylabel('Number of Riders')\n",
    "plt.title('Weekly Rides 2001 - 2018')"
   ]
  },
  {
   "cell_type": "markdown",
   "metadata": {},
   "source": [
    "#### Let's look at monthly instead of weekly totals by year to easily see the ridership trend. I'm removing the 2018 data since the year isn't over."
   ]
  },
  {
   "cell_type": "code",
   "execution_count": 8,
   "metadata": {},
   "outputs": [],
   "source": [
    "#remove 2018 data, and group each year\n",
    "year17 = df[(df['date_time'] >= '01/01/2001') & (df['date_time'] < '12/31/2017')]\n",
    "Year_Group = year17.groupby(['year'])\n",
    "#Year_Group.groups"
   ]
  },
  {
   "cell_type": "code",
   "execution_count": 9,
   "metadata": {},
   "outputs": [
    {
     "data": {
      "text/html": [
       "<div>\n",
       "<style scoped>\n",
       "    .dataframe tbody tr th:only-of-type {\n",
       "        vertical-align: middle;\n",
       "    }\n",
       "\n",
       "    .dataframe tbody tr th {\n",
       "        vertical-align: top;\n",
       "    }\n",
       "\n",
       "    .dataframe thead th {\n",
       "        text-align: right;\n",
       "    }\n",
       "</style>\n",
       "<table border=\"1\" class=\"dataframe\">\n",
       "  <thead>\n",
       "    <tr style=\"text-align: right;\">\n",
       "      <th></th>\n",
       "      <th>monthtotal</th>\n",
       "    </tr>\n",
       "    <tr>\n",
       "      <th>year</th>\n",
       "      <th></th>\n",
       "    </tr>\n",
       "  </thead>\n",
       "  <tbody>\n",
       "    <tr>\n",
       "      <th>2017</th>\n",
       "      <td>188665453</td>\n",
       "    </tr>\n",
       "    <tr>\n",
       "      <th>2016</th>\n",
       "      <td>195555726</td>\n",
       "    </tr>\n",
       "    <tr>\n",
       "      <th>2015</th>\n",
       "      <td>198041408</td>\n",
       "    </tr>\n",
       "    <tr>\n",
       "      <th>2014</th>\n",
       "      <td>194826886</td>\n",
       "    </tr>\n",
       "    <tr>\n",
       "      <th>2013</th>\n",
       "      <td>186706697</td>\n",
       "    </tr>\n",
       "  </tbody>\n",
       "</table>\n",
       "</div>"
      ],
      "text/plain": [
       "      monthtotal\n",
       "year            \n",
       "2017   188665453\n",
       "2016   195555726\n",
       "2015   198041408\n",
       "2014   194826886\n",
       "2013   186706697"
      ]
     },
     "execution_count": 9,
     "metadata": {},
     "output_type": "execute_result"
    }
   ],
   "source": [
    "# Sort the years by most recent into their own data frame, and get yearly totals\n",
    "Year_Totals = pd.DataFrame(Year_Group['monthtotal'].sum())\n",
    "Year_Totals.sort_index(ascending=False).head()"
   ]
  },
  {
   "cell_type": "code",
   "execution_count": 10,
   "metadata": {},
   "outputs": [
    {
     "data": {
      "text/plain": [
       "<matplotlib.axes._subplots.AxesSubplot at 0x1a46c225b00>"
      ]
     },
     "execution_count": 10,
     "metadata": {},
     "output_type": "execute_result"
    },
    {
     "data": {
      "image/png": "[encoded data removed]",
      "text/plain": [
       "<Figure size 432x288 with 1 Axes>"
      ]
     },
     "metadata": {
      "needs_background": "light"
     },
     "output_type": "display_data"
    }
   ],
   "source": [
    "Year_Totals.reset_index().plot(x='year', y='monthtotal')"
   ]
  },
  {
   "cell_type": "markdown",
   "metadata": {},
   "source": [
    "#### Ridership increased tremendously until about 2015, and now is on a decline."
   ]
  },
  {
   "cell_type": "code",
   "execution_count": 11,
   "metadata": {},
   "outputs": [
    {
     "data": {
      "text/plain": [
       "stationame\n",
       "18th                   8044284\n",
       "35-Bronzeville-IIT    11764360\n",
       "35th/Archer           14372574\n",
       "43rd                   5335842\n",
       "47th-Dan Ryan         16701543\n",
       "Name: monthtotal, dtype: int64"
      ]
     },
     "execution_count": 11,
     "metadata": {},
     "output_type": "execute_result"
    }
   ],
   "source": [
    "#Get total rides by station\n",
    "Station_Group = df.groupby(['stationame'])\n",
    "\n",
    "#total rides for each station\n",
    "Station_Group['monthtotal'].sum().head()"
   ]
  },
  {
   "cell_type": "code",
   "execution_count": 12,
   "metadata": {},
   "outputs": [],
   "source": [
    "#get the monthly totals for each station and then sort it from highest totals to least\n",
    "Station_Totals = pd.DataFrame(Station_Group['monthtotal'].sum())\n",
    "Station_Totals.sort_values(ascending=False,by='monthtotal',inplace=True)\n",
    "\n",
    "#save thetop 25 and bottom 25 into variables to call on and plot\n",
    "top25_stations = Station_Totals.head(25)\n",
    "bottom25_stations = Station_Totals.tail(25)"
   ]
  },
  {
   "cell_type": "markdown",
   "metadata": {},
   "source": [
    "#### These are the stations with the most and least amount of riders"
   ]
  },
  {
   "cell_type": "code",
   "execution_count": 23,
   "metadata": {},
   "outputs": [
    {
     "data": {
      "image/png": "[encoded data removed]",
      "text/plain": [
       "<Figure size 864x432 with 2 Axes>"
      ]
     },
     "metadata": {
      "needs_background": "light"
     },
     "output_type": "display_data"
    }
   ],
   "source": [
    "fig, (ax, ax2) = plt.subplots(1,2, figsize=(12, 6))\n",
    "\n",
    "\n",
    "top25_stations.plot(kind='bar',rot=90, ax=ax)\n",
    "ax.set_title(\"Top 25 Stations\")\n",
    "ax.set_ylabel('Number of Riders (Millions)')\n",
    "\n",
    "bottom25_stations.plot(kind='bar',rot=90, ax=ax2)\n",
    "ax2.set_title(\"Bottom 25 Stations\")\n",
    "ax2.set_ylabel('Number of Riders')\n",
    "\n",
    "plt.tight_layout()"
   ]
  },
  {
   "cell_type": "markdown",
   "metadata": {},
   "source": [
    "#### The two stations to focus on: 95th/Dan Ryan and Harlem-Forest Park"
   ]
  },
  {
   "cell_type": "code",
   "execution_count": 14,
   "metadata": {},
   "outputs": [
    {
     "name": "stdout",
     "output_type": "stream",
     "text": [
      "     station_id     stationame month_beginning  avg_weekday_rides  \\\n",
      "33        40450  95th/Dan Ryan      01/01/2001            14162.6   \n",
      "175       40450  95th/Dan Ryan      02/01/2001            14445.6   \n",
      "\n",
      "     avg_saturday_rides  avg_sunday-holiday_rides  monthtotal  date_time  year  \n",
      "33               7472.8                    4914.4      366040 2001-01-01  2001  \n",
      "175              7166.5                    5282.8      338708 2001-02-01  2001  \n"
     ]
    },
    {
     "data": {
      "text/html": [
       "<div>\n",
       "<style scoped>\n",
       "    .dataframe tbody tr th:only-of-type {\n",
       "        vertical-align: middle;\n",
       "    }\n",
       "\n",
       "    .dataframe tbody tr th {\n",
       "        vertical-align: top;\n",
       "    }\n",
       "\n",
       "    .dataframe thead th {\n",
       "        text-align: right;\n",
       "    }\n",
       "</style>\n",
       "<table border=\"1\" class=\"dataframe\">\n",
       "  <thead>\n",
       "    <tr style=\"text-align: right;\">\n",
       "      <th></th>\n",
       "      <th>station_id</th>\n",
       "      <th>avg_weekday_rides</th>\n",
       "      <th>avg_saturday_rides</th>\n",
       "      <th>avg_sunday-holiday_rides</th>\n",
       "      <th>monthtotal</th>\n",
       "      <th>year</th>\n",
       "    </tr>\n",
       "  </thead>\n",
       "  <tbody>\n",
       "    <tr>\n",
       "      <th>count</th>\n",
       "      <td>209.0</td>\n",
       "      <td>209.000000</td>\n",
       "      <td>209.000000</td>\n",
       "      <td>209.000000</td>\n",
       "      <td>209.000000</td>\n",
       "      <td>209.000000</td>\n",
       "    </tr>\n",
       "    <tr>\n",
       "      <th>mean</th>\n",
       "      <td>40450.0</td>\n",
       "      <td>12514.170813</td>\n",
       "      <td>7363.752632</td>\n",
       "      <td>5503.402392</td>\n",
       "      <td>324524.645933</td>\n",
       "      <td>2009.239234</td>\n",
       "    </tr>\n",
       "    <tr>\n",
       "      <th>std</th>\n",
       "      <td>0.0</td>\n",
       "      <td>2216.676352</td>\n",
       "      <td>1230.178676</td>\n",
       "      <td>965.675712</td>\n",
       "      <td>56170.226696</td>\n",
       "      <td>5.073516</td>\n",
       "    </tr>\n",
       "    <tr>\n",
       "      <th>min</th>\n",
       "      <td>40450.0</td>\n",
       "      <td>0.000000</td>\n",
       "      <td>0.000000</td>\n",
       "      <td>0.000000</td>\n",
       "      <td>0.000000</td>\n",
       "      <td>2001.000000</td>\n",
       "    </tr>\n",
       "    <tr>\n",
       "      <th>25%</th>\n",
       "      <td>40450.0</td>\n",
       "      <td>11511.400000</td>\n",
       "      <td>7068.400000</td>\n",
       "      <td>5127.800000</td>\n",
       "      <td>302029.000000</td>\n",
       "      <td>2005.000000</td>\n",
       "    </tr>\n",
       "    <tr>\n",
       "      <th>50%</th>\n",
       "      <td>40450.0</td>\n",
       "      <td>13014.400000</td>\n",
       "      <td>7568.800000</td>\n",
       "      <td>5547.700000</td>\n",
       "      <td>337279.000000</td>\n",
       "      <td>2009.000000</td>\n",
       "    </tr>\n",
       "    <tr>\n",
       "      <th>75%</th>\n",
       "      <td>40450.0</td>\n",
       "      <td>13850.800000</td>\n",
       "      <td>8037.300000</td>\n",
       "      <td>6047.800000</td>\n",
       "      <td>356173.000000</td>\n",
       "      <td>2014.000000</td>\n",
       "    </tr>\n",
       "    <tr>\n",
       "      <th>max</th>\n",
       "      <td>40450.0</td>\n",
       "      <td>15902.900000</td>\n",
       "      <td>9312.400000</td>\n",
       "      <td>7872.800000</td>\n",
       "      <td>410738.000000</td>\n",
       "      <td>2018.000000</td>\n",
       "    </tr>\n",
       "  </tbody>\n",
       "</table>\n",
       "</div>"
      ],
      "text/plain": [
       "       station_id  avg_weekday_rides  avg_saturday_rides  \\\n",
       "count       209.0         209.000000          209.000000   \n",
       "mean      40450.0       12514.170813         7363.752632   \n",
       "std           0.0        2216.676352         1230.178676   \n",
       "min       40450.0           0.000000            0.000000   \n",
       "25%       40450.0       11511.400000         7068.400000   \n",
       "50%       40450.0       13014.400000         7568.800000   \n",
       "75%       40450.0       13850.800000         8037.300000   \n",
       "max       40450.0       15902.900000         9312.400000   \n",
       "\n",
       "       avg_sunday-holiday_rides     monthtotal         year  \n",
       "count                209.000000     209.000000   209.000000  \n",
       "mean                5503.402392  324524.645933  2009.239234  \n",
       "std                  965.675712   56170.226696     5.073516  \n",
       "min                    0.000000       0.000000  2001.000000  \n",
       "25%                 5127.800000  302029.000000  2005.000000  \n",
       "50%                 5547.700000  337279.000000  2009.000000  \n",
       "75%                 6047.800000  356173.000000  2014.000000  \n",
       "max                 7872.800000  410738.000000  2018.000000  "
      ]
     },
     "execution_count": 14,
     "metadata": {},
     "output_type": "execute_result"
    }
   ],
   "source": [
    "DanRyan_station = df[df['stationame'] == '95th/Dan Ryan']\n",
    "print(DanRyan_station.head(2))\n",
    "DanRyan_station.describe()"
   ]
  },
  {
   "cell_type": "code",
   "execution_count": 15,
   "metadata": {},
   "outputs": [
    {
     "name": "stdout",
     "output_type": "stream",
     "text": [
      "     station_id          stationame month_beginning  avg_weekday_rides  \\\n",
      "73        40980  Harlem-Forest Park      01/01/2001              785.7   \n",
      "215       40980  Harlem-Forest Park      02/01/2001              802.3   \n",
      "\n",
      "     avg_saturday_rides  avg_sunday-holiday_rides  monthtotal  date_time  year  \n",
      "73                377.0                     233.4       19961 2001-01-01  2001  \n",
      "215               390.3                     276.3       18711 2001-02-01  2001  \n"
     ]
    },
    {
     "data": {
      "text/html": [
       "<div>\n",
       "<style scoped>\n",
       "    .dataframe tbody tr th:only-of-type {\n",
       "        vertical-align: middle;\n",
       "    }\n",
       "\n",
       "    .dataframe tbody tr th {\n",
       "        vertical-align: top;\n",
       "    }\n",
       "\n",
       "    .dataframe thead th {\n",
       "        text-align: right;\n",
       "    }\n",
       "</style>\n",
       "<table border=\"1\" class=\"dataframe\">\n",
       "  <thead>\n",
       "    <tr style=\"text-align: right;\">\n",
       "      <th></th>\n",
       "      <th>station_id</th>\n",
       "      <th>avg_weekday_rides</th>\n",
       "      <th>avg_saturday_rides</th>\n",
       "      <th>avg_sunday-holiday_rides</th>\n",
       "      <th>monthtotal</th>\n",
       "      <th>year</th>\n",
       "    </tr>\n",
       "  </thead>\n",
       "  <tbody>\n",
       "    <tr>\n",
       "      <th>count</th>\n",
       "      <td>210.0</td>\n",
       "      <td>210.000000</td>\n",
       "      <td>210.000000</td>\n",
       "      <td>210.000000</td>\n",
       "      <td>210.000000</td>\n",
       "      <td>210.000000</td>\n",
       "    </tr>\n",
       "    <tr>\n",
       "      <th>mean</th>\n",
       "      <td>40980.0</td>\n",
       "      <td>1013.570000</td>\n",
       "      <td>575.597619</td>\n",
       "      <td>405.034286</td>\n",
       "      <td>26007.190476</td>\n",
       "      <td>2009.257143</td>\n",
       "    </tr>\n",
       "    <tr>\n",
       "      <th>std</th>\n",
       "      <td>0.0</td>\n",
       "      <td>167.539364</td>\n",
       "      <td>101.389865</td>\n",
       "      <td>93.742030</td>\n",
       "      <td>4442.783611</td>\n",
       "      <td>5.068013</td>\n",
       "    </tr>\n",
       "    <tr>\n",
       "      <th>min</th>\n",
       "      <td>40980.0</td>\n",
       "      <td>703.000000</td>\n",
       "      <td>377.000000</td>\n",
       "      <td>233.400000</td>\n",
       "      <td>17969.000000</td>\n",
       "      <td>2001.000000</td>\n",
       "    </tr>\n",
       "    <tr>\n",
       "      <th>25%</th>\n",
       "      <td>40980.0</td>\n",
       "      <td>872.675000</td>\n",
       "      <td>502.925000</td>\n",
       "      <td>333.325000</td>\n",
       "      <td>22320.500000</td>\n",
       "      <td>2005.000000</td>\n",
       "    </tr>\n",
       "    <tr>\n",
       "      <th>50%</th>\n",
       "      <td>40980.0</td>\n",
       "      <td>991.150000</td>\n",
       "      <td>561.500000</td>\n",
       "      <td>393.000000</td>\n",
       "      <td>25484.500000</td>\n",
       "      <td>2009.000000</td>\n",
       "    </tr>\n",
       "    <tr>\n",
       "      <th>75%</th>\n",
       "      <td>40980.0</td>\n",
       "      <td>1148.850000</td>\n",
       "      <td>650.800000</td>\n",
       "      <td>470.850000</td>\n",
       "      <td>29489.000000</td>\n",
       "      <td>2014.000000</td>\n",
       "    </tr>\n",
       "    <tr>\n",
       "      <th>max</th>\n",
       "      <td>40980.0</td>\n",
       "      <td>1376.500000</td>\n",
       "      <td>839.800000</td>\n",
       "      <td>690.800000</td>\n",
       "      <td>35756.000000</td>\n",
       "      <td>2018.000000</td>\n",
       "    </tr>\n",
       "  </tbody>\n",
       "</table>\n",
       "</div>"
      ],
      "text/plain": [
       "       station_id  avg_weekday_rides  avg_saturday_rides  \\\n",
       "count       210.0         210.000000          210.000000   \n",
       "mean      40980.0        1013.570000          575.597619   \n",
       "std           0.0         167.539364          101.389865   \n",
       "min       40980.0         703.000000          377.000000   \n",
       "25%       40980.0         872.675000          502.925000   \n",
       "50%       40980.0         991.150000          561.500000   \n",
       "75%       40980.0        1148.850000          650.800000   \n",
       "max       40980.0        1376.500000          839.800000   \n",
       "\n",
       "       avg_sunday-holiday_rides    monthtotal         year  \n",
       "count                210.000000    210.000000   210.000000  \n",
       "mean                 405.034286  26007.190476  2009.257143  \n",
       "std                   93.742030   4442.783611     5.068013  \n",
       "min                  233.400000  17969.000000  2001.000000  \n",
       "25%                  333.325000  22320.500000  2005.000000  \n",
       "50%                  393.000000  25484.500000  2009.000000  \n",
       "75%                  470.850000  29489.000000  2014.000000  \n",
       "max                  690.800000  35756.000000  2018.000000  "
      ]
     },
     "execution_count": 15,
     "metadata": {},
     "output_type": "execute_result"
    }
   ],
   "source": [
    "HForestPark_station = df[df['stationame'] == 'Harlem-Forest Park']\n",
    "print(HForestPark_station.head(2))\n",
    "HForestPark_station.describe()"
   ]
  },
  {
   "cell_type": "markdown",
   "metadata": {},
   "source": [
    "## The Problem\n",
    "> Over the last 10 years, the overall ridership of the Chicago Transit Authority (CTA) trains has been on an increase until the last two years. Some of the reasoning for the sudden decline has been people relocating out of the city, an increase in telecommuting, and ride share initiatives like Uber and Lyft.\n",
    "> How can the CTA increase ridership to make ease of mobility in the city of Chicago accessible and desired by all?\n",
    "\n",
    "## Hypothesis Proposal \n",
    "> The CTA should team up with ride share programs like Uber or Lyft to offer customers discounted Uber rate when being picked up from a train station. \n",
    "\n",
    "## Rollout \n",
    "> The trains in the loop area haven’t seen much decline so the focus should be on popular stations outside of the loop. The redline is the most populous train line with stops from the south side to the north side. The top performing stop outside of the loop is the south side’s 95th/Dan Ryan red line stop. The next most populous line is the Blue line, because of its access to Chicago’s number one airport (O’hare). The blue line has one of the least populated stops (of all the lines) at Harlem – Forest Park on the west side. \n",
    "\n",
    "## Evaluation \n",
    "> The CTA should offer discounted rates to Uber/Lyft customers getting picked up from those two stops for 2 months (since a single station averages 3,899 riders daily). It will be set up like an A/B test, with the previous recorded ridership as its control group, and the new riders being offered the promotion is the test group. The two groups for the sample will be the red line riders (higher performing stop), and the blue line riders (lower performing stop).\n",
    "\n",
    "> Other measured variables will include any event that may stop or significantly slow service, like bad weather that affects one or both lines, if there is an accident, if there is construction, etc.\n",
    "\n",
    "> Key metrics are ridership increases for each group.\n",
    "If weekday ridership doesn’t increase by 1 standard deviation (95th/Dan Ryan 2216 rides, and Harlem-forest park 168 rides) after 2 months, then get rid of the program, and if it increases by 1 standard deviation, keep the program and expand to other stations.  \n",
    "If ridership showed an increase by ½ standard deviation or more, continue the trial for another two months. Then refer back to the initial guidelines.\n",
    "If ridership only increases at one stop, continue the offer to other stops on that line and monitor which areas of that line react well. For the other line that doesn’t take on to the program, stop the trial and consider trying another line."
   ]
  },
  {
   "cell_type": "code",
   "execution_count": null,
   "metadata": {},
   "outputs": [],
   "source": []
  }
 ],
 "metadata": {
  "celltoolbar": "Raw Cell Format",
  "kernelspec": {
   "display_name": "Python 3",
   "language": "python",
   "name": "python3"
  },
  "language_info": {
   "codemirror_mode": {
    "name": "ipython",
    "version": 3
   },
   "file_extension": ".py",
   "mimetype": "text/x-python",
   "name": "python",
   "nbconvert_exporter": "python",
   "pygments_lexer": "ipython3",
   "version": "3.6.6"
  }
 },
 "nbformat": 4,
 "nbformat_minor": 2
}
